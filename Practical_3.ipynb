{
  "nbformat": 4,
  "nbformat_minor": 0,
  "metadata": {
    "colab": {
      "name": " Practical 3.ipynb",
      "provenance": [],
      "collapsed_sections": []
    },
    "kernelspec": {
      "name": "python3",
      "display_name": "Python 3"
    },
    "language_info": {
      "name": "python"
    }
  },
  "cells": [
    {
      "cell_type": "markdown",
      "source": [
        "Descriptive Statistical Analysis-\n",
        "Practical 3"
      ],
      "metadata": {
        "id": "bDJAGyv8VaaK"
      }
    },
    {
      "cell_type": "markdown",
      "source": [
        "Import Required Packages"
      ],
      "metadata": {
        "id": "qmjf4MhXW4Hu"
      }
    },
    {
      "cell_type": "code",
      "execution_count": null,
      "metadata": {
        "colab": {
          "base_uri": "https://localhost:8080/"
        },
        "id": "6lgC8JyqVNkE",
        "outputId": "2b645aee-de49-45b5-9d5b-826ce7eac950"
      },
      "outputs": [
        {
          "output_type": "stream",
          "name": "stderr",
          "text": [
            "/usr/local/lib/python3.7/dist-packages/statsmodels/tools/_testing.py:19: FutureWarning: pandas.util.testing is deprecated. Use the functions in the public API at pandas.testing instead.\n",
            "  import pandas.util.testing as tm\n"
          ]
        }
      ],
      "source": [
        "%matplotlib inline\n",
        "\n",
        "from pathlib import Path\n",
        "import random\n",
        "\n",
        "import pandas as pd\n",
        "import numpy as np\n",
        "\n",
        "from scipy import stats\n",
        "import statsmodels.api as sm\n",
        "import statsmodels.formula.api as smf\n",
        "from statsmodels.stats import power\n",
        "\n",
        "import matplotlib.pylab as plt"
      ]
    },
    {
      "cell_type": "code",
      "source": [
        "try:\n",
        "    import common\n",
        "    DATA = common.dataDirectory()\n",
        "except ImportError:\n",
        "    DATA = Path().resolve() / 'data'"
      ],
      "metadata": {
        "id": "AzB_IsX2XfG6"
      },
      "execution_count": null,
      "outputs": []
    },
    {
      "cell_type": "markdown",
      "source": [
        "Define paths to data sets. If you don't keep your data in the same directory as the code, adapt the path names."
      ],
      "metadata": {
        "id": "5LXrTLJSXsUu"
      }
    },
    {
      "cell_type": "code",
      "source": [
        "WEB_PAGE_DATA_CSV = DATA / 'web_page_data.csv'\n",
        "FOUR_SESSIONS_CSV = DATA / 'four_sessions.csv'\n",
        "CLICK_RATE_CSV = DATA / 'click_rates.csv'\n",
        "IMANISHI_CSV = DATA / 'imanishi_data.csv'"
      ],
      "metadata": {
        "id": "DIdpH9jiXhal"
      },
      "execution_count": null,
      "outputs": []
    },
    {
      "cell_type": "markdown",
      "source": [
        "Resampling"
      ],
      "metadata": {
        "id": "bymKBnOLX3AN"
      }
    },
    {
      "cell_type": "code",
      "source": [
        "session_times = pd.read_csv(\"Web-page.csv\")\n",
        "session_times.Time = 100 * session_times.Time\n",
        "session_times\n",
        "\n",
        "\n"
      ],
      "metadata": {
        "colab": {
          "base_uri": "https://localhost:8080/",
          "height": 1000
        },
        "id": "m4xx1gJCdEqI",
        "outputId": "5896a393-6386-4149-9fcd-3b3e334d7ebc"
      },
      "execution_count": null,
      "outputs": [
        {
          "output_type": "execute_result",
          "data": {
            "text/html": [
              "<div>\n",
              "<style scoped>\n",
              "    .dataframe tbody tr th:only-of-type {\n",
              "        vertical-align: middle;\n",
              "    }\n",
              "\n",
              "    .dataframe tbody tr th {\n",
              "        vertical-align: top;\n",
              "    }\n",
              "\n",
              "    .dataframe thead th {\n",
              "        text-align: right;\n",
              "    }\n",
              "</style>\n",
              "<table border=\"1\" class=\"dataframe\">\n",
              "  <thead>\n",
              "    <tr style=\"text-align: right;\">\n",
              "      <th></th>\n",
              "      <th>Page</th>\n",
              "      <th>Time</th>\n",
              "    </tr>\n",
              "  </thead>\n",
              "  <tbody>\n",
              "    <tr>\n",
              "      <th>0</th>\n",
              "      <td>Page A</td>\n",
              "      <td>21.0</td>\n",
              "    </tr>\n",
              "    <tr>\n",
              "      <th>1</th>\n",
              "      <td>Page B</td>\n",
              "      <td>253.0</td>\n",
              "    </tr>\n",
              "    <tr>\n",
              "      <th>2</th>\n",
              "      <td>Page A</td>\n",
              "      <td>35.0</td>\n",
              "    </tr>\n",
              "    <tr>\n",
              "      <th>3</th>\n",
              "      <td>Page B</td>\n",
              "      <td>71.0</td>\n",
              "    </tr>\n",
              "    <tr>\n",
              "      <th>4</th>\n",
              "      <td>Page A</td>\n",
              "      <td>67.0</td>\n",
              "    </tr>\n",
              "    <tr>\n",
              "      <th>5</th>\n",
              "      <td>Page B</td>\n",
              "      <td>85.0</td>\n",
              "    </tr>\n",
              "    <tr>\n",
              "      <th>6</th>\n",
              "      <td>Page A</td>\n",
              "      <td>211.0</td>\n",
              "    </tr>\n",
              "    <tr>\n",
              "      <th>7</th>\n",
              "      <td>Page B</td>\n",
              "      <td>246.0</td>\n",
              "    </tr>\n",
              "    <tr>\n",
              "      <th>8</th>\n",
              "      <td>Page A</td>\n",
              "      <td>132.0</td>\n",
              "    </tr>\n",
              "    <tr>\n",
              "      <th>9</th>\n",
              "      <td>Page B</td>\n",
              "      <td>149.0</td>\n",
              "    </tr>\n",
              "    <tr>\n",
              "      <th>10</th>\n",
              "      <td>Page A</td>\n",
              "      <td>68.0</td>\n",
              "    </tr>\n",
              "    <tr>\n",
              "      <th>11</th>\n",
              "      <td>Page B</td>\n",
              "      <td>75.0</td>\n",
              "    </tr>\n",
              "    <tr>\n",
              "      <th>12</th>\n",
              "      <td>Page A</td>\n",
              "      <td>321.0</td>\n",
              "    </tr>\n",
              "    <tr>\n",
              "      <th>13</th>\n",
              "      <td>Page B</td>\n",
              "      <td>333.0</td>\n",
              "    </tr>\n",
              "    <tr>\n",
              "      <th>14</th>\n",
              "      <td>Page A</td>\n",
              "      <td>147.0</td>\n",
              "    </tr>\n",
              "    <tr>\n",
              "      <th>15</th>\n",
              "      <td>Page B</td>\n",
              "      <td>187.0</td>\n",
              "    </tr>\n",
              "    <tr>\n",
              "      <th>16</th>\n",
              "      <td>Page A</td>\n",
              "      <td>95.0</td>\n",
              "    </tr>\n",
              "    <tr>\n",
              "      <th>17</th>\n",
              "      <td>Page B</td>\n",
              "      <td>126.0</td>\n",
              "    </tr>\n",
              "    <tr>\n",
              "      <th>18</th>\n",
              "      <td>Page A</td>\n",
              "      <td>45.0</td>\n",
              "    </tr>\n",
              "    <tr>\n",
              "      <th>19</th>\n",
              "      <td>Page B</td>\n",
              "      <td>48.0</td>\n",
              "    </tr>\n",
              "    <tr>\n",
              "      <th>20</th>\n",
              "      <td>Page A</td>\n",
              "      <td>118.0</td>\n",
              "    </tr>\n",
              "    <tr>\n",
              "      <th>21</th>\n",
              "      <td>Page B</td>\n",
              "      <td>147.0</td>\n",
              "    </tr>\n",
              "    <tr>\n",
              "      <th>22</th>\n",
              "      <td>Page A</td>\n",
              "      <td>342.0</td>\n",
              "    </tr>\n",
              "    <tr>\n",
              "      <th>23</th>\n",
              "      <td>Page B</td>\n",
              "      <td>357.0</td>\n",
              "    </tr>\n",
              "    <tr>\n",
              "      <th>24</th>\n",
              "      <td>Page A</td>\n",
              "      <td>197.0</td>\n",
              "    </tr>\n",
              "    <tr>\n",
              "      <th>25</th>\n",
              "      <td>Page B</td>\n",
              "      <td>223.0</td>\n",
              "    </tr>\n",
              "    <tr>\n",
              "      <th>26</th>\n",
              "      <td>Page A</td>\n",
              "      <td>39.0</td>\n",
              "    </tr>\n",
              "    <tr>\n",
              "      <th>27</th>\n",
              "      <td>Page B</td>\n",
              "      <td>43.0</td>\n",
              "    </tr>\n",
              "    <tr>\n",
              "      <th>28</th>\n",
              "      <td>Page A</td>\n",
              "      <td>65.0</td>\n",
              "    </tr>\n",
              "    <tr>\n",
              "      <th>29</th>\n",
              "      <td>Page B</td>\n",
              "      <td>87.0</td>\n",
              "    </tr>\n",
              "    <tr>\n",
              "      <th>30</th>\n",
              "      <td>Page A</td>\n",
              "      <td>173.0</td>\n",
              "    </tr>\n",
              "    <tr>\n",
              "      <th>31</th>\n",
              "      <td>Page A</td>\n",
              "      <td>74.0</td>\n",
              "    </tr>\n",
              "    <tr>\n",
              "      <th>32</th>\n",
              "      <td>Page A</td>\n",
              "      <td>86.0</td>\n",
              "    </tr>\n",
              "    <tr>\n",
              "      <th>33</th>\n",
              "      <td>Page A</td>\n",
              "      <td>118.0</td>\n",
              "    </tr>\n",
              "    <tr>\n",
              "      <th>34</th>\n",
              "      <td>Page A</td>\n",
              "      <td>206.0</td>\n",
              "    </tr>\n",
              "    <tr>\n",
              "      <th>35</th>\n",
              "      <td>Page A</td>\n",
              "      <td>93.0</td>\n",
              "    </tr>\n",
              "  </tbody>\n",
              "</table>\n",
              "</div>"
            ],
            "text/plain": [
              "      Page   Time\n",
              "0   Page A   21.0\n",
              "1   Page B  253.0\n",
              "2   Page A   35.0\n",
              "3   Page B   71.0\n",
              "4   Page A   67.0\n",
              "5   Page B   85.0\n",
              "6   Page A  211.0\n",
              "7   Page B  246.0\n",
              "8   Page A  132.0\n",
              "9   Page B  149.0\n",
              "10  Page A   68.0\n",
              "11  Page B   75.0\n",
              "12  Page A  321.0\n",
              "13  Page B  333.0\n",
              "14  Page A  147.0\n",
              "15  Page B  187.0\n",
              "16  Page A   95.0\n",
              "17  Page B  126.0\n",
              "18  Page A   45.0\n",
              "19  Page B   48.0\n",
              "20  Page A  118.0\n",
              "21  Page B  147.0\n",
              "22  Page A  342.0\n",
              "23  Page B  357.0\n",
              "24  Page A  197.0\n",
              "25  Page B  223.0\n",
              "26  Page A   39.0\n",
              "27  Page B   43.0\n",
              "28  Page A   65.0\n",
              "29  Page B   87.0\n",
              "30  Page A  173.0\n",
              "31  Page A   74.0\n",
              "32  Page A   86.0\n",
              "33  Page A  118.0\n",
              "34  Page A  206.0\n",
              "35  Page A   93.0"
            ]
          },
          "metadata": {},
          "execution_count": 14
        }
      ]
    },
    {
      "cell_type": "code",
      "source": [
        "ax = session_times.boxplot(by='Page', column='Time',\n",
        "                           figsize=(4, 4))\n",
        "ax.set_xlabel('')\n",
        "ax.set_ylabel('Time (in seconds)')\n",
        "plt.suptitle('')\n",
        "\n",
        "plt.tight_layout()\n",
        "plt.show()"
      ],
      "metadata": {
        "colab": {
          "base_uri": "https://localhost:8080/",
          "height": 352
        },
        "id": "bS3wTxr0g_j8",
        "outputId": "88f2da7e-aa7a-480a-c5d8-c522d1c8d407"
      },
      "execution_count": null,
      "outputs": [
        {
          "output_type": "stream",
          "name": "stderr",
          "text": [
            "/usr/local/lib/python3.7/dist-packages/numpy/core/_asarray.py:83: VisibleDeprecationWarning: Creating an ndarray from ragged nested sequences (which is a list-or-tuple of lists-or-tuples-or ndarrays with different lengths or shapes) is deprecated. If you meant to do this, you must specify 'dtype=object' when creating the ndarray\n",
            "  return array(a, dtype, copy=False, order=order)\n"
          ]
        },
        {
          "output_type": "display_data",
          "data": {
            "image/png": "[encoded data removed]",
            "text/plain": [
              "<Figure size 288x288 with 1 Axes>"
            ]
          },
          "metadata": {
            "needs_background": "light"
          }
        }
      ]
    },
    {
      "cell_type": "code",
      "source": [
        "mean_a = session_times[session_times.Page == 'Page A'].Time.mean()\n",
        "mean_b = session_times[session_times.Page == 'Page B'].Time.mean()\n",
        "print(mean_b - mean_a)"
      ],
      "metadata": {
        "colab": {
          "base_uri": "https://localhost:8080/"
        },
        "id": "5OjOHWlUi3w4",
        "outputId": "101ed75d-9ba0-4391-f5b4-f40b18767cde"
      },
      "execution_count": null,
      "outputs": [
        {
          "output_type": "stream",
          "name": "stdout",
          "text": [
            "35.66666666666667\n"
          ]
        }
      ]
    },
    {
      "cell_type": "markdown",
      "source": [
        "The following code is different to the R version. idx_A and idx_B are reversed."
      ],
      "metadata": {
        "id": "aQRz5MxOjrRv"
      }
    },
    {
      "cell_type": "code",
      "source": [
        "# Permutation test example with stickiness\n",
        "def perm_fun(x, nA, nB):\n",
        "    n = nA + nB\n",
        "    idx_B = set(random.sample(range(n), nB))\n",
        "    idx_A = set(range(n)) - idx_B\n",
        "    return x.loc[idx_B].mean() - x.loc[idx_A].mean()\n",
        "    \n",
        "nA = session_times[session_times.Page == 'Page A'].shape[0]\n",
        "nB = session_times[session_times.Page == 'Page B'].shape[0]\n",
        "print(perm_fun(session_times.Time, nA, nB))"
      ],
      "metadata": {
        "colab": {
          "base_uri": "https://localhost:8080/"
        },
        "id": "na-RMyR3jbIy",
        "outputId": "0003d18a-7e2f-4d2b-8588-373035443b66"
      },
      "execution_count": null,
      "outputs": [
        {
          "output_type": "stream",
          "name": "stdout",
          "text": [
            "19.895238095238113\n"
          ]
        }
      ]
    },
    {
      "cell_type": "code",
      "source": [
        "random.seed(1)\n",
        "perm_diffs = [perm_fun(session_times.Time, nA, nB) for _ in range(1000)]\n",
        "\n",
        "fig, ax = plt.subplots(figsize=(5, 5))\n",
        "ax.hist(perm_diffs, bins=11, rwidth=0.9)\n",
        "ax.axvline(x = mean_b - mean_a, color='black', lw=2)\n",
        "ax.text(50, 190, 'Observed\\ndifference', bbox={'facecolor':'white'})\n",
        "ax.set_xlabel('Session time differences (in seconds)')\n",
        "ax.set_ylabel('Frequency')\n",
        "\n",
        "plt.tight_layout()\n",
        "plt.show()"
      ],
      "metadata": {
        "colab": {
          "base_uri": "https://localhost:8080/",
          "height": 369
        },
        "id": "re80nyRWlEGy",
        "outputId": "b223754f-821a-4123-b96d-1d6e4caded54"
      },
      "execution_count": null,
      "outputs": [
        {
          "output_type": "display_data",
          "data": {
            "image/png": "[encoded data removed]",
            "text/plain": [
              "<Figure size 360x360 with 1 Axes>"
            ]
          },
          "metadata": {
            "needs_background": "light"
          }
        }
      ]
    },
    {
      "cell_type": "markdown",
      "source": [
        "Statistical Significance and P-Values"
      ],
      "metadata": {
        "id": "mHNaSy4ynAnL"
      }
    },
    {
      "cell_type": "code",
      "source": [
        "random.seed(1)\n",
        "obs_pct_diff = 100 * (200 / 23739 - 182 / 22588)\n",
        "print(f'Observed difference: {obs_pct_diff:.4f}%')\n",
        "conversion = [0] * 45945\n",
        "conversion.extend([1] * 382)\n",
        "conversion = pd.Series(conversion)\n",
        "\n",
        "perm_diffs = [100 * perm_fun(conversion, 23739, 22588) \n",
        "              for _ in range(1000)]\n",
        "\n",
        "fig, ax = plt.subplots(figsize=(5, 5))\n",
        "ax.hist(perm_diffs, bins=11, rwidth=0.9)\n",
        "ax.axvline(x=obs_pct_diff, color='black', lw=2)\n",
        "ax.text(0.06, 200, 'Observed\\ndifference', bbox={'facecolor':'white'})\n",
        "ax.set_xlabel('Conversion rate (percent)')\n",
        "ax.set_ylabel('Frequency')\n",
        "\n",
        "plt.tight_layout()\n",
        "plt.show()"
      ],
      "metadata": {
        "colab": {
          "base_uri": "https://localhost:8080/",
          "height": 386
        },
        "id": "VOJx7_1_lRkp",
        "outputId": "043cfa09-bd27-483f-9d68-5c4a154fd19c"
      },
      "execution_count": null,
      "outputs": [
        {
          "output_type": "stream",
          "name": "stdout",
          "text": [
            "Observed difference: 0.0368%\n"
          ]
        },
        {
          "output_type": "display_data",
          "data": {
            "image/png": "[encoded data removed]",
            "text/plain": [
              "<Figure size 360x360 with 1 Axes>"
            ]
          },
          "metadata": {
            "needs_background": "light"
          }
        }
      ]
    },
    {
      "cell_type": "markdown",
      "source": [
        "P-Value"
      ],
      "metadata": {
        "id": "O9uuRPIFnsVt"
      }
    },
    {
      "cell_type": "markdown",
      "source": [
        "If np.mean is applied to a list of booleans, it gives the percentage of how often True was found in the list (#True / #Total)."
      ],
      "metadata": {
        "id": "8T00MlxFnwpS"
      }
    },
    {
      "cell_type": "code",
      "source": [
        "print(np.mean([diff > obs_pct_diff for diff in perm_diffs]))"
      ],
      "metadata": {
        "colab": {
          "base_uri": "https://localhost:8080/"
        },
        "id": "QrHVvKz8g7gM",
        "outputId": "929a9829-5000-4592-d4c2-853e9d8eb1ea"
      },
      "execution_count": null,
      "outputs": [
        {
          "output_type": "stream",
          "name": "stdout",
          "text": [
            "0.332\n"
          ]
        }
      ]
    },
    {
      "cell_type": "code",
      "source": [
        "survivors = np.array([[200, 23739 - 200], [182, 22588 - 182]])\n",
        "chi2, p_value, df, _ = stats.chi2_contingency(survivors)\n",
        "\n",
        "print(f'p-value for single sided test: {p_value / 2:.4f}')"
      ],
      "metadata": {
        "colab": {
          "base_uri": "https://localhost:8080/"
        },
        "id": "JS0_NVnsoAJD",
        "outputId": "770156ad-d0aa-4ccd-e4a4-b43f9e9cf39b"
      },
      "execution_count": null,
      "outputs": [
        {
          "output_type": "stream",
          "name": "stdout",
          "text": [
            "p-value for single sided test: 0.3498\n"
          ]
        }
      ]
    },
    {
      "cell_type": "markdown",
      "source": [
        "t-Tests"
      ],
      "metadata": {
        "id": "TLZX3dMZoTU3"
      }
    },
    {
      "cell_type": "code",
      "source": [
        "res = stats.ttest_ind(session_times[session_times.Page == 'Page A'].Time, \n",
        "                      session_times[session_times.Page == 'Page B'].Time,\n",
        "                      equal_var=False)\n",
        "print(f'p-value for single sided test: {res.pvalue / 2:.4f}')"
      ],
      "metadata": {
        "colab": {
          "base_uri": "https://localhost:8080/"
        },
        "id": "sy8L3saPoOlE",
        "outputId": "ce13294c-bdde-44fa-9ff2-0b61c24af348"
      },
      "execution_count": null,
      "outputs": [
        {
          "output_type": "stream",
          "name": "stdout",
          "text": [
            "p-value for single sided test: 0.1408\n"
          ]
        }
      ]
    },
    {
      "cell_type": "code",
      "source": [
        "tstat, pvalue, df = sm.stats.ttest_ind(\n",
        "    session_times[session_times.Page == 'Page A'].Time, \n",
        "    session_times[session_times.Page == 'Page B'].Time,\n",
        "    usevar='unequal', alternative='smaller')\n",
        "print(f'p-value: {pvalue:.4f}')"
      ],
      "metadata": {
        "colab": {
          "base_uri": "https://localhost:8080/"
        },
        "id": "GIHD48tSo9ol",
        "outputId": "3151572e-e576-4df1-8c6a-dfa06502d681"
      },
      "execution_count": null,
      "outputs": [
        {
          "output_type": "stream",
          "name": "stdout",
          "text": [
            "p-value: 0.1408\n"
          ]
        }
      ]
    },
    {
      "cell_type": "markdown",
      "source": [
        "ANOVA"
      ],
      "metadata": {
        "id": "acJxEWVOpYz9"
      }
    },
    {
      "cell_type": "code",
      "source": [
        "four_sessions = pd.read_csv(\"/content/Four_Session.csv\")\n",
        "\n",
        "ax = four_sessions.boxplot(by='Page', column='Time',\n",
        "                           figsize=(4, 4))\n",
        "ax.set_xlabel('Page')\n",
        "ax.set_ylabel('Time (in seconds)')\n",
        "plt.suptitle('')\n",
        "plt.title('')\n",
        "\n",
        "plt.tight_layout()\n",
        "plt.show()"
      ],
      "metadata": {
        "colab": {
          "base_uri": "https://localhost:8080/",
          "height": 297
        },
        "id": "1vtrU5JrpPdB",
        "outputId": "07decce2-8282-4f87-b60f-d2df53bc696a"
      },
      "execution_count": null,
      "outputs": [
        {
          "output_type": "display_data",
          "data": {
            "image/png": "[encoded data removed]",
            "text/plain": [
              "<Figure size 288x288 with 1 Axes>"
            ]
          },
          "metadata": {
            "needs_background": "light"
          }
        }
      ]
    },
    {
      "cell_type": "code",
      "source": [
        "print(pd.read_csv(\"/content/Four_Session.csv\").head())"
      ],
      "metadata": {
        "colab": {
          "base_uri": "https://localhost:8080/"
        },
        "id": "hQCpWJ6As9ms",
        "outputId": "68e59ccd-d3a0-4e54-e5af-5ebc6468d8f9"
      },
      "execution_count": null,
      "outputs": [
        {
          "output_type": "stream",
          "name": "stdout",
          "text": [
            "     Page  Time\n",
            "0  Page 1   164\n",
            "1  Page 2   178\n",
            "2  Page 3   175\n",
            "3  Page 4   155\n",
            "4  Page 1   172\n"
          ]
        }
      ]
    },
    {
      "cell_type": "code",
      "source": [
        "observed_variance = four_sessions.groupby('Page').mean().var()[0]\n",
        "print('Observed means:', four_sessions.groupby('Page').mean().values.ravel())\n",
        "print('Variance:', observed_variance)\n",
        "# Permutation test example with stickiness\n",
        "def perm_test(df):\n",
        "    df = df.copy()\n",
        "    df['Time'] = np.random.permutation(df['Time'].values)\n",
        "    return df.groupby('Page').mean().var()[0]\n",
        "    \n",
        "print(perm_test(four_sessions))"
      ],
      "metadata": {
        "colab": {
          "base_uri": "https://localhost:8080/"
        },
        "id": "XFSRXqqgtlBm",
        "outputId": "1ded04fe-6d29-479b-b574-2a17100c1a00"
      },
      "execution_count": null,
      "outputs": [
        {
          "output_type": "stream",
          "name": "stdout",
          "text": [
            "Observed means: [172.8 182.6 175.6 164.6]\n",
            "Variance: 55.426666666666655\n",
            "19.986666666666636\n"
          ]
        }
      ]
    },
    {
      "cell_type": "code",
      "source": [
        "random.seed(1)\n",
        "perm_variance = [perm_test(four_sessions) for _ in range(3000)]\n",
        "print('Pr(Prob)', np.mean([var > observed_variance for var in perm_variance]))\n",
        "\n",
        "fig, ax = plt.subplots(figsize=(5, 5))\n",
        "ax.hist(perm_variance, bins=11, rwidth=0.9)\n",
        "ax.axvline(x = observed_variance, color='black', lw=2)\n",
        "ax.text(60, 200, 'Observed\\nvariance', bbox={'facecolor':'white'})\n",
        "ax.set_xlabel('Variance')\n",
        "ax.set_ylabel('Frequency')\n",
        "\n",
        "plt.tight_layout()\n",
        "plt.show()"
      ],
      "metadata": {
        "colab": {
          "base_uri": "https://localhost:8080/",
          "height": 386
        },
        "id": "gMhJhHN7tt3V",
        "outputId": "9e415da0-83f6-4d2c-c95c-7ac0094cc7f3"
      },
      "execution_count": null,
      "outputs": [
        {
          "output_type": "stream",
          "name": "stdout",
          "text": [
            "Pr(Prob) 0.086\n"
          ]
        },
        {
          "output_type": "display_data",
          "data": {
            "image/png": "[encoded data removed]",
            "text/plain": [
              "<Figure size 360x360 with 1 Axes>"
            ]
          },
          "metadata": {
            "needs_background": "light"
          }
        }
      ]
    },
    {
      "cell_type": "markdown",
      "source": [
        "F-Statistic"
      ],
      "metadata": {
        "id": "zjyKlXAbuCMx"
      }
    },
    {
      "cell_type": "markdown",
      "source": [
        "We can compute an ANOVA table using statsmodel."
      ],
      "metadata": {
        "id": "tb_AclcDuDdl"
      }
    },
    {
      "cell_type": "code",
      "source": [
        "model = smf.ols('Time ~ Page', data=four_sessions).fit()\n",
        "                \n",
        "aov_table = sm.stats.anova_lm(model)\n",
        "print(aov_table)"
      ],
      "metadata": {
        "colab": {
          "base_uri": "https://localhost:8080/"
        },
        "id": "4yElzCYIt9Sd",
        "outputId": "edb0b3ad-7cff-40a6-c48c-6ca69e1f1455"
      },
      "execution_count": null,
      "outputs": [
        {
          "output_type": "stream",
          "name": "stdout",
          "text": [
            "            df  sum_sq     mean_sq         F    PR(>F)\n",
            "Page       3.0   831.4  277.133333  2.739825  0.077586\n",
            "Residual  16.0  1618.4  101.150000       NaN       NaN\n"
          ]
        }
      ]
    },
    {
      "cell_type": "code",
      "source": [
        "res = stats.f_oneway(four_sessions[four_sessions.Page == 'Page 1'].Time, \n",
        "                     four_sessions[four_sessions.Page == 'Page 2'].Time,\n",
        "                     four_sessions[four_sessions.Page == 'Page 3'].Time,\n",
        "                     four_sessions[four_sessions.Page == 'Page 4'].Time)\n",
        "print(f'F-Statistic: {res.statistic / 2:.4f}')\n",
        "print(f'p-value: {res.pvalue / 2:.4f}')"
      ],
      "metadata": {
        "colab": {
          "base_uri": "https://localhost:8080/"
        },
        "id": "W6TSwvR9uWHU",
        "outputId": "aeb5e354-7372-4263-99b3-74aa729755b5"
      },
      "execution_count": null,
      "outputs": [
        {
          "output_type": "stream",
          "name": "stdout",
          "text": [
            "F-Statistic: 1.3699\n",
            "p-value: 0.0388\n"
          ]
        }
      ]
    },
    {
      "cell_type": "markdown",
      "source": [
        "Two-way anova only available with statsmodels"
      ],
      "metadata": {
        "id": "ocGtJgKlunqO"
      }
    },
    {
      "cell_type": "markdown",
      "source": [
        "formula = 'len ~ C(supp) + C(dose) + C(supp):C(dose)'\n",
        "model = ols(formula, data).fit()\n",
        "aov_table = anova_lm(model, typ=2)"
      ],
      "metadata": {
        "id": "-LR3qG8NuwAm"
      }
    },
    {
      "cell_type": "markdown",
      "source": [
        "Chi-Square Test\n",
        "Chi-Square Test: A Resampling Approach"
      ],
      "metadata": {
        "id": "YBRN2E8Iu1WN"
      }
    },
    {
      "cell_type": "code",
      "source": [
        "# Table 3-4\n",
        "click_rate = pd.read_csv(\"/content/click rate.csv.CSV\")\n",
        "clicks = click_rate.pivot(index='Click', columns='Headline', values='Rate')\n",
        "print(clicks)"
      ],
      "metadata": {
        "colab": {
          "base_uri": "https://localhost:8080/"
        },
        "id": "xKvTI29UueL-",
        "outputId": "a532fb57-1b59-48c3-e945-75288be21a2b"
      },
      "execution_count": null,
      "outputs": [
        {
          "output_type": "stream",
          "name": "stdout",
          "text": [
            "Headline  Headline A  Headline B  Headline C\n",
            "Click                                       \n",
            "Click             14           8          12\n",
            "No-click         986         992         988\n"
          ]
        }
      ]
    },
    {
      "cell_type": "code",
      "source": [
        "# Table 3-5\n",
        "row_average = clicks.mean(axis=1)\n",
        "pd.DataFrame({\n",
        "    'Headline A': row_average,\n",
        "    'Headline B': row_average,\n",
        "    'Headline C': row_average,\n",
        "})"
      ],
      "metadata": {
        "colab": {
          "base_uri": "https://localhost:8080/",
          "height": 143
        },
        "id": "zhLN7BC9yvL3",
        "outputId": "0995abf0-9554-4fad-b091-d4f71888ec4d"
      },
      "execution_count": null,
      "outputs": [
        {
          "output_type": "execute_result",
          "data": {
            "text/html": [
              "<div>\n",
              "<style scoped>\n",
              "    .dataframe tbody tr th:only-of-type {\n",
              "        vertical-align: middle;\n",
              "    }\n",
              "\n",
              "    .dataframe tbody tr th {\n",
              "        vertical-align: top;\n",
              "    }\n",
              "\n",
              "    .dataframe thead th {\n",
              "        text-align: right;\n",
              "    }\n",
              "</style>\n",
              "<table border=\"1\" class=\"dataframe\">\n",
              "  <thead>\n",
              "    <tr style=\"text-align: right;\">\n",
              "      <th></th>\n",
              "      <th>Headline A</th>\n",
              "      <th>Headline B</th>\n",
              "      <th>Headline C</th>\n",
              "    </tr>\n",
              "    <tr>\n",
              "      <th>Click</th>\n",
              "      <th></th>\n",
              "      <th></th>\n",
              "      <th></th>\n",
              "    </tr>\n",
              "  </thead>\n",
              "  <tbody>\n",
              "    <tr>\n",
              "      <th>Click</th>\n",
              "      <td>11.333333</td>\n",
              "      <td>11.333333</td>\n",
              "      <td>11.333333</td>\n",
              "    </tr>\n",
              "    <tr>\n",
              "      <th>No-click</th>\n",
              "      <td>988.666667</td>\n",
              "      <td>988.666667</td>\n",
              "      <td>988.666667</td>\n",
              "    </tr>\n",
              "  </tbody>\n",
              "</table>\n",
              "</div>"
            ],
            "text/plain": [
              "          Headline A  Headline B  Headline C\n",
              "Click                                       \n",
              "Click      11.333333   11.333333   11.333333\n",
              "No-click  988.666667  988.666667  988.666667"
            ]
          },
          "metadata": {},
          "execution_count": 45
        }
      ]
    },
    {
      "cell_type": "code",
      "source": [
        "# Resampling approach\n",
        "box = [1] * 34\n",
        "box.extend([0] * 2966)\n",
        "random.shuffle(box)\n",
        "\n",
        "def chi2(observed, expected):\n",
        "    pearson_residuals = []\n",
        "    for row, expect in zip(observed, expected):\n",
        "        pearson_residuals.append([(observe - expect) ** 2 / expect\n",
        "                                  for observe in row])\n",
        "    # return sum of squares\n",
        "    return np.sum(pearson_residuals)\n",
        "\n",
        "expected_clicks = 34 / 3\n",
        "expected_noclicks = 1000 - expected_clicks\n",
        "expected = [34 / 3, 1000 - 34 / 3]\n",
        "chi2observed = chi2(clicks.values, expected)\n",
        "\n",
        "def perm_fun(box):\n",
        "    sample_clicks = [sum(random.sample(box, 1000)),\n",
        "                     sum(random.sample(box, 1000)),\n",
        "                     sum(random.sample(box, 1000))]\n",
        "    sample_noclicks = [1000 - n for n in sample_clicks]\n",
        "    return chi2([sample_clicks, sample_noclicks], expected)\n",
        "\n",
        "perm_chi2 = [perm_fun(box) for _ in range(2000)]\n",
        "\n",
        "resampled_p_value = sum(perm_chi2 > chi2observed) / len(perm_chi2)\n",
        "print(f'Observed chi2: {chi2observed:.4f}')\n",
        "print(f'Resampled p-value: {resampled_p_value:.4f}')"
      ],
      "metadata": {
        "colab": {
          "base_uri": "https://localhost:8080/"
        },
        "id": "c8Et2B9pyy7o",
        "outputId": "f86b7e0d-74dc-40d1-f6d5-c9c921a2cd0b"
      },
      "execution_count": null,
      "outputs": [
        {
          "output_type": "stream",
          "name": "stdout",
          "text": [
            "Observed chi2: 1.6659\n",
            "Resampled p-value: 0.4820\n"
          ]
        }
      ]
    },
    {
      "cell_type": "code",
      "source": [
        "chisq, pvalue, df, expected = stats.chi2_contingency(clicks)\n",
        "print(f'Observed chi2: {chisq:.4f}')\n",
        "print(f'p-value: {pvalue:.4f}')"
      ],
      "metadata": {
        "colab": {
          "base_uri": "https://localhost:8080/"
        },
        "id": "iExJo1NYy_bH",
        "outputId": "6ef7af58-c470-49c7-a382-f2759e1f4c40"
      },
      "execution_count": null,
      "outputs": [
        {
          "output_type": "stream",
          "name": "stdout",
          "text": [
            "Observed chi2: 1.6659\n",
            "p-value: 0.4348\n"
          ]
        }
      ]
    },
    {
      "cell_type": "markdown",
      "source": [
        "Figure chi-sq distribution"
      ],
      "metadata": {
        "id": "wE7cWBz2zLlb"
      }
    },
    {
      "cell_type": "code",
      "source": [
        "x = [1 + i * (30 - 1) / 99 for i in range(100)]\n",
        "\n",
        "chi = pd.DataFrame({\n",
        "    'x': x,\n",
        "    'chi_1': stats.chi2.pdf(x, df=1),\n",
        "    'chi_2': stats.chi2.pdf(x, df=2),\n",
        "    'chi_5': stats.chi2.pdf(x, df=5),\n",
        "    'chi_10': stats.chi2.pdf(x, df=10),\n",
        "    'chi_20': stats.chi2.pdf(x, df=20),\n",
        "})\n",
        "fig, ax = plt.subplots(figsize=(4, 2.5))\n",
        "ax.plot(chi.x, chi.chi_1, color='black', linestyle='-', label='1')\n",
        "ax.plot(chi.x, chi.chi_2, color='black', linestyle=(0, (1, 1)), label='2')\n",
        "ax.plot(chi.x, chi.chi_5, color='black', linestyle=(0, (2, 1)), label='5')\n",
        "ax.plot(chi.x, chi.chi_10, color='black', linestyle=(0, (3, 1)), label='10')\n",
        "ax.plot(chi.x, chi.chi_20, color='black', linestyle=(0, (4, 1)), label='20')\n",
        "ax.legend(title='df')\n",
        "\n",
        "plt.tight_layout()\n",
        "plt.show()"
      ],
      "metadata": {
        "colab": {
          "base_uri": "https://localhost:8080/",
          "height": 189
        },
        "id": "N2F1IwCuzSFH",
        "outputId": "4b251cef-c86b-476e-bfd7-f1d40a77c3da"
      },
      "execution_count": null,
      "outputs": [
        {
          "output_type": "display_data",
          "data": {
            "image/png": "[encoded data removed]",
            "text/plain": [
              "<Figure size 288x180 with 1 Axes>"
            ]
          },
          "metadata": {
            "needs_background": "light"
          }
        }
      ]
    },
    {
      "cell_type": "markdown",
      "source": [
        "Fisher's Exact Test"
      ],
      "metadata": {
        "id": "g9O-1eGuzcG0"
      }
    },
    {
      "cell_type": "markdown",
      "source": [
        "Scipy has only an implementation of Fisher's Exact test for 2x2 matrices. There is a github repository that provides a Python implementation that uses the same code as the R version. Installing this requires a Fortran compiler."
      ],
      "metadata": {
        "id": "5Y6UdXSOzdRs"
      }
    },
    {
      "cell_type": "markdown",
      "source": [
        "stats.fisher_exact(clicks)"
      ],
      "metadata": {
        "id": "Iu5Y-iSuz-XM"
      }
    },
    {
      "cell_type": "code",
      "source": [
        "# stats.fisher_exact(clicks.values)\n"
      ],
      "metadata": {
        "id": "TWgbKocjzYCL"
      },
      "execution_count": null,
      "outputs": []
    },
    {
      "cell_type": "markdown",
      "source": [
        "Scientific Fraud"
      ],
      "metadata": {
        "id": "bZH-zLpb0VqQ"
      }
    },
    {
      "cell_type": "code",
      "source": [
        "imanishi = pd.read_csv(\"/content/imanishi_data.csv\")\n",
        "imanishi.columns = [c.strip() for c in imanishi.columns]\n",
        "ax = imanishi.plot.bar(x='Digit', y=['Frequency'], legend=False,\n",
        "                      figsize=(4, 4))\n",
        "ax.set_xlabel('Digit')\n",
        "ax.set_ylabel('Frequency')\n",
        "\n",
        "plt.tight_layout()\n",
        "plt.show()"
      ],
      "metadata": {
        "colab": {
          "base_uri": "https://localhost:8080/",
          "height": 297
        },
        "id": "b8K1T7ns0iqk",
        "outputId": "cab94dfa-955c-4507-b3e6-ffa39200bb34"
      },
      "execution_count": null,
      "outputs": [
        {
          "output_type": "display_data",
          "data": {
            "image/png": "[encoded data removed]",
            "text/plain": [
              "<Figure size 288x288 with 1 Axes>"
            ]
          },
          "metadata": {
            "needs_background": "light"
          }
        }
      ]
    },
    {
      "cell_type": "markdown",
      "source": [
        "Power and Sample Size"
      ],
      "metadata": {
        "id": "WnXNgiY92lNR"
      }
    },
    {
      "cell_type": "markdown",
      "source": [
        "statsmodels has a number of methods for power calculation"
      ],
      "metadata": {
        "id": "z6vJUS0Y2q5p"
      }
    },
    {
      "cell_type": "code",
      "source": [
        "effect_size = sm.stats.proportion_effectsize(0.0121, 0.011)\n",
        "analysis = sm.stats.TTestIndPower()\n",
        "result = analysis.solve_power(effect_size=effect_size, \n",
        "                              alpha=0.05, power=0.8, alternative='larger')\n",
        "print('Sample Size: %.3f' % result)"
      ],
      "metadata": {
        "colab": {
          "base_uri": "https://localhost:8080/"
        },
        "id": "Hg8murps2nJ4",
        "outputId": "bf9f1b2e-a3aa-4c36-cbd3-89ff6fc56390"
      },
      "execution_count": null,
      "outputs": [
        {
          "output_type": "stream",
          "name": "stdout",
          "text": [
            "Sample Size: 116602.393\n"
          ]
        }
      ]
    },
    {
      "cell_type": "code",
      "source": [
        "effect_size = sm.stats.proportion_effectsize(0.0165, 0.011)\n",
        "analysis = sm.stats.TTestIndPower()\n",
        "result = analysis.solve_power(effect_size=effect_size, \n",
        "                              alpha=0.05, power=0.8, alternative='larger')\n",
        "print('Sample Size: %.3f' % result)"
      ],
      "metadata": {
        "colab": {
          "base_uri": "https://localhost:8080/"
        },
        "id": "A8rXrJNq25_1",
        "outputId": "44aa6b01-6ccf-4abd-d541-24cf1def369f"
      },
      "execution_count": null,
      "outputs": [
        {
          "output_type": "stream",
          "name": "stdout",
          "text": [
            "Sample Size: 5488.408\n"
          ]
        }
      ]
    }
  ]
}