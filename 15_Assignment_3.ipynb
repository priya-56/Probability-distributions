{
  "nbformat": 4,
  "nbformat_minor": 0,
  "metadata": {
    "colab": {
      "name": "15_Assignment 3.ipynb",
      "provenance": []
    },
    "kernelspec": {
      "name": "python3",
      "display_name": "Python 3"
    },
    "language_info": {
      "name": "python"
    }
  },
  "cells": [
    {
      "cell_type": "code",
      "metadata": {
        "colab": {
          "base_uri": "https://localhost:8080/"
        },
        "id": "oEsqP_F2dc2H",
        "outputId": "ddb4dfaf-60eb-40a7-958b-fbe2a90d9d28"
      },
      "source": [
        "# Assignment 3\n",
        "import numpy \n",
        "results=[5,4,3,4,5,3,2,5,3,2,1,4,5,3,4,4,5,4,2,1,4,5,4,3,2,4,4,5,4,3,2,1]\n",
        "sorted_results=sorted(results)\n",
        "print (sorted_results)\n",
        "\n",
        " "
      ],
      "execution_count": null,
      "outputs": [
        {
          "output_type": "stream",
          "text": [
            "[1, 1, 1, 2, 2, 2, 2, 2, 3, 3, 3, 3, 3, 3, 4, 4, 4, 4, 4, 4, 4, 4, 4, 4, 4, 5, 5, 5, 5, 5, 5, 5]\n"
          ],
          "name": "stdout"
        }
      ]
    },
    {
      "cell_type": "code",
      "metadata": {
        "colab": {
          "base_uri": "https://localhost:8080/"
        },
        "id": "Xyadk5WRhWOs",
        "outputId": "b3b38295-90ae-4cba-d95c-95c4e618c40f"
      },
      "source": [
        "mean= numpy.mean(results)\n",
        "median= numpy.median(results)\n",
        "print(mean)\n",
        "print(median)\n"
      ],
      "execution_count": null,
      "outputs": [
        {
          "output_type": "stream",
          "text": [
            "3.4375\n",
            "4.0\n"
          ],
          "name": "stdout"
        }
      ]
    },
    {
      "cell_type": "code",
      "metadata": {
        "colab": {
          "base_uri": "https://localhost:8080/"
        },
        "id": "893pNZ3gimNi",
        "outputId": "58b219b7-187b-46c8-b83b-179ba0b4189d"
      },
      "source": [
        "import numpy\n",
        "temps=[31,32,32,31,28,29,31,38,32,31,30,29,30,31,26]\n",
        "mean=numpy.mean(temps)\n",
        "median=numpy.median(temps)\n",
        "print(mean)\n",
        "print(median)"
      ],
      "execution_count": null,
      "outputs": [
        {
          "output_type": "stream",
          "text": [
            "30.733333333333334\n",
            "31.0\n"
          ],
          "name": "stdout"
        }
      ]
    },
    {
      "cell_type": "code",
      "metadata": {
        "colab": {
          "base_uri": "https://localhost:8080/"
        },
        "id": "YqxKZZr4jlqQ",
        "outputId": "34dcfcdf-aa93-459f-9104-511766dc9da1"
      },
      "source": [
        "import numpy\n",
        "temps=[31,32,32,31,28,29,31,38,32,31,30,29,30,31,26]\n",
        "mean=numpy.mean(temps)\n",
        "squared_differences=[]\n",
        "for temperature in temps:\n",
        "  difference=temperature-mean\n",
        "  squared_difference=difference**2\n",
        "  squared_differences.append(squared_difference)\n",
        "average_squared_difference=numpy.mean(squared_differences)\n",
        "standard_deviation=numpy.sqrt(average_squared_difference)\n",
        "print (standard_deviation)\n"
      ],
      "execution_count": null,
      "outputs": [
        {
          "output_type": "stream",
          "text": [
            "2.5157283018817607\n"
          ],
          "name": "stdout"
        }
      ]
    },
    {
      "cell_type": "code",
      "metadata": {
        "colab": {
          "base_uri": "https://localhost:8080/"
        },
        "id": "k-10pqm0n5au",
        "outputId": "d68d7631-3ce6-4c09-b7c5-75dc548922fa"
      },
      "source": [
        "import numpy\n",
        "temps=[31,32,32,31,28,29,31,38,32,31,30,29,30,31,26]\n",
        "num_items=len(temps)\n",
        "product=1\n",
        "for temperature in temps:\n",
        "  product *=temperature\n",
        "  geometric_mean=product**(1./num_items)\n",
        "  print(geometric_mean)"
      ],
      "execution_count": null,
      "outputs": [
        {
          "output_type": "stream",
          "text": [
            "1.2572571465173128\n",
            "1.584044744027925\n",
            "1.995771316976119\n",
            "2.5091977510824948\n",
            "3.1333729630705207\n",
            "3.921979249568435\n",
            "4.930936440012522\n",
            "6.284175582876826\n",
            "7.917565098101898\n",
            "9.954415302604659\n",
            "12.487931449137912\n",
            "15.630889967709749\n",
            "19.60913589316509\n",
            "24.653726238710956\n",
            "30.63473484374659\n"
          ],
          "name": "stdout"
        }
      ]
    }
  ]
}