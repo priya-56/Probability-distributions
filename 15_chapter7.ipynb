{
  "nbformat": 4,
  "nbformat_minor": 0,
  "metadata": {
    "colab": {
      "name": "15_chapter7.ipynb",
      "provenance": [],
      "collapsed_sections": []
    },
    "kernelspec": {
      "name": "python3",
      "display_name": "Python 3"
    },
    "language_info": {
      "name": "python"
    }
  },
  "cells": [
    {
      "cell_type": "code",
      "metadata": {
        "colab": {
          "base_uri": "https://localhost:8080/"
        },
        "id": "9MLt-9f_BBDT",
        "outputId": "83440349-0ba7-4336-858c-90f675bbe282"
      },
      "source": [
        "import pandas as pd\n",
        "import numpy as np\n",
        "string_data = pd.Series(['aardvark', 'artichoke', np.nan, 'avocado'])\n",
        "string_data"
      ],
      "execution_count": null,
      "outputs": [
        {
          "output_type": "execute_result",
          "data": {
            "text/plain": [
              "0     aardvark\n",
              "1    artichoke\n",
              "2          NaN\n",
              "3      avocado\n",
              "dtype: object"
            ]
          },
          "metadata": {},
          "execution_count": 1
        }
      ]
    },
    {
      "cell_type": "code",
      "metadata": {
        "colab": {
          "base_uri": "https://localhost:8080/"
        },
        "id": "XjRsnI5IBZnf",
        "outputId": "97c63322-4e00-41e7-badd-c9a66406f516"
      },
      "source": [
        "string_data.isnull()"
      ],
      "execution_count": null,
      "outputs": [
        {
          "output_type": "execute_result",
          "data": {
            "text/plain": [
              "0    False\n",
              "1    False\n",
              "2     True\n",
              "3    False\n",
              "dtype: bool"
            ]
          },
          "metadata": {},
          "execution_count": 2
        }
      ]
    },
    {
      "cell_type": "code",
      "metadata": {
        "colab": {
          "base_uri": "https://localhost:8080/"
        },
        "id": "qq038T2UBeiO",
        "outputId": "d82c7ddc-14a5-4924-847a-5664438b147c"
      },
      "source": [
        "string_data[0] = None\n",
        "string_data.isnull()"
      ],
      "execution_count": null,
      "outputs": [
        {
          "output_type": "execute_result",
          "data": {
            "text/plain": [
              "0     True\n",
              "1    False\n",
              "2     True\n",
              "3    False\n",
              "dtype: bool"
            ]
          },
          "metadata": {},
          "execution_count": 3
        }
      ]
    },
    {
      "cell_type": "code",
      "metadata": {
        "colab": {
          "base_uri": "https://localhost:8080/"
        },
        "id": "QGITCOokBnjG",
        "outputId": "54269fc5-7c2d-4b82-da21-b4dbf4e60076"
      },
      "source": [
        "from numpy import nan as NA\n",
        "data = pd.Series([1, NA, 3.5, NA, 7])\n",
        "data.dropna()"
      ],
      "execution_count": null,
      "outputs": [
        {
          "output_type": "execute_result",
          "data": {
            "text/plain": [
              "0    1.0\n",
              "2    3.5\n",
              "4    7.0\n",
              "dtype: float64"
            ]
          },
          "metadata": {},
          "execution_count": 4
        }
      ]
    },
    {
      "cell_type": "code",
      "metadata": {
        "colab": {
          "base_uri": "https://localhost:8080/"
        },
        "id": "lT5L5RGMCI_2",
        "outputId": "dcf901a5-ad4a-416c-b767-0ec7bf07a2d3"
      },
      "source": [
        "data[data.notnull()]"
      ],
      "execution_count": null,
      "outputs": [
        {
          "output_type": "execute_result",
          "data": {
            "text/plain": [
              "0    1.0\n",
              "2    3.5\n",
              "4    7.0\n",
              "dtype: float64"
            ]
          },
          "metadata": {},
          "execution_count": 5
        }
      ]
    },
    {
      "cell_type": "code",
      "metadata": {
        "colab": {
          "base_uri": "https://localhost:8080/",
          "height": 173
        },
        "id": "O6NgBh2KCQHH",
        "outputId": "225a9cbc-d386-44a5-952f-9a31ffe28fdd"
      },
      "source": [
        "data = pd.DataFrame([[1., 6.5, 3.], [1., NA, NA], [NA, NA, NA], [NA, 6.5, 3.]])\n",
        "cleaned = data.dropna()\n",
        "data"
      ],
      "execution_count": null,
      "outputs": [
        {
          "output_type": "execute_result",
          "data": {
            "text/html": [
              "<div>\n",
              "<style scoped>\n",
              "    .dataframe tbody tr th:only-of-type {\n",
              "        vertical-align: middle;\n",
              "    }\n",
              "\n",
              "    .dataframe tbody tr th {\n",
              "        vertical-align: top;\n",
              "    }\n",
              "\n",
              "    .dataframe thead th {\n",
              "        text-align: right;\n",
              "    }\n",
              "</style>\n",
              "<table border=\"1\" class=\"dataframe\">\n",
              "  <thead>\n",
              "    <tr style=\"text-align: right;\">\n",
              "      <th></th>\n",
              "      <th>0</th>\n",
              "      <th>1</th>\n",
              "      <th>2</th>\n",
              "    </tr>\n",
              "  </thead>\n",
              "  <tbody>\n",
              "    <tr>\n",
              "      <th>0</th>\n",
              "      <td>1.0</td>\n",
              "      <td>6.5</td>\n",
              "      <td>3.0</td>\n",
              "    </tr>\n",
              "    <tr>\n",
              "      <th>1</th>\n",
              "      <td>1.0</td>\n",
              "      <td>NaN</td>\n",
              "      <td>NaN</td>\n",
              "    </tr>\n",
              "    <tr>\n",
              "      <th>2</th>\n",
              "      <td>NaN</td>\n",
              "      <td>NaN</td>\n",
              "      <td>NaN</td>\n",
              "    </tr>\n",
              "    <tr>\n",
              "      <th>3</th>\n",
              "      <td>NaN</td>\n",
              "      <td>6.5</td>\n",
              "      <td>3.0</td>\n",
              "    </tr>\n",
              "  </tbody>\n",
              "</table>\n",
              "</div>"
            ],
            "text/plain": [
              "     0    1    2\n",
              "0  1.0  6.5  3.0\n",
              "1  1.0  NaN  NaN\n",
              "2  NaN  NaN  NaN\n",
              "3  NaN  6.5  3.0"
            ]
          },
          "metadata": {},
          "execution_count": 6
        }
      ]
    },
    {
      "cell_type": "code",
      "metadata": {
        "colab": {
          "base_uri": "https://localhost:8080/",
          "height": 80
        },
        "id": "SDws9qd2CoOa",
        "outputId": "48f28080-49cd-40ae-b35a-b7691aad8fdd"
      },
      "source": [
        "cleaned"
      ],
      "execution_count": null,
      "outputs": [
        {
          "output_type": "execute_result",
          "data": {
            "text/html": [
              "<div>\n",
              "<style scoped>\n",
              "    .dataframe tbody tr th:only-of-type {\n",
              "        vertical-align: middle;\n",
              "    }\n",
              "\n",
              "    .dataframe tbody tr th {\n",
              "        vertical-align: top;\n",
              "    }\n",
              "\n",
              "    .dataframe thead th {\n",
              "        text-align: right;\n",
              "    }\n",
              "</style>\n",
              "<table border=\"1\" class=\"dataframe\">\n",
              "  <thead>\n",
              "    <tr style=\"text-align: right;\">\n",
              "      <th></th>\n",
              "      <th>0</th>\n",
              "      <th>1</th>\n",
              "      <th>2</th>\n",
              "    </tr>\n",
              "  </thead>\n",
              "  <tbody>\n",
              "    <tr>\n",
              "      <th>0</th>\n",
              "      <td>1.0</td>\n",
              "      <td>6.5</td>\n",
              "      <td>3.0</td>\n",
              "    </tr>\n",
              "  </tbody>\n",
              "</table>\n",
              "</div>"
            ],
            "text/plain": [
              "     0    1    2\n",
              "0  1.0  6.5  3.0"
            ]
          },
          "metadata": {},
          "execution_count": 7
        }
      ]
    },
    {
      "cell_type": "code",
      "metadata": {
        "colab": {
          "base_uri": "https://localhost:8080/",
          "height": 142
        },
        "id": "NcNn0cU6Czet",
        "outputId": "0020eb03-5a14-4882-b6ce-7677f671aba2"
      },
      "source": [
        "data.dropna(how='all')"
      ],
      "execution_count": null,
      "outputs": [
        {
          "output_type": "execute_result",
          "data": {
            "text/html": [
              "<div>\n",
              "<style scoped>\n",
              "    .dataframe tbody tr th:only-of-type {\n",
              "        vertical-align: middle;\n",
              "    }\n",
              "\n",
              "    .dataframe tbody tr th {\n",
              "        vertical-align: top;\n",
              "    }\n",
              "\n",
              "    .dataframe thead th {\n",
              "        text-align: right;\n",
              "    }\n",
              "</style>\n",
              "<table border=\"1\" class=\"dataframe\">\n",
              "  <thead>\n",
              "    <tr style=\"text-align: right;\">\n",
              "      <th></th>\n",
              "      <th>0</th>\n",
              "      <th>1</th>\n",
              "      <th>2</th>\n",
              "    </tr>\n",
              "  </thead>\n",
              "  <tbody>\n",
              "    <tr>\n",
              "      <th>0</th>\n",
              "      <td>1.0</td>\n",
              "      <td>6.5</td>\n",
              "      <td>3.0</td>\n",
              "    </tr>\n",
              "    <tr>\n",
              "      <th>1</th>\n",
              "      <td>1.0</td>\n",
              "      <td>NaN</td>\n",
              "      <td>NaN</td>\n",
              "    </tr>\n",
              "    <tr>\n",
              "      <th>3</th>\n",
              "      <td>NaN</td>\n",
              "      <td>6.5</td>\n",
              "      <td>3.0</td>\n",
              "    </tr>\n",
              "  </tbody>\n",
              "</table>\n",
              "</div>"
            ],
            "text/plain": [
              "     0    1    2\n",
              "0  1.0  6.5  3.0\n",
              "1  1.0  NaN  NaN\n",
              "3  NaN  6.5  3.0"
            ]
          },
          "metadata": {},
          "execution_count": 8
        }
      ]
    },
    {
      "cell_type": "code",
      "metadata": {
        "colab": {
          "base_uri": "https://localhost:8080/",
          "height": 173
        },
        "id": "b-TmelVEC-R0",
        "outputId": "361d164f-8603-4ac4-af65-41ee66d56a5a"
      },
      "source": [
        "data[4] = NA\n",
        "data"
      ],
      "execution_count": null,
      "outputs": [
        {
          "output_type": "execute_result",
          "data": {
            "text/html": [
              "<div>\n",
              "<style scoped>\n",
              "    .dataframe tbody tr th:only-of-type {\n",
              "        vertical-align: middle;\n",
              "    }\n",
              "\n",
              "    .dataframe tbody tr th {\n",
              "        vertical-align: top;\n",
              "    }\n",
              "\n",
              "    .dataframe thead th {\n",
              "        text-align: right;\n",
              "    }\n",
              "</style>\n",
              "<table border=\"1\" class=\"dataframe\">\n",
              "  <thead>\n",
              "    <tr style=\"text-align: right;\">\n",
              "      <th></th>\n",
              "      <th>0</th>\n",
              "      <th>1</th>\n",
              "      <th>2</th>\n",
              "      <th>4</th>\n",
              "    </tr>\n",
              "  </thead>\n",
              "  <tbody>\n",
              "    <tr>\n",
              "      <th>0</th>\n",
              "      <td>1.0</td>\n",
              "      <td>6.5</td>\n",
              "      <td>3.0</td>\n",
              "      <td>NaN</td>\n",
              "    </tr>\n",
              "    <tr>\n",
              "      <th>1</th>\n",
              "      <td>1.0</td>\n",
              "      <td>NaN</td>\n",
              "      <td>NaN</td>\n",
              "      <td>NaN</td>\n",
              "    </tr>\n",
              "    <tr>\n",
              "      <th>2</th>\n",
              "      <td>NaN</td>\n",
              "      <td>NaN</td>\n",
              "      <td>NaN</td>\n",
              "      <td>NaN</td>\n",
              "    </tr>\n",
              "    <tr>\n",
              "      <th>3</th>\n",
              "      <td>NaN</td>\n",
              "      <td>6.5</td>\n",
              "      <td>3.0</td>\n",
              "      <td>NaN</td>\n",
              "    </tr>\n",
              "  </tbody>\n",
              "</table>\n",
              "</div>"
            ],
            "text/plain": [
              "     0    1    2   4\n",
              "0  1.0  6.5  3.0 NaN\n",
              "1  1.0  NaN  NaN NaN\n",
              "2  NaN  NaN  NaN NaN\n",
              "3  NaN  6.5  3.0 NaN"
            ]
          },
          "metadata": {},
          "execution_count": 9
        }
      ]
    },
    {
      "cell_type": "code",
      "metadata": {
        "colab": {
          "base_uri": "https://localhost:8080/",
          "height": 173
        },
        "id": "iCygrAZfDJOM",
        "outputId": "a5812a50-9693-4a89-833a-b9ab4bc94bd3"
      },
      "source": [
        "data.dropna(axis=1, how='all')"
      ],
      "execution_count": null,
      "outputs": [
        {
          "output_type": "execute_result",
          "data": {
            "text/html": [
              "<div>\n",
              "<style scoped>\n",
              "    .dataframe tbody tr th:only-of-type {\n",
              "        vertical-align: middle;\n",
              "    }\n",
              "\n",
              "    .dataframe tbody tr th {\n",
              "        vertical-align: top;\n",
              "    }\n",
              "\n",
              "    .dataframe thead th {\n",
              "        text-align: right;\n",
              "    }\n",
              "</style>\n",
              "<table border=\"1\" class=\"dataframe\">\n",
              "  <thead>\n",
              "    <tr style=\"text-align: right;\">\n",
              "      <th></th>\n",
              "      <th>0</th>\n",
              "      <th>1</th>\n",
              "      <th>2</th>\n",
              "    </tr>\n",
              "  </thead>\n",
              "  <tbody>\n",
              "    <tr>\n",
              "      <th>0</th>\n",
              "      <td>1.0</td>\n",
              "      <td>6.5</td>\n",
              "      <td>3.0</td>\n",
              "    </tr>\n",
              "    <tr>\n",
              "      <th>1</th>\n",
              "      <td>1.0</td>\n",
              "      <td>NaN</td>\n",
              "      <td>NaN</td>\n",
              "    </tr>\n",
              "    <tr>\n",
              "      <th>2</th>\n",
              "      <td>NaN</td>\n",
              "      <td>NaN</td>\n",
              "      <td>NaN</td>\n",
              "    </tr>\n",
              "    <tr>\n",
              "      <th>3</th>\n",
              "      <td>NaN</td>\n",
              "      <td>6.5</td>\n",
              "      <td>3.0</td>\n",
              "    </tr>\n",
              "  </tbody>\n",
              "</table>\n",
              "</div>"
            ],
            "text/plain": [
              "     0    1    2\n",
              "0  1.0  6.5  3.0\n",
              "1  1.0  NaN  NaN\n",
              "2  NaN  NaN  NaN\n",
              "3  NaN  6.5  3.0"
            ]
          },
          "metadata": {},
          "execution_count": 10
        }
      ]
    },
    {
      "cell_type": "code",
      "metadata": {
        "colab": {
          "base_uri": "https://localhost:8080/",
          "height": 266
        },
        "id": "9E7-koy4DQ6J",
        "outputId": "70880bcb-aae4-44fd-cb51-5c6b617c567f"
      },
      "source": [
        "df = pd.DataFrame(np.random.randn(7, 3))\n",
        "df.iloc[:4, 1] = NA\n",
        "df.iloc[:2, 2] = NA\n",
        "df"
      ],
      "execution_count": null,
      "outputs": [
        {
          "output_type": "execute_result",
          "data": {
            "text/html": [
              "<div>\n",
              "<style scoped>\n",
              "    .dataframe tbody tr th:only-of-type {\n",
              "        vertical-align: middle;\n",
              "    }\n",
              "\n",
              "    .dataframe tbody tr th {\n",
              "        vertical-align: top;\n",
              "    }\n",
              "\n",
              "    .dataframe thead th {\n",
              "        text-align: right;\n",
              "    }\n",
              "</style>\n",
              "<table border=\"1\" class=\"dataframe\">\n",
              "  <thead>\n",
              "    <tr style=\"text-align: right;\">\n",
              "      <th></th>\n",
              "      <th>0</th>\n",
              "      <th>1</th>\n",
              "      <th>2</th>\n",
              "    </tr>\n",
              "  </thead>\n",
              "  <tbody>\n",
              "    <tr>\n",
              "      <th>0</th>\n",
              "      <td>0.433995</td>\n",
              "      <td>NaN</td>\n",
              "      <td>NaN</td>\n",
              "    </tr>\n",
              "    <tr>\n",
              "      <th>1</th>\n",
              "      <td>0.267462</td>\n",
              "      <td>NaN</td>\n",
              "      <td>NaN</td>\n",
              "    </tr>\n",
              "    <tr>\n",
              "      <th>2</th>\n",
              "      <td>-0.556242</td>\n",
              "      <td>NaN</td>\n",
              "      <td>0.178580</td>\n",
              "    </tr>\n",
              "    <tr>\n",
              "      <th>3</th>\n",
              "      <td>0.808382</td>\n",
              "      <td>NaN</td>\n",
              "      <td>-0.764808</td>\n",
              "    </tr>\n",
              "    <tr>\n",
              "      <th>4</th>\n",
              "      <td>0.316958</td>\n",
              "      <td>-1.611566</td>\n",
              "      <td>-0.900395</td>\n",
              "    </tr>\n",
              "    <tr>\n",
              "      <th>5</th>\n",
              "      <td>0.666147</td>\n",
              "      <td>0.469969</td>\n",
              "      <td>0.486021</td>\n",
              "    </tr>\n",
              "    <tr>\n",
              "      <th>6</th>\n",
              "      <td>1.448033</td>\n",
              "      <td>-0.953801</td>\n",
              "      <td>-0.414354</td>\n",
              "    </tr>\n",
              "  </tbody>\n",
              "</table>\n",
              "</div>"
            ],
            "text/plain": [
              "          0         1         2\n",
              "0  0.433995       NaN       NaN\n",
              "1  0.267462       NaN       NaN\n",
              "2 -0.556242       NaN  0.178580\n",
              "3  0.808382       NaN -0.764808\n",
              "4  0.316958 -1.611566 -0.900395\n",
              "5  0.666147  0.469969  0.486021\n",
              "6  1.448033 -0.953801 -0.414354"
            ]
          },
          "metadata": {},
          "execution_count": 11
        }
      ]
    },
    {
      "cell_type": "code",
      "metadata": {
        "colab": {
          "base_uri": "https://localhost:8080/",
          "height": 142
        },
        "id": "s41hcjICDjPM",
        "outputId": "019c5e13-610b-4249-8c35-669f36167401"
      },
      "source": [
        "df.dropna()"
      ],
      "execution_count": null,
      "outputs": [
        {
          "output_type": "execute_result",
          "data": {
            "text/html": [
              "<div>\n",
              "<style scoped>\n",
              "    .dataframe tbody tr th:only-of-type {\n",
              "        vertical-align: middle;\n",
              "    }\n",
              "\n",
              "    .dataframe tbody tr th {\n",
              "        vertical-align: top;\n",
              "    }\n",
              "\n",
              "    .dataframe thead th {\n",
              "        text-align: right;\n",
              "    }\n",
              "</style>\n",
              "<table border=\"1\" class=\"dataframe\">\n",
              "  <thead>\n",
              "    <tr style=\"text-align: right;\">\n",
              "      <th></th>\n",
              "      <th>0</th>\n",
              "      <th>1</th>\n",
              "      <th>2</th>\n",
              "    </tr>\n",
              "  </thead>\n",
              "  <tbody>\n",
              "    <tr>\n",
              "      <th>4</th>\n",
              "      <td>0.316958</td>\n",
              "      <td>-1.611566</td>\n",
              "      <td>-0.900395</td>\n",
              "    </tr>\n",
              "    <tr>\n",
              "      <th>5</th>\n",
              "      <td>0.666147</td>\n",
              "      <td>0.469969</td>\n",
              "      <td>0.486021</td>\n",
              "    </tr>\n",
              "    <tr>\n",
              "      <th>6</th>\n",
              "      <td>1.448033</td>\n",
              "      <td>-0.953801</td>\n",
              "      <td>-0.414354</td>\n",
              "    </tr>\n",
              "  </tbody>\n",
              "</table>\n",
              "</div>"
            ],
            "text/plain": [
              "          0         1         2\n",
              "4  0.316958 -1.611566 -0.900395\n",
              "5  0.666147  0.469969  0.486021\n",
              "6  1.448033 -0.953801 -0.414354"
            ]
          },
          "metadata": {},
          "execution_count": 12
        }
      ]
    },
    {
      "cell_type": "code",
      "metadata": {
        "colab": {
          "base_uri": "https://localhost:8080/",
          "height": 204
        },
        "id": "pgvj7WXKDvCX",
        "outputId": "7011d0bf-bfdb-46cc-ea3d-4e915fc40025"
      },
      "source": [
        "df.dropna(thresh=2)"
      ],
      "execution_count": null,
      "outputs": [
        {
          "output_type": "execute_result",
          "data": {
            "text/html": [
              "<div>\n",
              "<style scoped>\n",
              "    .dataframe tbody tr th:only-of-type {\n",
              "        vertical-align: middle;\n",
              "    }\n",
              "\n",
              "    .dataframe tbody tr th {\n",
              "        vertical-align: top;\n",
              "    }\n",
              "\n",
              "    .dataframe thead th {\n",
              "        text-align: right;\n",
              "    }\n",
              "</style>\n",
              "<table border=\"1\" class=\"dataframe\">\n",
              "  <thead>\n",
              "    <tr style=\"text-align: right;\">\n",
              "      <th></th>\n",
              "      <th>0</th>\n",
              "      <th>1</th>\n",
              "      <th>2</th>\n",
              "    </tr>\n",
              "  </thead>\n",
              "  <tbody>\n",
              "    <tr>\n",
              "      <th>2</th>\n",
              "      <td>-0.556242</td>\n",
              "      <td>NaN</td>\n",
              "      <td>0.178580</td>\n",
              "    </tr>\n",
              "    <tr>\n",
              "      <th>3</th>\n",
              "      <td>0.808382</td>\n",
              "      <td>NaN</td>\n",
              "      <td>-0.764808</td>\n",
              "    </tr>\n",
              "    <tr>\n",
              "      <th>4</th>\n",
              "      <td>0.316958</td>\n",
              "      <td>-1.611566</td>\n",
              "      <td>-0.900395</td>\n",
              "    </tr>\n",
              "    <tr>\n",
              "      <th>5</th>\n",
              "      <td>0.666147</td>\n",
              "      <td>0.469969</td>\n",
              "      <td>0.486021</td>\n",
              "    </tr>\n",
              "    <tr>\n",
              "      <th>6</th>\n",
              "      <td>1.448033</td>\n",
              "      <td>-0.953801</td>\n",
              "      <td>-0.414354</td>\n",
              "    </tr>\n",
              "  </tbody>\n",
              "</table>\n",
              "</div>"
            ],
            "text/plain": [
              "          0         1         2\n",
              "2 -0.556242       NaN  0.178580\n",
              "3  0.808382       NaN -0.764808\n",
              "4  0.316958 -1.611566 -0.900395\n",
              "5  0.666147  0.469969  0.486021\n",
              "6  1.448033 -0.953801 -0.414354"
            ]
          },
          "metadata": {},
          "execution_count": 13
        }
      ]
    },
    {
      "cell_type": "code",
      "metadata": {
        "colab": {
          "base_uri": "https://localhost:8080/",
          "height": 266
        },
        "id": "qulQsIRNDxKu",
        "outputId": "e703778d-e154-4316-f440-e4787ba0e7f1"
      },
      "source": [
        "df.fillna(0)"
      ],
      "execution_count": null,
      "outputs": [
        {
          "output_type": "execute_result",
          "data": {
            "text/html": [
              "<div>\n",
              "<style scoped>\n",
              "    .dataframe tbody tr th:only-of-type {\n",
              "        vertical-align: middle;\n",
              "    }\n",
              "\n",
              "    .dataframe tbody tr th {\n",
              "        vertical-align: top;\n",
              "    }\n",
              "\n",
              "    .dataframe thead th {\n",
              "        text-align: right;\n",
              "    }\n",
              "</style>\n",
              "<table border=\"1\" class=\"dataframe\">\n",
              "  <thead>\n",
              "    <tr style=\"text-align: right;\">\n",
              "      <th></th>\n",
              "      <th>0</th>\n",
              "      <th>1</th>\n",
              "      <th>2</th>\n",
              "    </tr>\n",
              "  </thead>\n",
              "  <tbody>\n",
              "    <tr>\n",
              "      <th>0</th>\n",
              "      <td>0.433995</td>\n",
              "      <td>0.000000</td>\n",
              "      <td>0.000000</td>\n",
              "    </tr>\n",
              "    <tr>\n",
              "      <th>1</th>\n",
              "      <td>0.267462</td>\n",
              "      <td>0.000000</td>\n",
              "      <td>0.000000</td>\n",
              "    </tr>\n",
              "    <tr>\n",
              "      <th>2</th>\n",
              "      <td>-0.556242</td>\n",
              "      <td>0.000000</td>\n",
              "      <td>0.178580</td>\n",
              "    </tr>\n",
              "    <tr>\n",
              "      <th>3</th>\n",
              "      <td>0.808382</td>\n",
              "      <td>0.000000</td>\n",
              "      <td>-0.764808</td>\n",
              "    </tr>\n",
              "    <tr>\n",
              "      <th>4</th>\n",
              "      <td>0.316958</td>\n",
              "      <td>-1.611566</td>\n",
              "      <td>-0.900395</td>\n",
              "    </tr>\n",
              "    <tr>\n",
              "      <th>5</th>\n",
              "      <td>0.666147</td>\n",
              "      <td>0.469969</td>\n",
              "      <td>0.486021</td>\n",
              "    </tr>\n",
              "    <tr>\n",
              "      <th>6</th>\n",
              "      <td>1.448033</td>\n",
              "      <td>-0.953801</td>\n",
              "      <td>-0.414354</td>\n",
              "    </tr>\n",
              "  </tbody>\n",
              "</table>\n",
              "</div>"
            ],
            "text/plain": [
              "          0         1         2\n",
              "0  0.433995  0.000000  0.000000\n",
              "1  0.267462  0.000000  0.000000\n",
              "2 -0.556242  0.000000  0.178580\n",
              "3  0.808382  0.000000 -0.764808\n",
              "4  0.316958 -1.611566 -0.900395\n",
              "5  0.666147  0.469969  0.486021\n",
              "6  1.448033 -0.953801 -0.414354"
            ]
          },
          "metadata": {},
          "execution_count": 14
        }
      ]
    },
    {
      "cell_type": "code",
      "metadata": {
        "colab": {
          "base_uri": "https://localhost:8080/",
          "height": 266
        },
        "id": "fIM1VPL7ECbU",
        "outputId": "d816b02f-2da3-4868-eed4-efa2bbe2b1a6"
      },
      "source": [
        "df.fillna({1: 0.5, 2: 0})"
      ],
      "execution_count": null,
      "outputs": [
        {
          "output_type": "execute_result",
          "data": {
            "text/html": [
              "<div>\n",
              "<style scoped>\n",
              "    .dataframe tbody tr th:only-of-type {\n",
              "        vertical-align: middle;\n",
              "    }\n",
              "\n",
              "    .dataframe tbody tr th {\n",
              "        vertical-align: top;\n",
              "    }\n",
              "\n",
              "    .dataframe thead th {\n",
              "        text-align: right;\n",
              "    }\n",
              "</style>\n",
              "<table border=\"1\" class=\"dataframe\">\n",
              "  <thead>\n",
              "    <tr style=\"text-align: right;\">\n",
              "      <th></th>\n",
              "      <th>0</th>\n",
              "      <th>1</th>\n",
              "      <th>2</th>\n",
              "    </tr>\n",
              "  </thead>\n",
              "  <tbody>\n",
              "    <tr>\n",
              "      <th>0</th>\n",
              "      <td>0.433995</td>\n",
              "      <td>0.500000</td>\n",
              "      <td>0.000000</td>\n",
              "    </tr>\n",
              "    <tr>\n",
              "      <th>1</th>\n",
              "      <td>0.267462</td>\n",
              "      <td>0.500000</td>\n",
              "      <td>0.000000</td>\n",
              "    </tr>\n",
              "    <tr>\n",
              "      <th>2</th>\n",
              "      <td>-0.556242</td>\n",
              "      <td>0.500000</td>\n",
              "      <td>0.178580</td>\n",
              "    </tr>\n",
              "    <tr>\n",
              "      <th>3</th>\n",
              "      <td>0.808382</td>\n",
              "      <td>0.500000</td>\n",
              "      <td>-0.764808</td>\n",
              "    </tr>\n",
              "    <tr>\n",
              "      <th>4</th>\n",
              "      <td>0.316958</td>\n",
              "      <td>-1.611566</td>\n",
              "      <td>-0.900395</td>\n",
              "    </tr>\n",
              "    <tr>\n",
              "      <th>5</th>\n",
              "      <td>0.666147</td>\n",
              "      <td>0.469969</td>\n",
              "      <td>0.486021</td>\n",
              "    </tr>\n",
              "    <tr>\n",
              "      <th>6</th>\n",
              "      <td>1.448033</td>\n",
              "      <td>-0.953801</td>\n",
              "      <td>-0.414354</td>\n",
              "    </tr>\n",
              "  </tbody>\n",
              "</table>\n",
              "</div>"
            ],
            "text/plain": [
              "          0         1         2\n",
              "0  0.433995  0.500000  0.000000\n",
              "1  0.267462  0.500000  0.000000\n",
              "2 -0.556242  0.500000  0.178580\n",
              "3  0.808382  0.500000 -0.764808\n",
              "4  0.316958 -1.611566 -0.900395\n",
              "5  0.666147  0.469969  0.486021\n",
              "6  1.448033 -0.953801 -0.414354"
            ]
          },
          "metadata": {},
          "execution_count": 15
        }
      ]
    },
    {
      "cell_type": "code",
      "metadata": {
        "colab": {
          "base_uri": "https://localhost:8080/",
          "height": 266
        },
        "id": "-UF9Q2DsEHFL",
        "outputId": "bba5d34d-91c6-4188-a4ac-aca96b493ffc"
      },
      "source": [
        "_ = df.fillna(0, inplace=True)\n",
        "df"
      ],
      "execution_count": null,
      "outputs": [
        {
          "output_type": "execute_result",
          "data": {
            "text/html": [
              "<div>\n",
              "<style scoped>\n",
              "    .dataframe tbody tr th:only-of-type {\n",
              "        vertical-align: middle;\n",
              "    }\n",
              "\n",
              "    .dataframe tbody tr th {\n",
              "        vertical-align: top;\n",
              "    }\n",
              "\n",
              "    .dataframe thead th {\n",
              "        text-align: right;\n",
              "    }\n",
              "</style>\n",
              "<table border=\"1\" class=\"dataframe\">\n",
              "  <thead>\n",
              "    <tr style=\"text-align: right;\">\n",
              "      <th></th>\n",
              "      <th>0</th>\n",
              "      <th>1</th>\n",
              "      <th>2</th>\n",
              "    </tr>\n",
              "  </thead>\n",
              "  <tbody>\n",
              "    <tr>\n",
              "      <th>0</th>\n",
              "      <td>0.433995</td>\n",
              "      <td>0.000000</td>\n",
              "      <td>0.000000</td>\n",
              "    </tr>\n",
              "    <tr>\n",
              "      <th>1</th>\n",
              "      <td>0.267462</td>\n",
              "      <td>0.000000</td>\n",
              "      <td>0.000000</td>\n",
              "    </tr>\n",
              "    <tr>\n",
              "      <th>2</th>\n",
              "      <td>-0.556242</td>\n",
              "      <td>0.000000</td>\n",
              "      <td>0.178580</td>\n",
              "    </tr>\n",
              "    <tr>\n",
              "      <th>3</th>\n",
              "      <td>0.808382</td>\n",
              "      <td>0.000000</td>\n",
              "      <td>-0.764808</td>\n",
              "    </tr>\n",
              "    <tr>\n",
              "      <th>4</th>\n",
              "      <td>0.316958</td>\n",
              "      <td>-1.611566</td>\n",
              "      <td>-0.900395</td>\n",
              "    </tr>\n",
              "    <tr>\n",
              "      <th>5</th>\n",
              "      <td>0.666147</td>\n",
              "      <td>0.469969</td>\n",
              "      <td>0.486021</td>\n",
              "    </tr>\n",
              "    <tr>\n",
              "      <th>6</th>\n",
              "      <td>1.448033</td>\n",
              "      <td>-0.953801</td>\n",
              "      <td>-0.414354</td>\n",
              "    </tr>\n",
              "  </tbody>\n",
              "</table>\n",
              "</div>"
            ],
            "text/plain": [
              "          0         1         2\n",
              "0  0.433995  0.000000  0.000000\n",
              "1  0.267462  0.000000  0.000000\n",
              "2 -0.556242  0.000000  0.178580\n",
              "3  0.808382  0.000000 -0.764808\n",
              "4  0.316958 -1.611566 -0.900395\n",
              "5  0.666147  0.469969  0.486021\n",
              "6  1.448033 -0.953801 -0.414354"
            ]
          },
          "metadata": {},
          "execution_count": 16
        }
      ]
    },
    {
      "cell_type": "code",
      "metadata": {
        "colab": {
          "base_uri": "https://localhost:8080/",
          "height": 235
        },
        "id": "imhn_BAsEOTm",
        "outputId": "9386b614-b805-4b45-916a-f03c63413675"
      },
      "source": [
        "df = pd.DataFrame(np.random.randn(6, 3))\n",
        "df.iloc[2:, 1] = NA\n",
        "df.iloc[4:, 2] = NA\n",
        "df"
      ],
      "execution_count": null,
      "outputs": [
        {
          "output_type": "execute_result",
          "data": {
            "text/html": [
              "<div>\n",
              "<style scoped>\n",
              "    .dataframe tbody tr th:only-of-type {\n",
              "        vertical-align: middle;\n",
              "    }\n",
              "\n",
              "    .dataframe tbody tr th {\n",
              "        vertical-align: top;\n",
              "    }\n",
              "\n",
              "    .dataframe thead th {\n",
              "        text-align: right;\n",
              "    }\n",
              "</style>\n",
              "<table border=\"1\" class=\"dataframe\">\n",
              "  <thead>\n",
              "    <tr style=\"text-align: right;\">\n",
              "      <th></th>\n",
              "      <th>0</th>\n",
              "      <th>1</th>\n",
              "      <th>2</th>\n",
              "    </tr>\n",
              "  </thead>\n",
              "  <tbody>\n",
              "    <tr>\n",
              "      <th>0</th>\n",
              "      <td>-0.885062</td>\n",
              "      <td>-0.144022</td>\n",
              "      <td>-1.161074</td>\n",
              "    </tr>\n",
              "    <tr>\n",
              "      <th>1</th>\n",
              "      <td>0.674628</td>\n",
              "      <td>-1.763583</td>\n",
              "      <td>0.466262</td>\n",
              "    </tr>\n",
              "    <tr>\n",
              "      <th>2</th>\n",
              "      <td>-0.514522</td>\n",
              "      <td>NaN</td>\n",
              "      <td>-1.519534</td>\n",
              "    </tr>\n",
              "    <tr>\n",
              "      <th>3</th>\n",
              "      <td>-0.756187</td>\n",
              "      <td>NaN</td>\n",
              "      <td>-0.276320</td>\n",
              "    </tr>\n",
              "    <tr>\n",
              "      <th>4</th>\n",
              "      <td>-1.697925</td>\n",
              "      <td>NaN</td>\n",
              "      <td>NaN</td>\n",
              "    </tr>\n",
              "    <tr>\n",
              "      <th>5</th>\n",
              "      <td>0.490138</td>\n",
              "      <td>NaN</td>\n",
              "      <td>NaN</td>\n",
              "    </tr>\n",
              "  </tbody>\n",
              "</table>\n",
              "</div>"
            ],
            "text/plain": [
              "          0         1         2\n",
              "0 -0.885062 -0.144022 -1.161074\n",
              "1  0.674628 -1.763583  0.466262\n",
              "2 -0.514522       NaN -1.519534\n",
              "3 -0.756187       NaN -0.276320\n",
              "4 -1.697925       NaN       NaN\n",
              "5  0.490138       NaN       NaN"
            ]
          },
          "metadata": {},
          "execution_count": 17
        }
      ]
    },
    {
      "cell_type": "code",
      "metadata": {
        "colab": {
          "base_uri": "https://localhost:8080/",
          "height": 235
        },
        "id": "bo7MXL7uEcYE",
        "outputId": "71de0efa-f456-4d65-b59f-adeff96400d3"
      },
      "source": [
        "df.fillna(method='ffill')"
      ],
      "execution_count": null,
      "outputs": [
        {
          "output_type": "execute_result",
          "data": {
            "text/html": [
              "<div>\n",
              "<style scoped>\n",
              "    .dataframe tbody tr th:only-of-type {\n",
              "        vertical-align: middle;\n",
              "    }\n",
              "\n",
              "    .dataframe tbody tr th {\n",
              "        vertical-align: top;\n",
              "    }\n",
              "\n",
              "    .dataframe thead th {\n",
              "        text-align: right;\n",
              "    }\n",
              "</style>\n",
              "<table border=\"1\" class=\"dataframe\">\n",
              "  <thead>\n",
              "    <tr style=\"text-align: right;\">\n",
              "      <th></th>\n",
              "      <th>0</th>\n",
              "      <th>1</th>\n",
              "      <th>2</th>\n",
              "    </tr>\n",
              "  </thead>\n",
              "  <tbody>\n",
              "    <tr>\n",
              "      <th>0</th>\n",
              "      <td>-0.885062</td>\n",
              "      <td>-0.144022</td>\n",
              "      <td>-1.161074</td>\n",
              "    </tr>\n",
              "    <tr>\n",
              "      <th>1</th>\n",
              "      <td>0.674628</td>\n",
              "      <td>-1.763583</td>\n",
              "      <td>0.466262</td>\n",
              "    </tr>\n",
              "    <tr>\n",
              "      <th>2</th>\n",
              "      <td>-0.514522</td>\n",
              "      <td>-1.763583</td>\n",
              "      <td>-1.519534</td>\n",
              "    </tr>\n",
              "    <tr>\n",
              "      <th>3</th>\n",
              "      <td>-0.756187</td>\n",
              "      <td>-1.763583</td>\n",
              "      <td>-0.276320</td>\n",
              "    </tr>\n",
              "    <tr>\n",
              "      <th>4</th>\n",
              "      <td>-1.697925</td>\n",
              "      <td>-1.763583</td>\n",
              "      <td>-0.276320</td>\n",
              "    </tr>\n",
              "    <tr>\n",
              "      <th>5</th>\n",
              "      <td>0.490138</td>\n",
              "      <td>-1.763583</td>\n",
              "      <td>-0.276320</td>\n",
              "    </tr>\n",
              "  </tbody>\n",
              "</table>\n",
              "</div>"
            ],
            "text/plain": [
              "          0         1         2\n",
              "0 -0.885062 -0.144022 -1.161074\n",
              "1  0.674628 -1.763583  0.466262\n",
              "2 -0.514522 -1.763583 -1.519534\n",
              "3 -0.756187 -1.763583 -0.276320\n",
              "4 -1.697925 -1.763583 -0.276320\n",
              "5  0.490138 -1.763583 -0.276320"
            ]
          },
          "metadata": {},
          "execution_count": 18
        }
      ]
    },
    {
      "cell_type": "code",
      "metadata": {
        "colab": {
          "base_uri": "https://localhost:8080/",
          "height": 235
        },
        "id": "44f2sHebEkHU",
        "outputId": "13ab48e3-de31-45cf-ea0f-f4e7eb7f2db5"
      },
      "source": [
        "df.fillna(method='ffill', limit=2)"
      ],
      "execution_count": null,
      "outputs": [
        {
          "output_type": "execute_result",
          "data": {
            "text/html": [
              "<div>\n",
              "<style scoped>\n",
              "    .dataframe tbody tr th:only-of-type {\n",
              "        vertical-align: middle;\n",
              "    }\n",
              "\n",
              "    .dataframe tbody tr th {\n",
              "        vertical-align: top;\n",
              "    }\n",
              "\n",
              "    .dataframe thead th {\n",
              "        text-align: right;\n",
              "    }\n",
              "</style>\n",
              "<table border=\"1\" class=\"dataframe\">\n",
              "  <thead>\n",
              "    <tr style=\"text-align: right;\">\n",
              "      <th></th>\n",
              "      <th>0</th>\n",
              "      <th>1</th>\n",
              "      <th>2</th>\n",
              "    </tr>\n",
              "  </thead>\n",
              "  <tbody>\n",
              "    <tr>\n",
              "      <th>0</th>\n",
              "      <td>-0.885062</td>\n",
              "      <td>-0.144022</td>\n",
              "      <td>-1.161074</td>\n",
              "    </tr>\n",
              "    <tr>\n",
              "      <th>1</th>\n",
              "      <td>0.674628</td>\n",
              "      <td>-1.763583</td>\n",
              "      <td>0.466262</td>\n",
              "    </tr>\n",
              "    <tr>\n",
              "      <th>2</th>\n",
              "      <td>-0.514522</td>\n",
              "      <td>-1.763583</td>\n",
              "      <td>-1.519534</td>\n",
              "    </tr>\n",
              "    <tr>\n",
              "      <th>3</th>\n",
              "      <td>-0.756187</td>\n",
              "      <td>-1.763583</td>\n",
              "      <td>-0.276320</td>\n",
              "    </tr>\n",
              "    <tr>\n",
              "      <th>4</th>\n",
              "      <td>-1.697925</td>\n",
              "      <td>NaN</td>\n",
              "      <td>-0.276320</td>\n",
              "    </tr>\n",
              "    <tr>\n",
              "      <th>5</th>\n",
              "      <td>0.490138</td>\n",
              "      <td>NaN</td>\n",
              "      <td>-0.276320</td>\n",
              "    </tr>\n",
              "  </tbody>\n",
              "</table>\n",
              "</div>"
            ],
            "text/plain": [
              "          0         1         2\n",
              "0 -0.885062 -0.144022 -1.161074\n",
              "1  0.674628 -1.763583  0.466262\n",
              "2 -0.514522 -1.763583 -1.519534\n",
              "3 -0.756187 -1.763583 -0.276320\n",
              "4 -1.697925       NaN -0.276320\n",
              "5  0.490138       NaN -0.276320"
            ]
          },
          "metadata": {},
          "execution_count": 19
        }
      ]
    },
    {
      "cell_type": "code",
      "metadata": {
        "colab": {
          "base_uri": "https://localhost:8080/"
        },
        "id": "axFzBVv0El-F",
        "outputId": "80ff2b91-74b7-4b6c-df51-4fe02ed7075f"
      },
      "source": [
        "data = pd.Series([1., NA, 3.5, NA, 7])\n",
        "data.fillna(data.mean())"
      ],
      "execution_count": null,
      "outputs": [
        {
          "output_type": "execute_result",
          "data": {
            "text/plain": [
              "0    1.000000\n",
              "1    3.833333\n",
              "2    3.500000\n",
              "3    3.833333\n",
              "4    7.000000\n",
              "dtype: float64"
            ]
          },
          "metadata": {},
          "execution_count": 21
        }
      ]
    },
    {
      "cell_type": "code",
      "metadata": {
        "colab": {
          "base_uri": "https://localhost:8080/",
          "height": 266
        },
        "id": "0eaaUflPEvCw",
        "outputId": "4670439e-2950-4798-c00d-54b1749b9571"
      },
      "source": [
        "data = pd.DataFrame({'k1': ['one', 'two'] * 3 + ['two'],'k2': [1, 1, 2, 3, 3, 4, 4]})\n",
        "data"
      ],
      "execution_count": null,
      "outputs": [
        {
          "output_type": "execute_result",
          "data": {
            "text/html": [
              "<div>\n",
              "<style scoped>\n",
              "    .dataframe tbody tr th:only-of-type {\n",
              "        vertical-align: middle;\n",
              "    }\n",
              "\n",
              "    .dataframe tbody tr th {\n",
              "        vertical-align: top;\n",
              "    }\n",
              "\n",
              "    .dataframe thead th {\n",
              "        text-align: right;\n",
              "    }\n",
              "</style>\n",
              "<table border=\"1\" class=\"dataframe\">\n",
              "  <thead>\n",
              "    <tr style=\"text-align: right;\">\n",
              "      <th></th>\n",
              "      <th>k1</th>\n",
              "      <th>k2</th>\n",
              "    </tr>\n",
              "  </thead>\n",
              "  <tbody>\n",
              "    <tr>\n",
              "      <th>0</th>\n",
              "      <td>one</td>\n",
              "      <td>1</td>\n",
              "    </tr>\n",
              "    <tr>\n",
              "      <th>1</th>\n",
              "      <td>two</td>\n",
              "      <td>1</td>\n",
              "    </tr>\n",
              "    <tr>\n",
              "      <th>2</th>\n",
              "      <td>one</td>\n",
              "      <td>2</td>\n",
              "    </tr>\n",
              "    <tr>\n",
              "      <th>3</th>\n",
              "      <td>two</td>\n",
              "      <td>3</td>\n",
              "    </tr>\n",
              "    <tr>\n",
              "      <th>4</th>\n",
              "      <td>one</td>\n",
              "      <td>3</td>\n",
              "    </tr>\n",
              "    <tr>\n",
              "      <th>5</th>\n",
              "      <td>two</td>\n",
              "      <td>4</td>\n",
              "    </tr>\n",
              "    <tr>\n",
              "      <th>6</th>\n",
              "      <td>two</td>\n",
              "      <td>4</td>\n",
              "    </tr>\n",
              "  </tbody>\n",
              "</table>\n",
              "</div>"
            ],
            "text/plain": [
              "    k1  k2\n",
              "0  one   1\n",
              "1  two   1\n",
              "2  one   2\n",
              "3  two   3\n",
              "4  one   3\n",
              "5  two   4\n",
              "6  two   4"
            ]
          },
          "metadata": {},
          "execution_count": 22
        }
      ]
    },
    {
      "cell_type": "code",
      "metadata": {
        "colab": {
          "base_uri": "https://localhost:8080/"
        },
        "id": "jIx0fnCeFFtT",
        "outputId": "47767f2e-2503-4594-ba7e-8942fc9e4c64"
      },
      "source": [
        "data.duplicated()"
      ],
      "execution_count": null,
      "outputs": [
        {
          "output_type": "execute_result",
          "data": {
            "text/plain": [
              "0    False\n",
              "1    False\n",
              "2    False\n",
              "3    False\n",
              "4    False\n",
              "5    False\n",
              "6     True\n",
              "dtype: bool"
            ]
          },
          "metadata": {},
          "execution_count": 23
        }
      ]
    },
    {
      "cell_type": "code",
      "metadata": {
        "colab": {
          "base_uri": "https://localhost:8080/",
          "height": 235
        },
        "id": "nrFSx0_VFHwJ",
        "outputId": "461dd2a5-14da-4fba-ee54-b4d038c47dc7"
      },
      "source": [
        "data.drop_duplicates()"
      ],
      "execution_count": null,
      "outputs": [
        {
          "output_type": "execute_result",
          "data": {
            "text/html": [
              "<div>\n",
              "<style scoped>\n",
              "    .dataframe tbody tr th:only-of-type {\n",
              "        vertical-align: middle;\n",
              "    }\n",
              "\n",
              "    .dataframe tbody tr th {\n",
              "        vertical-align: top;\n",
              "    }\n",
              "\n",
              "    .dataframe thead th {\n",
              "        text-align: right;\n",
              "    }\n",
              "</style>\n",
              "<table border=\"1\" class=\"dataframe\">\n",
              "  <thead>\n",
              "    <tr style=\"text-align: right;\">\n",
              "      <th></th>\n",
              "      <th>k1</th>\n",
              "      <th>k2</th>\n",
              "    </tr>\n",
              "  </thead>\n",
              "  <tbody>\n",
              "    <tr>\n",
              "      <th>0</th>\n",
              "      <td>one</td>\n",
              "      <td>1</td>\n",
              "    </tr>\n",
              "    <tr>\n",
              "      <th>1</th>\n",
              "      <td>two</td>\n",
              "      <td>1</td>\n",
              "    </tr>\n",
              "    <tr>\n",
              "      <th>2</th>\n",
              "      <td>one</td>\n",
              "      <td>2</td>\n",
              "    </tr>\n",
              "    <tr>\n",
              "      <th>3</th>\n",
              "      <td>two</td>\n",
              "      <td>3</td>\n",
              "    </tr>\n",
              "    <tr>\n",
              "      <th>4</th>\n",
              "      <td>one</td>\n",
              "      <td>3</td>\n",
              "    </tr>\n",
              "    <tr>\n",
              "      <th>5</th>\n",
              "      <td>two</td>\n",
              "      <td>4</td>\n",
              "    </tr>\n",
              "  </tbody>\n",
              "</table>\n",
              "</div>"
            ],
            "text/plain": [
              "    k1  k2\n",
              "0  one   1\n",
              "1  two   1\n",
              "2  one   2\n",
              "3  two   3\n",
              "4  one   3\n",
              "5  two   4"
            ]
          },
          "metadata": {},
          "execution_count": 24
        }
      ]
    },
    {
      "cell_type": "code",
      "metadata": {
        "colab": {
          "base_uri": "https://localhost:8080/",
          "height": 111
        },
        "id": "Io4mNRN3FMDB",
        "outputId": "20eacbd8-7e13-4ff4-e353-dd0ef656d64f"
      },
      "source": [
        "data['v1'] = range(7)\n",
        "data.drop_duplicates(['k1'])"
      ],
      "execution_count": null,
      "outputs": [
        {
          "output_type": "execute_result",
          "data": {
            "text/html": [
              "<div>\n",
              "<style scoped>\n",
              "    .dataframe tbody tr th:only-of-type {\n",
              "        vertical-align: middle;\n",
              "    }\n",
              "\n",
              "    .dataframe tbody tr th {\n",
              "        vertical-align: top;\n",
              "    }\n",
              "\n",
              "    .dataframe thead th {\n",
              "        text-align: right;\n",
              "    }\n",
              "</style>\n",
              "<table border=\"1\" class=\"dataframe\">\n",
              "  <thead>\n",
              "    <tr style=\"text-align: right;\">\n",
              "      <th></th>\n",
              "      <th>k1</th>\n",
              "      <th>k2</th>\n",
              "      <th>v1</th>\n",
              "    </tr>\n",
              "  </thead>\n",
              "  <tbody>\n",
              "    <tr>\n",
              "      <th>0</th>\n",
              "      <td>one</td>\n",
              "      <td>1</td>\n",
              "      <td>0</td>\n",
              "    </tr>\n",
              "    <tr>\n",
              "      <th>1</th>\n",
              "      <td>two</td>\n",
              "      <td>1</td>\n",
              "      <td>1</td>\n",
              "    </tr>\n",
              "  </tbody>\n",
              "</table>\n",
              "</div>"
            ],
            "text/plain": [
              "    k1  k2  v1\n",
              "0  one   1   0\n",
              "1  two   1   1"
            ]
          },
          "metadata": {},
          "execution_count": 26
        }
      ]
    },
    {
      "cell_type": "code",
      "metadata": {
        "colab": {
          "base_uri": "https://localhost:8080/",
          "height": 235
        },
        "id": "hN2HJq1yF1vT",
        "outputId": "f1ec097b-e0d0-4f75-ae4c-296b25ecacd2"
      },
      "source": [
        "data.drop_duplicates(['k1', 'k2'], keep='last')"
      ],
      "execution_count": null,
      "outputs": [
        {
          "output_type": "execute_result",
          "data": {
            "text/html": [
              "<div>\n",
              "<style scoped>\n",
              "    .dataframe tbody tr th:only-of-type {\n",
              "        vertical-align: middle;\n",
              "    }\n",
              "\n",
              "    .dataframe tbody tr th {\n",
              "        vertical-align: top;\n",
              "    }\n",
              "\n",
              "    .dataframe thead th {\n",
              "        text-align: right;\n",
              "    }\n",
              "</style>\n",
              "<table border=\"1\" class=\"dataframe\">\n",
              "  <thead>\n",
              "    <tr style=\"text-align: right;\">\n",
              "      <th></th>\n",
              "      <th>k1</th>\n",
              "      <th>k2</th>\n",
              "      <th>v1</th>\n",
              "    </tr>\n",
              "  </thead>\n",
              "  <tbody>\n",
              "    <tr>\n",
              "      <th>0</th>\n",
              "      <td>one</td>\n",
              "      <td>1</td>\n",
              "      <td>0</td>\n",
              "    </tr>\n",
              "    <tr>\n",
              "      <th>1</th>\n",
              "      <td>two</td>\n",
              "      <td>1</td>\n",
              "      <td>1</td>\n",
              "    </tr>\n",
              "    <tr>\n",
              "      <th>2</th>\n",
              "      <td>one</td>\n",
              "      <td>2</td>\n",
              "      <td>2</td>\n",
              "    </tr>\n",
              "    <tr>\n",
              "      <th>3</th>\n",
              "      <td>two</td>\n",
              "      <td>3</td>\n",
              "      <td>3</td>\n",
              "    </tr>\n",
              "    <tr>\n",
              "      <th>4</th>\n",
              "      <td>one</td>\n",
              "      <td>3</td>\n",
              "      <td>4</td>\n",
              "    </tr>\n",
              "    <tr>\n",
              "      <th>6</th>\n",
              "      <td>two</td>\n",
              "      <td>4</td>\n",
              "      <td>6</td>\n",
              "    </tr>\n",
              "  </tbody>\n",
              "</table>\n",
              "</div>"
            ],
            "text/plain": [
              "    k1  k2  v1\n",
              "0  one   1   0\n",
              "1  two   1   1\n",
              "2  one   2   2\n",
              "3  two   3   3\n",
              "4  one   3   4\n",
              "6  two   4   6"
            ]
          },
          "metadata": {},
          "execution_count": 27
        }
      ]
    },
    {
      "cell_type": "code",
      "metadata": {
        "colab": {
          "base_uri": "https://localhost:8080/",
          "height": 328
        },
        "id": "gUkAgA-IF3nm",
        "outputId": "57fef47d-2d77-4eae-ec2f-c56a69ada5f2"
      },
      "source": [
        "data = pd.DataFrame({'food': ['bacon', 'pulled pork', 'bacon','Pastrami', 'corned beef', 'Bacon','pastrami', 'honey ham', 'nova lox'], 'ounces': [4, 3, 12, 6, 7.5, 8, 3, 5, 6]})\n",
        "data"
      ],
      "execution_count": null,
      "outputs": [
        {
          "output_type": "execute_result",
          "data": {
            "text/html": [
              "<div>\n",
              "<style scoped>\n",
              "    .dataframe tbody tr th:only-of-type {\n",
              "        vertical-align: middle;\n",
              "    }\n",
              "\n",
              "    .dataframe tbody tr th {\n",
              "        vertical-align: top;\n",
              "    }\n",
              "\n",
              "    .dataframe thead th {\n",
              "        text-align: right;\n",
              "    }\n",
              "</style>\n",
              "<table border=\"1\" class=\"dataframe\">\n",
              "  <thead>\n",
              "    <tr style=\"text-align: right;\">\n",
              "      <th></th>\n",
              "      <th>food</th>\n",
              "      <th>ounces</th>\n",
              "    </tr>\n",
              "  </thead>\n",
              "  <tbody>\n",
              "    <tr>\n",
              "      <th>0</th>\n",
              "      <td>bacon</td>\n",
              "      <td>4.0</td>\n",
              "    </tr>\n",
              "    <tr>\n",
              "      <th>1</th>\n",
              "      <td>pulled pork</td>\n",
              "      <td>3.0</td>\n",
              "    </tr>\n",
              "    <tr>\n",
              "      <th>2</th>\n",
              "      <td>bacon</td>\n",
              "      <td>12.0</td>\n",
              "    </tr>\n",
              "    <tr>\n",
              "      <th>3</th>\n",
              "      <td>Pastrami</td>\n",
              "      <td>6.0</td>\n",
              "    </tr>\n",
              "    <tr>\n",
              "      <th>4</th>\n",
              "      <td>corned beef</td>\n",
              "      <td>7.5</td>\n",
              "    </tr>\n",
              "    <tr>\n",
              "      <th>5</th>\n",
              "      <td>Bacon</td>\n",
              "      <td>8.0</td>\n",
              "    </tr>\n",
              "    <tr>\n",
              "      <th>6</th>\n",
              "      <td>pastrami</td>\n",
              "      <td>3.0</td>\n",
              "    </tr>\n",
              "    <tr>\n",
              "      <th>7</th>\n",
              "      <td>honey ham</td>\n",
              "      <td>5.0</td>\n",
              "    </tr>\n",
              "    <tr>\n",
              "      <th>8</th>\n",
              "      <td>nova lox</td>\n",
              "      <td>6.0</td>\n",
              "    </tr>\n",
              "  </tbody>\n",
              "</table>\n",
              "</div>"
            ],
            "text/plain": [
              "          food  ounces\n",
              "0        bacon     4.0\n",
              "1  pulled pork     3.0\n",
              "2        bacon    12.0\n",
              "3     Pastrami     6.0\n",
              "4  corned beef     7.5\n",
              "5        Bacon     8.0\n",
              "6     pastrami     3.0\n",
              "7    honey ham     5.0\n",
              "8     nova lox     6.0"
            ]
          },
          "metadata": {},
          "execution_count": 29
        }
      ]
    },
    {
      "cell_type": "code",
      "metadata": {
        "id": "3-OiiEvUGIAk"
      },
      "source": [
        "meat_to_animal = {\n",
        "'bacon': 'pig',\n",
        "'pulled pork': 'pig',\n",
        "'pastrami': 'cow',\n",
        "'corned beef': 'cow',\n",
        "'honey ham': 'pig',\n",
        "'nova lox': 'salmon'\n",
        "}"
      ],
      "execution_count": null,
      "outputs": []
    },
    {
      "cell_type": "code",
      "metadata": {
        "colab": {
          "base_uri": "https://localhost:8080/"
        },
        "id": "LNFXu-HeGWWX",
        "outputId": "8e85fbf1-01cd-47e7-afd6-4d01b6e74998"
      },
      "source": [
        "lowercased = data['food'].str.lower()\n",
        "lowercased"
      ],
      "execution_count": null,
      "outputs": [
        {
          "output_type": "execute_result",
          "data": {
            "text/plain": [
              "0          bacon\n",
              "1    pulled pork\n",
              "2          bacon\n",
              "3       pastrami\n",
              "4    corned beef\n",
              "5          bacon\n",
              "6       pastrami\n",
              "7      honey ham\n",
              "8       nova lox\n",
              "Name: food, dtype: object"
            ]
          },
          "metadata": {},
          "execution_count": 32
        }
      ]
    },
    {
      "cell_type": "code",
      "metadata": {
        "colab": {
          "base_uri": "https://localhost:8080/",
          "height": 328
        },
        "id": "Mz2TcfnRGjzr",
        "outputId": "91cdb407-541c-4d3f-b552-f0bac102198f"
      },
      "source": [
        "data['animal'] = lowercased.map(meat_to_animal)\n",
        "data"
      ],
      "execution_count": null,
      "outputs": [
        {
          "output_type": "execute_result",
          "data": {
            "text/html": [
              "<div>\n",
              "<style scoped>\n",
              "    .dataframe tbody tr th:only-of-type {\n",
              "        vertical-align: middle;\n",
              "    }\n",
              "\n",
              "    .dataframe tbody tr th {\n",
              "        vertical-align: top;\n",
              "    }\n",
              "\n",
              "    .dataframe thead th {\n",
              "        text-align: right;\n",
              "    }\n",
              "</style>\n",
              "<table border=\"1\" class=\"dataframe\">\n",
              "  <thead>\n",
              "    <tr style=\"text-align: right;\">\n",
              "      <th></th>\n",
              "      <th>food</th>\n",
              "      <th>ounces</th>\n",
              "      <th>animal</th>\n",
              "    </tr>\n",
              "  </thead>\n",
              "  <tbody>\n",
              "    <tr>\n",
              "      <th>0</th>\n",
              "      <td>bacon</td>\n",
              "      <td>4.0</td>\n",
              "      <td>pig</td>\n",
              "    </tr>\n",
              "    <tr>\n",
              "      <th>1</th>\n",
              "      <td>pulled pork</td>\n",
              "      <td>3.0</td>\n",
              "      <td>pig</td>\n",
              "    </tr>\n",
              "    <tr>\n",
              "      <th>2</th>\n",
              "      <td>bacon</td>\n",
              "      <td>12.0</td>\n",
              "      <td>pig</td>\n",
              "    </tr>\n",
              "    <tr>\n",
              "      <th>3</th>\n",
              "      <td>Pastrami</td>\n",
              "      <td>6.0</td>\n",
              "      <td>cow</td>\n",
              "    </tr>\n",
              "    <tr>\n",
              "      <th>4</th>\n",
              "      <td>corned beef</td>\n",
              "      <td>7.5</td>\n",
              "      <td>cow</td>\n",
              "    </tr>\n",
              "    <tr>\n",
              "      <th>5</th>\n",
              "      <td>Bacon</td>\n",
              "      <td>8.0</td>\n",
              "      <td>pig</td>\n",
              "    </tr>\n",
              "    <tr>\n",
              "      <th>6</th>\n",
              "      <td>pastrami</td>\n",
              "      <td>3.0</td>\n",
              "      <td>cow</td>\n",
              "    </tr>\n",
              "    <tr>\n",
              "      <th>7</th>\n",
              "      <td>honey ham</td>\n",
              "      <td>5.0</td>\n",
              "      <td>pig</td>\n",
              "    </tr>\n",
              "    <tr>\n",
              "      <th>8</th>\n",
              "      <td>nova lox</td>\n",
              "      <td>6.0</td>\n",
              "      <td>salmon</td>\n",
              "    </tr>\n",
              "  </tbody>\n",
              "</table>\n",
              "</div>"
            ],
            "text/plain": [
              "          food  ounces  animal\n",
              "0        bacon     4.0     pig\n",
              "1  pulled pork     3.0     pig\n",
              "2        bacon    12.0     pig\n",
              "3     Pastrami     6.0     cow\n",
              "4  corned beef     7.5     cow\n",
              "5        Bacon     8.0     pig\n",
              "6     pastrami     3.0     cow\n",
              "7    honey ham     5.0     pig\n",
              "8     nova lox     6.0  salmon"
            ]
          },
          "metadata": {},
          "execution_count": 33
        }
      ]
    },
    {
      "cell_type": "code",
      "metadata": {
        "colab": {
          "base_uri": "https://localhost:8080/"
        },
        "id": "LJejOJfXGwJC",
        "outputId": "9ba50a07-3f3a-4a59-e96a-bd4db20e31d5"
      },
      "source": [
        "data['food'].map(lambda x: meat_to_animal[x.lower()])"
      ],
      "execution_count": null,
      "outputs": [
        {
          "output_type": "execute_result",
          "data": {
            "text/plain": [
              "0       pig\n",
              "1       pig\n",
              "2       pig\n",
              "3       cow\n",
              "4       cow\n",
              "5       pig\n",
              "6       cow\n",
              "7       pig\n",
              "8    salmon\n",
              "Name: food, dtype: object"
            ]
          },
          "metadata": {},
          "execution_count": 34
        }
      ]
    },
    {
      "cell_type": "code",
      "metadata": {
        "colab": {
          "base_uri": "https://localhost:8080/"
        },
        "id": "MFcV0RqtG1X6",
        "outputId": "f036d5dd-c0f1-4ad3-fb0c-b914255df069"
      },
      "source": [
        "data = pd.Series([1., -999., 2., -999., -1000., 3.])\n",
        "data"
      ],
      "execution_count": null,
      "outputs": [
        {
          "output_type": "execute_result",
          "data": {
            "text/plain": [
              "0       1.0\n",
              "1    -999.0\n",
              "2       2.0\n",
              "3    -999.0\n",
              "4   -1000.0\n",
              "5       3.0\n",
              "dtype: float64"
            ]
          },
          "metadata": {},
          "execution_count": 36
        }
      ]
    },
    {
      "cell_type": "code",
      "metadata": {
        "colab": {
          "base_uri": "https://localhost:8080/"
        },
        "id": "OZn4YnTIG996",
        "outputId": "cf5e8e16-21e0-4653-e3e8-4388c041ccc8"
      },
      "source": [
        "data.replace(-999, np.nan)"
      ],
      "execution_count": null,
      "outputs": [
        {
          "output_type": "execute_result",
          "data": {
            "text/plain": [
              "0       1.0\n",
              "1       NaN\n",
              "2       2.0\n",
              "3       NaN\n",
              "4   -1000.0\n",
              "5       3.0\n",
              "dtype: float64"
            ]
          },
          "metadata": {},
          "execution_count": 37
        }
      ]
    },
    {
      "cell_type": "code",
      "metadata": {
        "colab": {
          "base_uri": "https://localhost:8080/"
        },
        "id": "HM1Uid78HCMo",
        "outputId": "31990e02-e6a8-49da-eca2-1854ffe7b44a"
      },
      "source": [
        "data.replace([-999, -1000], np.nan)"
      ],
      "execution_count": null,
      "outputs": [
        {
          "output_type": "execute_result",
          "data": {
            "text/plain": [
              "0    1.0\n",
              "1    NaN\n",
              "2    2.0\n",
              "3    NaN\n",
              "4    NaN\n",
              "5    3.0\n",
              "dtype: float64"
            ]
          },
          "metadata": {},
          "execution_count": 38
        }
      ]
    },
    {
      "cell_type": "code",
      "metadata": {
        "colab": {
          "base_uri": "https://localhost:8080/"
        },
        "id": "xt8BV2ddHG0u",
        "outputId": "352b7d23-fcad-4879-8947-f811bf66cf46"
      },
      "source": [
        "data.replace([-999, -1000], [np.nan, 0])"
      ],
      "execution_count": null,
      "outputs": [
        {
          "output_type": "execute_result",
          "data": {
            "text/plain": [
              "0    1.0\n",
              "1    NaN\n",
              "2    2.0\n",
              "3    NaN\n",
              "4    0.0\n",
              "5    3.0\n",
              "dtype: float64"
            ]
          },
          "metadata": {},
          "execution_count": 39
        }
      ]
    },
    {
      "cell_type": "code",
      "metadata": {
        "colab": {
          "base_uri": "https://localhost:8080/"
        },
        "id": "Znm9SBndHLDQ",
        "outputId": "ba6cf63f-f7b8-41eb-9d04-a37fb09e7c58"
      },
      "source": [
        "data.replace({-999: np.nan, -1000: 0})"
      ],
      "execution_count": null,
      "outputs": [
        {
          "output_type": "execute_result",
          "data": {
            "text/plain": [
              "0    1.0\n",
              "1    NaN\n",
              "2    2.0\n",
              "3    NaN\n",
              "4    0.0\n",
              "5    3.0\n",
              "dtype: float64"
            ]
          },
          "metadata": {},
          "execution_count": 40
        }
      ]
    },
    {
      "cell_type": "code",
      "metadata": {
        "colab": {
          "base_uri": "https://localhost:8080/",
          "height": 142
        },
        "id": "ybOXedvDHPsx",
        "outputId": "97d6d01b-a728-4ccb-be2c-bde04db8abb8"
      },
      "source": [
        "data = pd.DataFrame(np.arange(12).reshape((3, 4)), index=['Ohio', 'Colorado', 'New York'],\n",
        " columns=['one', 'two', 'three', 'four'])\n",
        "data"
      ],
      "execution_count": null,
      "outputs": [
        {
          "output_type": "execute_result",
          "data": {
            "text/html": [
              "<div>\n",
              "<style scoped>\n",
              "    .dataframe tbody tr th:only-of-type {\n",
              "        vertical-align: middle;\n",
              "    }\n",
              "\n",
              "    .dataframe tbody tr th {\n",
              "        vertical-align: top;\n",
              "    }\n",
              "\n",
              "    .dataframe thead th {\n",
              "        text-align: right;\n",
              "    }\n",
              "</style>\n",
              "<table border=\"1\" class=\"dataframe\">\n",
              "  <thead>\n",
              "    <tr style=\"text-align: right;\">\n",
              "      <th></th>\n",
              "      <th>one</th>\n",
              "      <th>two</th>\n",
              "      <th>three</th>\n",
              "      <th>four</th>\n",
              "    </tr>\n",
              "  </thead>\n",
              "  <tbody>\n",
              "    <tr>\n",
              "      <th>Ohio</th>\n",
              "      <td>0</td>\n",
              "      <td>1</td>\n",
              "      <td>2</td>\n",
              "      <td>3</td>\n",
              "    </tr>\n",
              "    <tr>\n",
              "      <th>Colorado</th>\n",
              "      <td>4</td>\n",
              "      <td>5</td>\n",
              "      <td>6</td>\n",
              "      <td>7</td>\n",
              "    </tr>\n",
              "    <tr>\n",
              "      <th>New York</th>\n",
              "      <td>8</td>\n",
              "      <td>9</td>\n",
              "      <td>10</td>\n",
              "      <td>11</td>\n",
              "    </tr>\n",
              "  </tbody>\n",
              "</table>\n",
              "</div>"
            ],
            "text/plain": [
              "          one  two  three  four\n",
              "Ohio        0    1      2     3\n",
              "Colorado    4    5      6     7\n",
              "New York    8    9     10    11"
            ]
          },
          "metadata": {},
          "execution_count": 42
        }
      ]
    },
    {
      "cell_type": "code",
      "metadata": {
        "colab": {
          "base_uri": "https://localhost:8080/"
        },
        "id": "73ueEzELHeUE",
        "outputId": "a4bfe247-d15c-4881-d897-f0a57ada150f"
      },
      "source": [
        "transform = lambda x: x[:4].upper()\n",
        "data.index.map(transform)"
      ],
      "execution_count": null,
      "outputs": [
        {
          "output_type": "execute_result",
          "data": {
            "text/plain": [
              "Index(['OHIO', 'COLO', 'NEW '], dtype='object')"
            ]
          },
          "metadata": {},
          "execution_count": 54
        }
      ]
    },
    {
      "cell_type": "code",
      "metadata": {
        "colab": {
          "base_uri": "https://localhost:8080/",
          "height": 142
        },
        "id": "D8qZDX3nHqdO",
        "outputId": "c78f08d5-afb3-4e0f-a0ad-a8aa72fb69d8"
      },
      "source": [
        "data.index = data.index.map(transform)\n",
        "data\n"
      ],
      "execution_count": null,
      "outputs": [
        {
          "output_type": "execute_result",
          "data": {
            "text/html": [
              "<div>\n",
              "<style scoped>\n",
              "    .dataframe tbody tr th:only-of-type {\n",
              "        vertical-align: middle;\n",
              "    }\n",
              "\n",
              "    .dataframe tbody tr th {\n",
              "        vertical-align: top;\n",
              "    }\n",
              "\n",
              "    .dataframe thead th {\n",
              "        text-align: right;\n",
              "    }\n",
              "</style>\n",
              "<table border=\"1\" class=\"dataframe\">\n",
              "  <thead>\n",
              "    <tr style=\"text-align: right;\">\n",
              "      <th></th>\n",
              "      <th>one</th>\n",
              "      <th>two</th>\n",
              "      <th>three</th>\n",
              "      <th>four</th>\n",
              "    </tr>\n",
              "  </thead>\n",
              "  <tbody>\n",
              "    <tr>\n",
              "      <th>OHIO</th>\n",
              "      <td>0</td>\n",
              "      <td>1</td>\n",
              "      <td>2</td>\n",
              "      <td>3</td>\n",
              "    </tr>\n",
              "    <tr>\n",
              "      <th>COLO</th>\n",
              "      <td>4</td>\n",
              "      <td>5</td>\n",
              "      <td>6</td>\n",
              "      <td>7</td>\n",
              "    </tr>\n",
              "    <tr>\n",
              "      <th>NEW</th>\n",
              "      <td>8</td>\n",
              "      <td>9</td>\n",
              "      <td>10</td>\n",
              "      <td>11</td>\n",
              "    </tr>\n",
              "  </tbody>\n",
              "</table>\n",
              "</div>"
            ],
            "text/plain": [
              "      one  two  three  four\n",
              "OHIO    0    1      2     3\n",
              "COLO    4    5      6     7\n",
              "NEW     8    9     10    11"
            ]
          },
          "metadata": {},
          "execution_count": 56
        }
      ]
    },
    {
      "cell_type": "code",
      "metadata": {
        "colab": {
          "base_uri": "https://localhost:8080/",
          "height": 142
        },
        "id": "CVss3PuyKrWU",
        "outputId": "df712099-d18b-4d44-d34e-291208947539"
      },
      "source": [
        "data.rename(index=str.title, columns=str.upper)"
      ],
      "execution_count": null,
      "outputs": [
        {
          "output_type": "execute_result",
          "data": {
            "text/html": [
              "<div>\n",
              "<style scoped>\n",
              "    .dataframe tbody tr th:only-of-type {\n",
              "        vertical-align: middle;\n",
              "    }\n",
              "\n",
              "    .dataframe tbody tr th {\n",
              "        vertical-align: top;\n",
              "    }\n",
              "\n",
              "    .dataframe thead th {\n",
              "        text-align: right;\n",
              "    }\n",
              "</style>\n",
              "<table border=\"1\" class=\"dataframe\">\n",
              "  <thead>\n",
              "    <tr style=\"text-align: right;\">\n",
              "      <th></th>\n",
              "      <th>ONE</th>\n",
              "      <th>TWO</th>\n",
              "      <th>THREE</th>\n",
              "      <th>FOUR</th>\n",
              "    </tr>\n",
              "  </thead>\n",
              "  <tbody>\n",
              "    <tr>\n",
              "      <th>Ohio</th>\n",
              "      <td>0</td>\n",
              "      <td>1</td>\n",
              "      <td>2</td>\n",
              "      <td>3</td>\n",
              "    </tr>\n",
              "    <tr>\n",
              "      <th>Colo</th>\n",
              "      <td>4</td>\n",
              "      <td>5</td>\n",
              "      <td>6</td>\n",
              "      <td>7</td>\n",
              "    </tr>\n",
              "    <tr>\n",
              "      <th>New</th>\n",
              "      <td>8</td>\n",
              "      <td>9</td>\n",
              "      <td>10</td>\n",
              "      <td>11</td>\n",
              "    </tr>\n",
              "  </tbody>\n",
              "</table>\n",
              "</div>"
            ],
            "text/plain": [
              "      ONE  TWO  THREE  FOUR\n",
              "Ohio    0    1      2     3\n",
              "Colo    4    5      6     7\n",
              "New     8    9     10    11"
            ]
          },
          "metadata": {},
          "execution_count": 57
        }
      ]
    },
    {
      "cell_type": "code",
      "metadata": {
        "colab": {
          "base_uri": "https://localhost:8080/",
          "height": 142
        },
        "id": "NgXij5ptKtrQ",
        "outputId": "3792fc89-83ab-4dd0-f667-ee94e729efec"
      },
      "source": [
        "data.rename(index={'OHIO': 'INDIANA'},\n",
        " columns={'three': 'peekaboo'})"
      ],
      "execution_count": null,
      "outputs": [
        {
          "output_type": "execute_result",
          "data": {
            "text/html": [
              "<div>\n",
              "<style scoped>\n",
              "    .dataframe tbody tr th:only-of-type {\n",
              "        vertical-align: middle;\n",
              "    }\n",
              "\n",
              "    .dataframe tbody tr th {\n",
              "        vertical-align: top;\n",
              "    }\n",
              "\n",
              "    .dataframe thead th {\n",
              "        text-align: right;\n",
              "    }\n",
              "</style>\n",
              "<table border=\"1\" class=\"dataframe\">\n",
              "  <thead>\n",
              "    <tr style=\"text-align: right;\">\n",
              "      <th></th>\n",
              "      <th>one</th>\n",
              "      <th>two</th>\n",
              "      <th>peekaboo</th>\n",
              "      <th>four</th>\n",
              "    </tr>\n",
              "  </thead>\n",
              "  <tbody>\n",
              "    <tr>\n",
              "      <th>INDIANA</th>\n",
              "      <td>0</td>\n",
              "      <td>1</td>\n",
              "      <td>2</td>\n",
              "      <td>3</td>\n",
              "    </tr>\n",
              "    <tr>\n",
              "      <th>COLO</th>\n",
              "      <td>4</td>\n",
              "      <td>5</td>\n",
              "      <td>6</td>\n",
              "      <td>7</td>\n",
              "    </tr>\n",
              "    <tr>\n",
              "      <th>NEW</th>\n",
              "      <td>8</td>\n",
              "      <td>9</td>\n",
              "      <td>10</td>\n",
              "      <td>11</td>\n",
              "    </tr>\n",
              "  </tbody>\n",
              "</table>\n",
              "</div>"
            ],
            "text/plain": [
              "         one  two  peekaboo  four\n",
              "INDIANA    0    1         2     3\n",
              "COLO       4    5         6     7\n",
              "NEW        8    9        10    11"
            ]
          },
          "metadata": {},
          "execution_count": 58
        }
      ]
    },
    {
      "cell_type": "code",
      "metadata": {
        "colab": {
          "base_uri": "https://localhost:8080/",
          "height": 142
        },
        "id": "oE2fmJ9RKz9k",
        "outputId": "2561166d-1230-495b-dde5-8b6bcefa25d2"
      },
      "source": [
        "data.rename(index={'OHIO': 'INDIANA'}, inplace=True)\n",
        "data"
      ],
      "execution_count": null,
      "outputs": [
        {
          "output_type": "execute_result",
          "data": {
            "text/html": [
              "<div>\n",
              "<style scoped>\n",
              "    .dataframe tbody tr th:only-of-type {\n",
              "        vertical-align: middle;\n",
              "    }\n",
              "\n",
              "    .dataframe tbody tr th {\n",
              "        vertical-align: top;\n",
              "    }\n",
              "\n",
              "    .dataframe thead th {\n",
              "        text-align: right;\n",
              "    }\n",
              "</style>\n",
              "<table border=\"1\" class=\"dataframe\">\n",
              "  <thead>\n",
              "    <tr style=\"text-align: right;\">\n",
              "      <th></th>\n",
              "      <th>one</th>\n",
              "      <th>two</th>\n",
              "      <th>three</th>\n",
              "      <th>four</th>\n",
              "    </tr>\n",
              "  </thead>\n",
              "  <tbody>\n",
              "    <tr>\n",
              "      <th>INDIANA</th>\n",
              "      <td>0</td>\n",
              "      <td>1</td>\n",
              "      <td>2</td>\n",
              "      <td>3</td>\n",
              "    </tr>\n",
              "    <tr>\n",
              "      <th>COLO</th>\n",
              "      <td>4</td>\n",
              "      <td>5</td>\n",
              "      <td>6</td>\n",
              "      <td>7</td>\n",
              "    </tr>\n",
              "    <tr>\n",
              "      <th>NEW</th>\n",
              "      <td>8</td>\n",
              "      <td>9</td>\n",
              "      <td>10</td>\n",
              "      <td>11</td>\n",
              "    </tr>\n",
              "  </tbody>\n",
              "</table>\n",
              "</div>"
            ],
            "text/plain": [
              "         one  two  three  four\n",
              "INDIANA    0    1      2     3\n",
              "COLO       4    5      6     7\n",
              "NEW        8    9     10    11"
            ]
          },
          "metadata": {},
          "execution_count": 59
        }
      ]
    },
    {
      "cell_type": "markdown",
      "metadata": {
        "id": "RTFZRdq6LMHw"
      },
      "source": [
        "Discretization and Binning"
      ]
    },
    {
      "cell_type": "code",
      "metadata": {
        "colab": {
          "base_uri": "https://localhost:8080/"
        },
        "id": "EkUI4x_uK7TT",
        "outputId": "d4435842-b6ab-4751-8db1-29365a4a5450"
      },
      "source": [
        "ages = [20, 22, 25, 27, 21, 23, 37, 31, 61, 45, 41, 32]\n",
        "bins = [18, 25, 35, 60, 100]\n",
        "cats = pd.cut(ages, bins)\n",
        "cats"
      ],
      "execution_count": null,
      "outputs": [
        {
          "output_type": "execute_result",
          "data": {
            "text/plain": [
              "[(18, 25], (18, 25], (18, 25], (25, 35], (18, 25], ..., (25, 35], (60, 100], (35, 60], (35, 60], (25, 35]]\n",
              "Length: 12\n",
              "Categories (4, interval[int64]): [(18, 25] < (25, 35] < (35, 60] < (60, 100]]"
            ]
          },
          "metadata": {},
          "execution_count": 60
        }
      ]
    },
    {
      "cell_type": "code",
      "metadata": {
        "colab": {
          "base_uri": "https://localhost:8080/"
        },
        "id": "_LVAiNqtHiJA",
        "outputId": "4047014b-af8c-48cc-bedf-34a40701b11b"
      },
      "source": [
        "cats.codes\n"
      ],
      "execution_count": null,
      "outputs": [
        {
          "output_type": "execute_result",
          "data": {
            "text/plain": [
              "array([0, 0, 0, 1, 0, 0, 2, 1, 3, 2, 2, 1], dtype=int8)"
            ]
          },
          "metadata": {},
          "execution_count": 62
        }
      ]
    },
    {
      "cell_type": "code",
      "metadata": {
        "colab": {
          "base_uri": "https://localhost:8080/"
        },
        "id": "NleRw78dMhih",
        "outputId": "7b1c9382-32d8-4e21-a9a4-539dd5da484c"
      },
      "source": [
        "cats.categories"
      ],
      "execution_count": null,
      "outputs": [
        {
          "output_type": "execute_result",
          "data": {
            "text/plain": [
              "IntervalIndex([(18, 25], (25, 35], (35, 60], (60, 100]],\n",
              "              closed='right',\n",
              "              dtype='interval[int64]')"
            ]
          },
          "metadata": {},
          "execution_count": 63
        }
      ]
    },
    {
      "cell_type": "code",
      "metadata": {
        "colab": {
          "base_uri": "https://localhost:8080/"
        },
        "id": "8pgZwUQFMnIg",
        "outputId": "c0ec6955-2ea1-41d0-c51b-d3a67c027183"
      },
      "source": [
        "pd.value_counts(cats)"
      ],
      "execution_count": null,
      "outputs": [
        {
          "output_type": "execute_result",
          "data": {
            "text/plain": [
              "(18, 25]     5\n",
              "(35, 60]     3\n",
              "(25, 35]     3\n",
              "(60, 100]    1\n",
              "dtype: int64"
            ]
          },
          "metadata": {},
          "execution_count": 64
        }
      ]
    },
    {
      "cell_type": "code",
      "metadata": {
        "colab": {
          "base_uri": "https://localhost:8080/"
        },
        "id": "IvUTBRgnMyWs",
        "outputId": "024d655c-9cee-40a8-a21b-44d25b68e01c"
      },
      "source": [
        "pd.cut(ages, [18, 26, 36, 61, 100], right=False)"
      ],
      "execution_count": null,
      "outputs": [
        {
          "output_type": "execute_result",
          "data": {
            "text/plain": [
              "[[18, 26), [18, 26), [18, 26), [26, 36), [18, 26), ..., [26, 36), [61, 100), [36, 61), [36, 61), [26, 36)]\n",
              "Length: 12\n",
              "Categories (4, interval[int64]): [[18, 26) < [26, 36) < [36, 61) < [61, 100)]"
            ]
          },
          "metadata": {},
          "execution_count": 65
        }
      ]
    },
    {
      "cell_type": "code",
      "metadata": {
        "colab": {
          "base_uri": "https://localhost:8080/"
        },
        "id": "UxVe-AjcM0Vz",
        "outputId": "1d87ee97-8477-4fce-a16b-ed2a55d68e06"
      },
      "source": [
        "group_names = ['Youth', 'YoungAdult', 'MiddleAged', 'Senior']\n",
        "group_names"
      ],
      "execution_count": null,
      "outputs": [
        {
          "output_type": "execute_result",
          "data": {
            "text/plain": [
              "['Youth', 'YoungAdult', 'MiddleAged', 'Senior']"
            ]
          },
          "metadata": {},
          "execution_count": 67
        }
      ]
    },
    {
      "cell_type": "code",
      "metadata": {
        "colab": {
          "base_uri": "https://localhost:8080/"
        },
        "id": "5FaOQvPCM_NU",
        "outputId": "d9da21fa-78fe-4f8c-ae86-4b4a2446c4ef"
      },
      "source": [
        "pd.cut(ages, bins, labels=group_names)"
      ],
      "execution_count": null,
      "outputs": [
        {
          "output_type": "execute_result",
          "data": {
            "text/plain": [
              "['Youth', 'Youth', 'Youth', 'YoungAdult', 'Youth', ..., 'YoungAdult', 'Senior', 'MiddleAged', 'MiddleAged', 'YoungAdult']\n",
              "Length: 12\n",
              "Categories (4, object): ['Youth' < 'YoungAdult' < 'MiddleAged' < 'Senior']"
            ]
          },
          "metadata": {},
          "execution_count": 68
        }
      ]
    },
    {
      "cell_type": "code",
      "metadata": {
        "colab": {
          "base_uri": "https://localhost:8080/"
        },
        "id": "LkRDQrwrNEsu",
        "outputId": "b4c1421e-cd6b-4dc5-bf7d-878a2f54cbbd"
      },
      "source": [
        "data = np.random.rand(20)\n",
        "data"
      ],
      "execution_count": null,
      "outputs": [
        {
          "output_type": "execute_result",
          "data": {
            "text/plain": [
              "array([0.73297528, 0.16939418, 0.60081199, 0.90509887, 0.27733471,\n",
              "       0.88548884, 0.49402637, 0.40969711, 0.96016154, 0.88295617,\n",
              "       0.25178118, 0.71119359, 0.45265134, 0.26959091, 0.55207573,\n",
              "       0.04679596, 0.86651646, 0.60601233, 0.34617792, 0.93458575])"
            ]
          },
          "metadata": {},
          "execution_count": 70
        }
      ]
    },
    {
      "cell_type": "code",
      "metadata": {
        "colab": {
          "base_uri": "https://localhost:8080/"
        },
        "id": "unWKtHEUNQrR",
        "outputId": "a2c249b2-f172-49f3-ebb5-a4e65e9a2cb3"
      },
      "source": [
        "pd.cut(data, 4, precision=2)\n"
      ],
      "execution_count": null,
      "outputs": [
        {
          "output_type": "execute_result",
          "data": {
            "text/plain": [
              "[(0.73, 0.96], (0.046, 0.28], (0.5, 0.73], (0.73, 0.96], (0.28, 0.5], ..., (0.046, 0.28], (0.73, 0.96], (0.5, 0.73], (0.28, 0.5], (0.73, 0.96]]\n",
              "Length: 20\n",
              "Categories (4, interval[float64]): [(0.046, 0.28] < (0.28, 0.5] < (0.5, 0.73] < (0.73, 0.96]]"
            ]
          },
          "metadata": {},
          "execution_count": 71
        }
      ]
    },
    {
      "cell_type": "code",
      "metadata": {
        "colab": {
          "base_uri": "https://localhost:8080/"
        },
        "id": "7Oq0RBLfNWX0",
        "outputId": "4aac47f3-20e4-4eda-9b7c-b04396e6cb1a"
      },
      "source": [
        "data = np.random.randn(1000)\n",
        "data"
      ],
      "execution_count": null,
      "outputs": [
        {
          "output_type": "execute_result",
          "data": {
            "text/plain": [
              "array([-1.43987356e+00,  6.38518744e-01,  1.19986557e-01,  1.63875867e-01,\n",
              "        1.17314158e-01,  2.24662932e-01, -1.78286113e+00, -2.98412051e-01,\n",
              "        1.12433670e+00,  2.54272188e-01,  1.54258234e+00, -8.29383144e-01,\n",
              "       -1.03520947e+00, -1.55387871e-02,  6.86575004e-01, -1.00451425e+00,\n",
              "        5.64375896e-01,  1.66167264e+00,  7.84153898e-02,  1.34509982e+00,\n",
              "        1.15493507e+00, -1.64114028e+00, -2.87424640e-01,  1.30054978e+00,\n",
              "        2.93370424e+00,  1.02701078e+00,  1.32438216e+00,  1.24903687e-01,\n",
              "        2.75222285e-01, -9.29986418e-01, -9.67917456e-01, -1.08090814e+00,\n",
              "       -1.30296152e+00,  1.55584310e-01, -2.11014823e+00,  8.53170893e-01,\n",
              "       -4.41725908e-01,  1.27236270e+00,  3.45322190e-01, -1.19383189e+00,\n",
              "       -4.11382942e-01,  4.10151080e-01,  1.04390847e+00,  3.48408998e-01,\n",
              "       -2.20676326e-01,  3.55507639e-01, -1.03383609e+00,  1.46201023e+00,\n",
              "        4.60720914e-02, -1.15832930e+00, -2.63570918e-01,  4.73220066e-01,\n",
              "       -6.43489494e-01, -1.59838350e+00, -1.14005426e+00, -4.32891798e-02,\n",
              "       -3.27607740e-01,  8.31085428e-01, -8.89228386e-01,  1.35628616e+00,\n",
              "        1.00155038e+00, -1.48259825e+00,  3.98880129e-01,  9.13843126e-02,\n",
              "        7.86778928e-02, -3.05096080e-01, -1.30741272e+00, -2.12238113e-01,\n",
              "        3.04637829e-01, -1.74792773e+00,  5.07078049e-01, -7.98241842e-01,\n",
              "       -1.48655642e+00,  6.07185349e-01,  3.92586446e-03, -1.35632752e+00,\n",
              "        6.60950829e-01, -1.78628383e+00,  5.26187738e-01,  1.16999348e+00,\n",
              "       -1.29847645e+00,  1.23473362e+00,  2.01668989e-01, -2.41052701e+00,\n",
              "       -5.74813109e-01, -6.73907290e-01,  2.72080734e-01, -1.24731092e+00,\n",
              "       -1.54754253e+00, -6.88541053e-02, -7.44783772e-01, -9.13756321e-01,\n",
              "       -5.52934023e-01,  9.47176197e-02,  7.30569903e-01,  8.20464624e-02,\n",
              "        4.92863113e-01,  9.50046962e-01, -1.08405785e+00, -5.35977756e-01,\n",
              "        1.16002078e+00, -1.27188562e+00,  6.24006912e-01, -5.64139167e-01,\n",
              "       -6.47691076e-01, -1.07262564e+00,  1.48940808e+00, -2.36804209e+00,\n",
              "       -1.47020790e+00, -2.17062908e-01,  1.76332843e+00, -8.53386392e-02,\n",
              "       -5.59162903e-01,  6.77470428e-01,  1.68252157e-01, -2.12143518e+00,\n",
              "       -1.26732785e+00,  2.60845320e-01,  7.19241878e-01,  5.76116208e-01,\n",
              "        7.60007086e-01,  8.64320686e-01,  7.62781577e-01, -1.46313657e+00,\n",
              "        6.77658620e-01, -1.46769398e+00,  1.97006513e+00, -6.54233209e-01,\n",
              "        1.47283910e+00, -6.66548420e-01,  5.56691942e-01,  8.44739255e-01,\n",
              "        2.54142374e-01, -3.95845337e-01, -9.96630851e-01,  1.39863147e+00,\n",
              "       -6.97081475e-01, -3.35049767e-01, -3.85524037e-01, -3.08812093e-01,\n",
              "       -8.30546340e-01, -1.36803733e+00, -9.95227524e-01, -4.90682024e-01,\n",
              "        2.88128981e+00, -1.51736373e+00,  8.06268655e-01,  1.15887660e+00,\n",
              "       -7.87798409e-01, -1.33161797e+00,  9.78399436e-02,  8.00930729e-01,\n",
              "       -7.52882672e-01, -4.57082202e-01, -3.95884636e-01,  2.87792712e+00,\n",
              "        8.48031581e-01,  1.17499757e+00, -1.74329615e-01,  3.87447702e-01,\n",
              "       -2.61025592e+00,  1.53870142e+00, -1.16861819e-01,  5.95617641e-01,\n",
              "        6.22578027e-01,  3.64206430e-02,  5.65883623e-01, -1.52278381e-02,\n",
              "        2.21623114e-01, -7.16311454e-01, -1.27519541e+00,  5.23408003e-01,\n",
              "       -5.18919753e-01, -1.35463990e+00, -1.34442911e+00,  3.58431309e-01,\n",
              "       -5.91902812e-01, -3.63199920e-01,  1.97082670e-01,  7.45245622e-01,\n",
              "       -4.54447899e-01,  7.74822556e-01, -1.99151799e-01, -1.59792849e+00,\n",
              "       -4.91484670e-01,  8.67057729e-01, -5.91044400e-01, -1.28405370e+00,\n",
              "        8.35045737e-01,  4.96672459e-01,  5.11391080e-01, -1.76677210e+00,\n",
              "       -1.35433424e+00, -3.82062331e-01, -7.47267820e-01, -1.55808074e-01,\n",
              "        2.79634322e-01,  1.41531493e-01,  1.26734998e+00, -8.30120479e-01,\n",
              "       -1.64263891e+00, -9.58119593e-01, -1.24954210e+00,  2.15587807e+00,\n",
              "       -2.19987201e-01, -9.19205340e-01, -2.83164819e-01, -2.39613195e+00,\n",
              "        6.15021513e-01,  5.18666228e-01,  6.44570580e-01, -2.88314044e+00,\n",
              "       -3.48295075e-01,  4.14483506e-01,  3.85465487e-01, -4.75558834e-01,\n",
              "       -5.90051200e-01,  5.42729451e-01, -5.35475996e-01,  7.41401430e-01,\n",
              "        1.33740244e-01, -7.34457861e-01, -5.62142673e-01,  2.01390564e+00,\n",
              "        2.59767029e+00,  2.72987063e+00,  1.97251648e+00, -3.18621300e-01,\n",
              "        2.03208361e+00,  1.51439839e+00,  9.73162568e-01, -3.83940844e-02,\n",
              "        1.00595265e+00, -1.28234829e+00, -2.46796142e+00,  1.00909351e-01,\n",
              "        1.89433483e-01, -6.80097077e-02,  4.20085214e-01,  3.55918726e-02,\n",
              "       -1.74602569e-01,  1.14601160e-01, -1.62082888e-01, -3.36556342e-01,\n",
              "       -3.20592868e-01,  8.00383535e-01,  4.90087355e-01,  3.49656158e-01,\n",
              "       -5.20527747e-01,  2.22763978e-01,  6.42264428e-01,  1.27395588e+00,\n",
              "        7.58806706e-01,  2.87894525e+00,  1.44220235e+00, -2.49108790e-01,\n",
              "        1.56748940e+00,  1.93781476e-01,  3.39604737e-01, -1.23987723e+00,\n",
              "        1.39943854e+00,  2.07222574e-01,  1.32358632e+00, -2.32726478e+00,\n",
              "       -1.29075824e+00, -1.87315350e+00,  7.40721671e-01,  7.59860260e-01,\n",
              "        6.22456992e-01,  6.89403628e-01, -1.09193035e+00,  7.98033192e-01,\n",
              "        3.22447154e-01, -2.27523598e-01, -3.21040448e-01,  3.29456427e-01,\n",
              "       -1.21678879e+00,  1.32040059e+00, -3.75253389e-02, -9.98773284e-01,\n",
              "       -1.44801278e+00,  1.18866030e+00, -1.54808403e+00,  5.31066280e-03,\n",
              "       -3.05623220e-01,  1.09733375e+00,  3.90864953e-01, -6.26621327e-01,\n",
              "        2.32935509e+00,  3.02980686e-01, -1.08188343e-01, -3.70924856e-01,\n",
              "       -1.25369671e+00,  6.64447558e-01,  2.95617897e-01, -8.02030830e-01,\n",
              "        6.90613970e-01,  5.73728902e-01, -1.90378064e+00,  4.42362208e-02,\n",
              "       -2.40090201e+00,  5.37984074e-01,  2.56163674e-01,  6.85598402e-01,\n",
              "        3.80443778e-01, -3.94074475e-02,  1.10968622e+00, -3.89268904e-01,\n",
              "       -8.90008055e-01, -8.04631761e-01,  1.32550155e-01,  7.34236533e-02,\n",
              "       -4.23648636e-01,  1.59856220e+00, -3.95996085e-01, -1.81812362e-01,\n",
              "        3.77137099e-01, -1.06412279e+00, -1.91597696e+00, -7.09103521e-01,\n",
              "        1.23993062e+00, -5.25381277e-01, -6.31384189e-01,  4.50757893e-01,\n",
              "        1.48778261e+00,  7.69949560e-01, -7.34974846e-01,  5.91691247e-01,\n",
              "        7.40623100e-01, -5.14980172e-01,  2.23908512e-01, -7.41558078e-01,\n",
              "       -8.57406288e-01,  1.23082700e+00, -2.04352190e+00,  1.08289091e+00,\n",
              "        5.13859541e-02, -1.46865170e+00, -1.34406683e+00, -8.77446144e-01,\n",
              "       -1.49552619e+00,  1.32803777e+00,  1.05194821e+00,  9.72838903e-01,\n",
              "        5.44254202e-01,  1.62001076e+00,  1.18720556e+00,  5.18471750e-01,\n",
              "        9.61013471e-01,  1.71463729e+00, -3.32640327e-01, -2.00114235e-03,\n",
              "        1.47928901e-02,  3.81475330e-01, -1.02943235e+00,  1.44901123e+00,\n",
              "       -2.89490598e-01, -5.49475392e-01, -1.49953857e+00,  4.00984125e-01,\n",
              "        2.40250555e-03, -1.64093334e+00,  1.25527631e+00,  6.23539264e-01,\n",
              "        4.05988884e-01,  4.80340368e-01, -4.27731003e-01,  4.70959698e-01,\n",
              "       -8.74397618e-01,  6.85789225e-01, -1.30695039e-01,  1.87895538e+00,\n",
              "       -3.56650994e-01, -8.73990553e-02,  3.30160791e-01,  1.05536547e+00,\n",
              "        1.26785580e+00,  1.40275952e+00, -2.07590386e-01,  7.04452978e-01,\n",
              "        1.46686937e+00,  9.17637597e-01,  2.59554351e-01, -1.43322094e-01,\n",
              "       -1.86662228e+00, -1.26926248e-01, -2.76785578e-02,  1.14168803e+00,\n",
              "       -6.20837558e-01,  4.41457834e-01, -7.51389083e-02, -9.70363211e-01,\n",
              "       -2.17543053e+00,  1.70957640e+00, -6.99565161e-01,  1.58594832e+00,\n",
              "        3.05238991e-01,  1.07938271e-01, -1.02682655e-01,  8.66051213e-01,\n",
              "        9.01706122e-01, -2.27838167e-01,  9.49812581e-01, -2.57248972e-01,\n",
              "        5.80068417e-01, -2.10329095e-01, -4.42293537e-02,  1.83754605e+00,\n",
              "       -2.82462871e-01, -3.74931149e-01, -2.67017304e-01,  4.85987299e-01,\n",
              "        1.44385961e+00,  4.58247255e-01,  3.31824966e-01, -5.45244836e-01,\n",
              "       -6.44461216e-01,  7.30756550e-01, -4.81028358e-01,  2.99014395e-01,\n",
              "        5.24795011e-01,  3.08465811e-01, -1.41630987e-01, -3.13466833e-01,\n",
              "       -1.60979739e+00, -1.11542812e+00, -9.21848990e-01,  2.16264536e-01,\n",
              "        2.33017583e+00,  3.71496104e-02, -5.72878058e-01,  4.36456434e-02,\n",
              "       -1.31537790e+00,  4.16723249e-01, -2.83804358e-01,  2.20948218e-02,\n",
              "       -5.96498870e-02, -6.55665119e-01, -1.51356733e+00, -7.30894771e-01,\n",
              "       -7.96325375e-02, -1.19590826e+00,  4.00225017e-01,  1.07507020e+00,\n",
              "        3.74287706e-01, -3.54791002e-01, -6.03076196e-01, -1.58801542e+00,\n",
              "        2.92825660e-01, -1.06694407e+00, -1.04922679e+00, -1.54017115e+00,\n",
              "       -1.69563959e+00, -4.84714152e-01,  4.83987444e-01, -3.00069473e-01,\n",
              "        4.61714428e-01,  1.87002846e+00, -3.58832413e-01,  2.42833878e-01,\n",
              "        1.42080699e+00, -6.77606635e-01,  3.08337011e-01, -1.38930526e+00,\n",
              "        5.09556335e-01,  7.70507425e-01,  4.95767763e-01, -1.55443575e+00,\n",
              "        1.80057532e-01,  7.40761752e-01, -3.18789085e-01, -4.63604456e-01,\n",
              "       -1.11937226e-01,  2.37746093e+00,  3.26199560e-01,  1.85410252e+00,\n",
              "        1.09455384e+00,  7.92164174e-01, -8.38453117e-01, -1.11207350e-01,\n",
              "        2.21756724e+00,  9.23484234e-01,  2.51504547e-01, -1.14820044e+00,\n",
              "        1.51094517e+00,  4.84928368e-01,  3.55082526e-02,  3.38848589e-02,\n",
              "       -7.48918222e-01, -3.75440673e-01,  1.26261884e+00, -2.43398222e-01,\n",
              "       -1.76750668e+00, -3.16514648e-01, -1.51939831e+00,  1.13864084e+00,\n",
              "        4.50805264e-01, -7.02822661e-01,  8.61050155e-01,  1.59017451e+00,\n",
              "       -9.25629005e-01, -2.98139731e-01, -2.10802506e-02, -6.76127760e-01,\n",
              "       -1.06780394e+00,  4.73526347e-01,  6.84713532e-02, -6.75741082e-01,\n",
              "        1.70189977e-01, -5.74802815e-01, -5.10229708e-01, -6.15922547e-01,\n",
              "        1.40289686e+00,  6.33873632e-01,  5.11812518e-01,  3.14622754e-01,\n",
              "       -2.87030508e-02,  2.26617158e+00,  5.53793829e-01, -3.97751661e-01,\n",
              "        4.42244045e-01,  1.34454803e+00, -2.46100971e-01,  1.47286067e+00,\n",
              "       -8.52871154e-01, -5.50666780e-01,  2.53356783e+00,  2.63988765e-01,\n",
              "       -1.14591946e+00, -9.16852297e-01,  1.22800266e+00,  7.03021535e-01,\n",
              "       -4.45823815e-01, -2.22372738e+00,  7.26467140e-01, -1.55033557e+00,\n",
              "       -2.20023956e-01, -1.41387304e-01,  6.45116608e-01, -2.79453571e-01,\n",
              "        2.79013741e-01,  1.11457867e-01, -5.19500095e-01,  6.86849128e-02,\n",
              "       -2.75615678e+00,  2.51774066e-01,  7.96153102e-01, -4.71986851e-02,\n",
              "       -1.51224067e-01,  3.12914026e-01, -1.48316705e+00, -8.04214656e-01,\n",
              "        1.37789658e-01,  5.32463763e-01, -1.25356886e+00, -6.49252268e-01,\n",
              "       -4.44123040e-01, -8.91308260e-02, -9.78464151e-01,  5.67690761e-01,\n",
              "       -3.61384346e-01, -9.56982179e-02,  3.37025876e-01,  5.29935544e-01,\n",
              "       -1.34295735e+00,  7.15190610e-01, -6.70588173e-01, -1.49045649e+00,\n",
              "       -1.00316987e+00, -7.87514064e-01, -8.25129707e-01,  3.38203043e-01,\n",
              "        8.93942995e-01,  5.80586944e-01,  8.20595063e-01,  5.96253771e-02,\n",
              "        4.32566615e-01,  1.52696496e+00, -1.67151026e+00, -1.51888632e+00,\n",
              "        1.75163772e+00,  1.24660585e+00,  4.36577188e-02, -1.23717929e+00,\n",
              "        1.29841838e-01, -8.59843760e-01,  6.31751230e-01, -9.22467570e-01,\n",
              "       -8.94859221e-01, -4.10865729e-01, -1.32411375e+00,  7.16883421e-01,\n",
              "       -3.17879204e-01,  1.34311121e+00, -5.15019492e-01, -3.42192813e-01,\n",
              "       -5.77828136e-01, -6.55507202e-02,  2.61833784e-01, -1.27735527e+00,\n",
              "       -3.88415622e-01,  7.23410565e-01,  6.28075887e-01,  7.09955336e-01,\n",
              "        6.16195422e-01,  1.71486796e-01,  3.31634208e-01,  1.68691355e+00,\n",
              "        2.42064620e+00,  2.22391900e+00, -1.59545424e+00,  8.72979385e-01,\n",
              "       -1.90654182e+00,  1.79753525e+00, -3.65544972e-01,  2.70434623e-02,\n",
              "       -1.75061358e-01,  4.44523405e-01,  5.84006832e-01,  1.72753624e-01,\n",
              "       -1.01064332e+00,  7.18915654e-01, -1.01773861e+00,  1.17385167e-01,\n",
              "        2.72789671e+00,  7.48507222e-01,  7.40650850e-02, -1.79556659e-01,\n",
              "       -1.36527889e-01, -8.31284377e-01,  1.99930279e-01,  6.65496219e-01,\n",
              "        5.47541558e-01,  3.05051349e-01,  2.63720362e-01, -5.32736274e-02,\n",
              "        1.30916846e+00,  1.29244705e+00,  5.09797292e-02,  5.32126987e-01,\n",
              "       -4.81242213e-01,  3.38752518e-01,  1.67776995e+00,  3.47389525e-01,\n",
              "       -1.39200392e+00,  5.79273928e-01, -1.24659822e+00, -1.45997526e+00,\n",
              "       -8.76862422e-01, -9.54894503e-01,  1.06096336e+00, -2.84980057e-01,\n",
              "        1.30775387e+00,  3.38137016e-01, -9.72464186e-01,  6.71069201e-01,\n",
              "       -4.95631606e-01, -1.95188194e-01, -1.02061576e+00, -7.12702952e-01,\n",
              "        1.40425607e+00, -2.95041334e-01, -1.67639752e+00, -8.83438004e-01,\n",
              "       -6.23695995e-02, -5.56698596e-01,  9.38942060e-01,  1.07276169e+00,\n",
              "        6.00361168e-01,  1.64427360e-01,  2.50937657e-01,  2.08292696e+00,\n",
              "        1.02400255e-01, -1.73099270e-02,  4.62490037e-01,  8.49998266e-01,\n",
              "       -9.42294090e-01, -8.32319494e-01,  1.98208641e+00,  1.12756143e+00,\n",
              "       -9.26400077e-02, -2.88480491e-01,  7.68925371e-01,  7.02050670e-01,\n",
              "        1.48646233e+00, -4.00423128e-01, -3.57667205e-01,  5.29091117e-01,\n",
              "        5.71279399e-02, -1.15274570e+00,  8.73381768e-01, -2.22835464e+00,\n",
              "       -1.32935626e+00, -2.08020072e-01,  1.42108143e+00,  2.47167327e-01,\n",
              "       -4.61898572e-01,  4.25982244e-01, -7.80627726e-01, -6.41146490e-02,\n",
              "        6.18831517e-01, -1.10175135e+00, -9.05690892e-01, -3.12022597e-01,\n",
              "        1.30864522e-01,  2.44195683e-01, -3.53752137e-01, -4.06190232e-01,\n",
              "        2.00471869e+00, -8.65117734e-01, -1.15547267e+00, -1.33730242e+00,\n",
              "        8.60164178e-01, -3.38870928e-01, -1.41842923e+00, -2.68190025e-01,\n",
              "        7.15966985e-01, -8.00409914e-01, -1.59334684e+00,  2.54230818e-02,\n",
              "        4.55322988e-02, -1.37209712e-01,  4.83819798e-01, -2.42271120e-01,\n",
              "       -8.79147396e-01, -1.18836261e+00, -7.74883606e-01,  7.76809462e-02,\n",
              "       -4.11827410e-01,  6.69850177e-01,  4.46180852e-01, -2.24000545e-01,\n",
              "        3.25707248e-01,  1.52274309e-02,  1.16900013e+00, -1.65567911e-01,\n",
              "       -3.15325613e-01,  1.39264938e+00,  3.27588771e-01,  8.15474855e-01,\n",
              "        1.70092153e+00,  1.47279888e+00,  9.56209823e-01,  1.40886799e+00,\n",
              "       -1.16635859e+00,  1.22527283e+00, -1.14774679e-01, -1.16845526e+00,\n",
              "        1.93717107e+00, -2.37488441e-01, -8.76379843e-02,  1.17748583e+00,\n",
              "       -3.22327197e-01,  1.57672345e-01, -2.08229510e+00, -1.78266571e+00,\n",
              "        3.55500311e-01, -4.63246187e-02, -6.81914591e-01,  7.08045304e-02,\n",
              "        3.82277343e-01, -1.52290244e-01,  8.05856896e-01, -3.76699457e-02,\n",
              "        3.57829061e-01, -8.41293015e-01,  2.55400903e-01, -1.22726535e+00,\n",
              "       -4.61945760e-01, -3.97383125e-01,  1.53482419e+00, -1.39266084e+00,\n",
              "        1.12973486e+00,  7.31406023e-01,  4.77314443e-01, -1.34596937e+00,\n",
              "        1.17193953e+00, -1.68044964e+00,  3.27054458e-02, -1.25451831e-01,\n",
              "        6.46519697e-01,  1.20319441e+00,  6.36436167e-01, -8.67064612e-01,\n",
              "       -7.63530545e-01, -1.49813239e+00, -1.66208247e-01, -1.60329512e+00,\n",
              "       -5.84466291e-02,  1.03215240e+00,  8.57353944e-01, -2.93222814e-01,\n",
              "        1.88991858e+00,  9.58948347e-01,  6.34938928e-01,  8.87420632e-01,\n",
              "        5.24606765e-01,  2.25732025e-01,  1.33607179e-01, -3.33616813e-02,\n",
              "       -1.61516413e+00,  2.54986778e+00,  1.47665553e-01, -7.07804323e-01,\n",
              "       -8.30843711e-01, -1.98471698e+00,  2.03053234e-01,  1.65163243e+00,\n",
              "       -2.68766892e-01,  1.66224756e+00, -3.83700340e-02, -1.69831476e-01,\n",
              "       -5.20534873e-01, -7.97670326e-01, -1.42722001e+00, -1.30379975e+00,\n",
              "        4.29244134e-01, -2.65208539e+00, -1.92667272e+00, -4.93794878e-01,\n",
              "        5.60652052e-01,  1.93303659e-01,  9.80622703e-01, -8.03041104e-01,\n",
              "        4.20992673e-01,  1.89431277e+00,  1.98129329e+00,  2.30118076e+00,\n",
              "       -2.28804956e+00, -2.87957319e-01,  1.26891386e+00, -1.40904956e-01,\n",
              "       -7.65681403e-01,  7.73410205e-02, -3.27037969e-01, -4.41147996e-01,\n",
              "       -1.15110075e+00, -8.06103220e-01, -1.13630118e+00,  4.35752221e-01,\n",
              "       -3.58321377e-01,  3.65750614e-01, -1.52076712e-01, -2.80612024e-01,\n",
              "       -1.17331324e+00,  4.19800670e-01,  2.26093430e+00, -4.01727379e-01,\n",
              "       -4.36188396e-01,  1.08520250e+00,  6.86516600e-01,  2.71638002e+00,\n",
              "       -4.97434142e-01,  1.30058713e+00, -3.78195359e-01, -1.05916233e+00,\n",
              "       -2.00165944e-01,  3.70359301e-01,  1.92472416e+00,  3.67477101e-01,\n",
              "       -2.83947463e-01, -3.36936194e-01, -2.05411176e-01,  1.04384258e+00,\n",
              "        2.56887858e+00,  6.85549185e-01, -1.02071449e+00,  1.25833897e+00,\n",
              "       -3.05101129e-01,  9.03135998e-01,  5.93036504e-01, -9.97144987e-01,\n",
              "        4.34001191e-01,  1.00543634e+00, -5.63335235e-01,  9.54553894e-01,\n",
              "       -2.83283209e+00,  3.34042288e+00, -3.71504688e-01, -1.51901393e+00,\n",
              "        2.82032345e-01,  6.05582013e-01,  8.32277082e-01, -6.16033389e-01,\n",
              "       -1.63196301e+00,  1.81480713e+00,  8.22462066e-02, -3.26155172e-01,\n",
              "       -1.41122103e+00,  1.34199776e+00,  1.07310778e+00, -1.29425229e+00,\n",
              "       -9.13172343e-01, -5.08783591e-01, -1.65015916e+00,  2.29729704e-01,\n",
              "        2.55934817e-01, -6.42130741e-01, -1.42951470e+00, -5.49136475e-01,\n",
              "        2.46079237e-01,  1.17673143e-01, -1.86540702e+00,  1.46409435e+00,\n",
              "        4.57645355e-01, -9.03297266e-01, -2.63628420e+00,  1.10145458e+00,\n",
              "       -1.02500970e+00, -6.95701826e-01,  6.62899921e-01,  1.07255337e+00,\n",
              "        2.62990037e+00, -2.43350592e-02, -1.01182541e+00, -3.59976721e-01,\n",
              "        5.18422376e-01, -9.97600036e-01, -1.27071838e+00,  9.72829118e-01,\n",
              "        1.44324580e+00,  7.97551069e-02,  6.20839012e-01, -5.46879407e-01,\n",
              "        2.60718205e-02, -4.71642117e-01,  2.89584907e-01,  1.27109761e+00,\n",
              "       -3.28638946e-01,  5.92375811e-01,  7.73991197e-01,  1.38780942e+00,\n",
              "       -9.68826747e-01,  1.72240393e-01, -2.12906199e-01,  1.51739398e+00,\n",
              "        5.75680204e-01,  2.83997257e-01,  1.83574765e+00, -2.68281707e-01,\n",
              "       -5.15566199e-01, -1.64537678e+00,  5.35921843e-01,  1.33087034e-03,\n",
              "        2.29693226e+00, -2.30549045e+00, -1.63329975e+00, -2.38352074e-01,\n",
              "        3.97514479e-01, -5.35784326e-01,  4.06388186e-01,  6.61302535e-01,\n",
              "        1.20042699e-01, -1.72260465e-01,  1.27274498e-01,  7.98903127e-01,\n",
              "       -3.50686641e-02, -7.41985986e-01,  9.48739130e-01,  1.91300626e-01,\n",
              "        2.28877522e+00, -9.08695895e-01,  4.01055442e-01,  7.20183501e-01,\n",
              "        7.64121018e-01, -2.60949865e-01, -4.83967152e-01,  1.05653574e+00,\n",
              "       -1.08771276e+00, -9.94612562e-01,  3.44456135e-01,  1.19098967e+00,\n",
              "       -1.71116496e-01,  1.39841839e+00,  5.27358440e-01, -1.26138898e+00,\n",
              "       -1.00813952e+00,  5.84524688e-01,  6.13581289e-01, -7.63584985e-01,\n",
              "        4.72931514e-01, -1.33359152e+00, -5.32341636e-01,  5.50553615e-01,\n",
              "        9.44678944e-02,  1.96539865e-01, -1.33881614e+00,  1.19188649e+00,\n",
              "       -9.46193394e-01,  4.82793004e-02,  4.28343322e-01, -1.03985717e-01,\n",
              "        1.16097355e+00, -6.03963457e-01, -9.21224387e-01,  4.31383930e-01,\n",
              "        1.38295235e-01, -2.68287857e-01,  2.50762886e-01,  4.83930508e-01])"
            ]
          },
          "metadata": {},
          "execution_count": 72
        }
      ]
    },
    {
      "cell_type": "code",
      "metadata": {
        "colab": {
          "base_uri": "https://localhost:8080/"
        },
        "id": "SIW-8QOVNeOs",
        "outputId": "d6cd56f5-0768-43d4-c3d0-b14ceb94f774"
      },
      "source": [
        "cats = pd.qcut(data, 4)\n",
        "cats"
      ],
      "execution_count": null,
      "outputs": [
        {
          "output_type": "execute_result",
          "data": {
            "text/plain": [
              "[(-2.884, -0.655], (0.0368, 0.645], (0.0368, 0.645], (0.0368, 0.645], (0.0368, 0.645], ..., (0.0368, 0.645], (0.0368, 0.645], (-0.655, 0.0368], (0.0368, 0.645], (0.0368, 0.645]]\n",
              "Length: 1000\n",
              "Categories (4, interval[float64]): [(-2.884, -0.655] < (-0.655, 0.0368] < (0.0368, 0.645] <\n",
              "                                    (0.645, 3.34]]"
            ]
          },
          "metadata": {},
          "execution_count": 73
        }
      ]
    },
    {
      "cell_type": "code",
      "metadata": {
        "colab": {
          "base_uri": "https://localhost:8080/"
        },
        "id": "UloyC-E0NkHY",
        "outputId": "664780fe-8764-4f26-faa4-d389a526d695"
      },
      "source": [
        "pd.value_counts(cats)"
      ],
      "execution_count": null,
      "outputs": [
        {
          "output_type": "execute_result",
          "data": {
            "text/plain": [
              "(0.645, 3.34]       250\n",
              "(0.0368, 0.645]     250\n",
              "(-0.655, 0.0368]    250\n",
              "(-2.884, -0.655]    250\n",
              "dtype: int64"
            ]
          },
          "metadata": {},
          "execution_count": 74
        }
      ]
    },
    {
      "cell_type": "code",
      "metadata": {
        "colab": {
          "base_uri": "https://localhost:8080/"
        },
        "id": "6cU0csu-NrMI",
        "outputId": "9b12dafd-335d-4c82-b412-1ade79309b24"
      },
      "source": [
        "pd.qcut(data, [0, 0.1, 0.5, 0.9, 1.])"
      ],
      "execution_count": null,
      "outputs": [
        {
          "output_type": "execute_result",
          "data": {
            "text/plain": [
              "[(-2.884, -1.308], (0.0368, 1.308], (0.0368, 1.308], (0.0368, 1.308], (0.0368, 1.308], ..., (0.0368, 1.308], (0.0368, 1.308], (-1.308, 0.0368], (0.0368, 1.308], (0.0368, 1.308]]\n",
              "Length: 1000\n",
              "Categories (4, interval[float64]): [(-2.884, -1.308] < (-1.308, 0.0368] < (0.0368, 1.308] <\n",
              "                                    (1.308, 3.34]]"
            ]
          },
          "metadata": {},
          "execution_count": 75
        }
      ]
    },
    {
      "cell_type": "markdown",
      "metadata": {
        "id": "3hMsD-BhN3fw"
      },
      "source": [
        "Detecting and Filtering Outliers"
      ]
    },
    {
      "cell_type": "code",
      "metadata": {
        "colab": {
          "base_uri": "https://localhost:8080/",
          "height": 297
        },
        "id": "vj7fClB0NxFB",
        "outputId": "8e30c4e6-f850-49bf-99bf-d66e1cefaaa3"
      },
      "source": [
        "data = pd.DataFrame(np.random.randn(1000, 4))\n",
        "data.describe()"
      ],
      "execution_count": null,
      "outputs": [
        {
          "output_type": "execute_result",
          "data": {
            "text/html": [
              "<div>\n",
              "<style scoped>\n",
              "    .dataframe tbody tr th:only-of-type {\n",
              "        vertical-align: middle;\n",
              "    }\n",
              "\n",
              "    .dataframe tbody tr th {\n",
              "        vertical-align: top;\n",
              "    }\n",
              "\n",
              "    .dataframe thead th {\n",
              "        text-align: right;\n",
              "    }\n",
              "</style>\n",
              "<table border=\"1\" class=\"dataframe\">\n",
              "  <thead>\n",
              "    <tr style=\"text-align: right;\">\n",
              "      <th></th>\n",
              "      <th>0</th>\n",
              "      <th>1</th>\n",
              "      <th>2</th>\n",
              "      <th>3</th>\n",
              "    </tr>\n",
              "  </thead>\n",
              "  <tbody>\n",
              "    <tr>\n",
              "      <th>count</th>\n",
              "      <td>1000.000000</td>\n",
              "      <td>1000.000000</td>\n",
              "      <td>1000.000000</td>\n",
              "      <td>1000.000000</td>\n",
              "    </tr>\n",
              "    <tr>\n",
              "      <th>mean</th>\n",
              "      <td>-0.003496</td>\n",
              "      <td>-0.024812</td>\n",
              "      <td>0.013831</td>\n",
              "      <td>0.017754</td>\n",
              "    </tr>\n",
              "    <tr>\n",
              "      <th>std</th>\n",
              "      <td>1.020637</td>\n",
              "      <td>0.964646</td>\n",
              "      <td>1.001991</td>\n",
              "      <td>1.039345</td>\n",
              "    </tr>\n",
              "    <tr>\n",
              "      <th>min</th>\n",
              "      <td>-3.319632</td>\n",
              "      <td>-2.746873</td>\n",
              "      <td>-2.937585</td>\n",
              "      <td>-3.236989</td>\n",
              "    </tr>\n",
              "    <tr>\n",
              "      <th>25%</th>\n",
              "      <td>-0.684950</td>\n",
              "      <td>-0.692293</td>\n",
              "      <td>-0.658941</td>\n",
              "      <td>-0.696265</td>\n",
              "    </tr>\n",
              "    <tr>\n",
              "      <th>50%</th>\n",
              "      <td>0.025699</td>\n",
              "      <td>-0.034771</td>\n",
              "      <td>0.028350</td>\n",
              "      <td>0.026460</td>\n",
              "    </tr>\n",
              "    <tr>\n",
              "      <th>75%</th>\n",
              "      <td>0.680086</td>\n",
              "      <td>0.602843</td>\n",
              "      <td>0.673422</td>\n",
              "      <td>0.702358</td>\n",
              "    </tr>\n",
              "    <tr>\n",
              "      <th>max</th>\n",
              "      <td>2.792050</td>\n",
              "      <td>3.240992</td>\n",
              "      <td>2.854936</td>\n",
              "      <td>3.187548</td>\n",
              "    </tr>\n",
              "  </tbody>\n",
              "</table>\n",
              "</div>"
            ],
            "text/plain": [
              "                 0            1            2            3\n",
              "count  1000.000000  1000.000000  1000.000000  1000.000000\n",
              "mean     -0.003496    -0.024812     0.013831     0.017754\n",
              "std       1.020637     0.964646     1.001991     1.039345\n",
              "min      -3.319632    -2.746873    -2.937585    -3.236989\n",
              "25%      -0.684950    -0.692293    -0.658941    -0.696265\n",
              "50%       0.025699    -0.034771     0.028350     0.026460\n",
              "75%       0.680086     0.602843     0.673422     0.702358\n",
              "max       2.792050     3.240992     2.854936     3.187548"
            ]
          },
          "metadata": {},
          "execution_count": 76
        }
      ]
    },
    {
      "cell_type": "code",
      "metadata": {
        "colab": {
          "base_uri": "https://localhost:8080/"
        },
        "id": "T7_RzjMrOCcm",
        "outputId": "e8371486-0148-4221-c95c-6e825a793d9e"
      },
      "source": [
        "col = data[2]\n",
        "col"
      ],
      "execution_count": null,
      "outputs": [
        {
          "output_type": "execute_result",
          "data": {
            "text/plain": [
              "0     -0.500468\n",
              "1     -2.418381\n",
              "2     -1.125190\n",
              "3      0.494669\n",
              "4      0.383966\n",
              "         ...   \n",
              "995   -0.254010\n",
              "996    0.330611\n",
              "997   -0.566959\n",
              "998    0.292194\n",
              "999   -0.196394\n",
              "Name: 2, Length: 1000, dtype: float64"
            ]
          },
          "metadata": {},
          "execution_count": 78
        }
      ]
    },
    {
      "cell_type": "code",
      "metadata": {
        "colab": {
          "base_uri": "https://localhost:8080/"
        },
        "id": "DZ-LAak-OJF3",
        "outputId": "5d0f91f4-ff4c-4ea2-8d88-2940dcf7ccfe"
      },
      "source": [
        "col[np.abs(col) > 3]"
      ],
      "execution_count": null,
      "outputs": [
        {
          "output_type": "execute_result",
          "data": {
            "text/plain": [
              "Series([], Name: 2, dtype: float64)"
            ]
          },
          "metadata": {},
          "execution_count": 79
        }
      ]
    },
    {
      "cell_type": "code",
      "metadata": {
        "colab": {
          "base_uri": "https://localhost:8080/",
          "height": 421
        },
        "id": "0vl0wrA0OQNO",
        "outputId": "6b6fce00-b410-4df8-b13b-1d1b72f29eb6"
      },
      "source": [
        "data[(np.abs(data) > 3).any(1)]"
      ],
      "execution_count": null,
      "outputs": [
        {
          "output_type": "execute_result",
          "data": {
            "text/html": [
              "<div>\n",
              "<style scoped>\n",
              "    .dataframe tbody tr th:only-of-type {\n",
              "        vertical-align: middle;\n",
              "    }\n",
              "\n",
              "    .dataframe tbody tr th {\n",
              "        vertical-align: top;\n",
              "    }\n",
              "\n",
              "    .dataframe thead th {\n",
              "        text-align: right;\n",
              "    }\n",
              "</style>\n",
              "<table border=\"1\" class=\"dataframe\">\n",
              "  <thead>\n",
              "    <tr style=\"text-align: right;\">\n",
              "      <th></th>\n",
              "      <th>0</th>\n",
              "      <th>1</th>\n",
              "      <th>2</th>\n",
              "      <th>3</th>\n",
              "    </tr>\n",
              "  </thead>\n",
              "  <tbody>\n",
              "    <tr>\n",
              "      <th>27</th>\n",
              "      <td>-3.032431</td>\n",
              "      <td>0.982363</td>\n",
              "      <td>0.420821</td>\n",
              "      <td>-0.725170</td>\n",
              "    </tr>\n",
              "    <tr>\n",
              "      <th>79</th>\n",
              "      <td>-3.319632</td>\n",
              "      <td>-0.696949</td>\n",
              "      <td>-1.471452</td>\n",
              "      <td>0.982392</td>\n",
              "    </tr>\n",
              "    <tr>\n",
              "      <th>163</th>\n",
              "      <td>-0.604932</td>\n",
              "      <td>3.040109</td>\n",
              "      <td>-1.583842</td>\n",
              "      <td>0.071007</td>\n",
              "    </tr>\n",
              "    <tr>\n",
              "      <th>428</th>\n",
              "      <td>0.029215</td>\n",
              "      <td>3.240992</td>\n",
              "      <td>0.927275</td>\n",
              "      <td>0.259363</td>\n",
              "    </tr>\n",
              "    <tr>\n",
              "      <th>506</th>\n",
              "      <td>-0.191844</td>\n",
              "      <td>0.058206</td>\n",
              "      <td>-0.522289</td>\n",
              "      <td>-3.236989</td>\n",
              "    </tr>\n",
              "    <tr>\n",
              "      <th>557</th>\n",
              "      <td>-0.466685</td>\n",
              "      <td>-0.689802</td>\n",
              "      <td>-0.928583</td>\n",
              "      <td>3.187548</td>\n",
              "    </tr>\n",
              "    <tr>\n",
              "      <th>668</th>\n",
              "      <td>0.186732</td>\n",
              "      <td>0.591386</td>\n",
              "      <td>-0.503375</td>\n",
              "      <td>-3.063693</td>\n",
              "    </tr>\n",
              "    <tr>\n",
              "      <th>677</th>\n",
              "      <td>-3.106264</td>\n",
              "      <td>-1.079553</td>\n",
              "      <td>-0.197498</td>\n",
              "      <td>-0.839421</td>\n",
              "    </tr>\n",
              "    <tr>\n",
              "      <th>848</th>\n",
              "      <td>-3.137855</td>\n",
              "      <td>0.307895</td>\n",
              "      <td>0.288383</td>\n",
              "      <td>0.566518</td>\n",
              "    </tr>\n",
              "    <tr>\n",
              "      <th>905</th>\n",
              "      <td>-3.282227</td>\n",
              "      <td>0.542434</td>\n",
              "      <td>-0.207736</td>\n",
              "      <td>0.084830</td>\n",
              "    </tr>\n",
              "    <tr>\n",
              "      <th>918</th>\n",
              "      <td>-3.299936</td>\n",
              "      <td>2.176485</td>\n",
              "      <td>-0.621862</td>\n",
              "      <td>-1.265093</td>\n",
              "    </tr>\n",
              "    <tr>\n",
              "      <th>978</th>\n",
              "      <td>0.909792</td>\n",
              "      <td>0.385587</td>\n",
              "      <td>-0.580945</td>\n",
              "      <td>-3.072488</td>\n",
              "    </tr>\n",
              "  </tbody>\n",
              "</table>\n",
              "</div>"
            ],
            "text/plain": [
              "            0         1         2         3\n",
              "27  -3.032431  0.982363  0.420821 -0.725170\n",
              "79  -3.319632 -0.696949 -1.471452  0.982392\n",
              "163 -0.604932  3.040109 -1.583842  0.071007\n",
              "428  0.029215  3.240992  0.927275  0.259363\n",
              "506 -0.191844  0.058206 -0.522289 -3.236989\n",
              "557 -0.466685 -0.689802 -0.928583  3.187548\n",
              "668  0.186732  0.591386 -0.503375 -3.063693\n",
              "677 -3.106264 -1.079553 -0.197498 -0.839421\n",
              "848 -3.137855  0.307895  0.288383  0.566518\n",
              "905 -3.282227  0.542434 -0.207736  0.084830\n",
              "918 -3.299936  2.176485 -0.621862 -1.265093\n",
              "978  0.909792  0.385587 -0.580945 -3.072488"
            ]
          },
          "metadata": {},
          "execution_count": 80
        }
      ]
    },
    {
      "cell_type": "code",
      "metadata": {
        "colab": {
          "base_uri": "https://localhost:8080/",
          "height": 297
        },
        "id": "6twhMG9VOUnD",
        "outputId": "30d26b5a-0f99-4a19-a668-a131ccb093a5"
      },
      "source": [
        "data[np.abs(data) > 3] = np.sign(data) * 3\n",
        "data.describe()"
      ],
      "execution_count": null,
      "outputs": [
        {
          "output_type": "execute_result",
          "data": {
            "text/html": [
              "<div>\n",
              "<style scoped>\n",
              "    .dataframe tbody tr th:only-of-type {\n",
              "        vertical-align: middle;\n",
              "    }\n",
              "\n",
              "    .dataframe tbody tr th {\n",
              "        vertical-align: top;\n",
              "    }\n",
              "\n",
              "    .dataframe thead th {\n",
              "        text-align: right;\n",
              "    }\n",
              "</style>\n",
              "<table border=\"1\" class=\"dataframe\">\n",
              "  <thead>\n",
              "    <tr style=\"text-align: right;\">\n",
              "      <th></th>\n",
              "      <th>0</th>\n",
              "      <th>1</th>\n",
              "      <th>2</th>\n",
              "      <th>3</th>\n",
              "    </tr>\n",
              "  </thead>\n",
              "  <tbody>\n",
              "    <tr>\n",
              "      <th>count</th>\n",
              "      <td>1000.000000</td>\n",
              "      <td>1000.000000</td>\n",
              "      <td>1000.000000</td>\n",
              "      <td>1000.000000</td>\n",
              "    </tr>\n",
              "    <tr>\n",
              "      <th>mean</th>\n",
              "      <td>-0.002317</td>\n",
              "      <td>-0.025093</td>\n",
              "      <td>0.013831</td>\n",
              "      <td>0.017940</td>\n",
              "    </tr>\n",
              "    <tr>\n",
              "      <th>std</th>\n",
              "      <td>1.017018</td>\n",
              "      <td>0.963733</td>\n",
              "      <td>1.001991</td>\n",
              "      <td>1.037672</td>\n",
              "    </tr>\n",
              "    <tr>\n",
              "      <th>min</th>\n",
              "      <td>-3.000000</td>\n",
              "      <td>-2.746873</td>\n",
              "      <td>-2.937585</td>\n",
              "      <td>-3.000000</td>\n",
              "    </tr>\n",
              "    <tr>\n",
              "      <th>25%</th>\n",
              "      <td>-0.684950</td>\n",
              "      <td>-0.692293</td>\n",
              "      <td>-0.658941</td>\n",
              "      <td>-0.696265</td>\n",
              "    </tr>\n",
              "    <tr>\n",
              "      <th>50%</th>\n",
              "      <td>0.025699</td>\n",
              "      <td>-0.034771</td>\n",
              "      <td>0.028350</td>\n",
              "      <td>0.026460</td>\n",
              "    </tr>\n",
              "    <tr>\n",
              "      <th>75%</th>\n",
              "      <td>0.680086</td>\n",
              "      <td>0.602843</td>\n",
              "      <td>0.673422</td>\n",
              "      <td>0.702358</td>\n",
              "    </tr>\n",
              "    <tr>\n",
              "      <th>max</th>\n",
              "      <td>2.792050</td>\n",
              "      <td>3.000000</td>\n",
              "      <td>2.854936</td>\n",
              "      <td>3.000000</td>\n",
              "    </tr>\n",
              "  </tbody>\n",
              "</table>\n",
              "</div>"
            ],
            "text/plain": [
              "                 0            1            2            3\n",
              "count  1000.000000  1000.000000  1000.000000  1000.000000\n",
              "mean     -0.002317    -0.025093     0.013831     0.017940\n",
              "std       1.017018     0.963733     1.001991     1.037672\n",
              "min      -3.000000    -2.746873    -2.937585    -3.000000\n",
              "25%      -0.684950    -0.692293    -0.658941    -0.696265\n",
              "50%       0.025699    -0.034771     0.028350     0.026460\n",
              "75%       0.680086     0.602843     0.673422     0.702358\n",
              "max       2.792050     3.000000     2.854936     3.000000"
            ]
          },
          "metadata": {},
          "execution_count": 81
        }
      ]
    },
    {
      "cell_type": "code",
      "metadata": {
        "colab": {
          "base_uri": "https://localhost:8080/",
          "height": 204
        },
        "id": "nPJlUqS9Odvb",
        "outputId": "90a6e813-c591-436f-c218-69429efb7487"
      },
      "source": [
        "np.sign(data).head()"
      ],
      "execution_count": null,
      "outputs": [
        {
          "output_type": "execute_result",
          "data": {
            "text/html": [
              "<div>\n",
              "<style scoped>\n",
              "    .dataframe tbody tr th:only-of-type {\n",
              "        vertical-align: middle;\n",
              "    }\n",
              "\n",
              "    .dataframe tbody tr th {\n",
              "        vertical-align: top;\n",
              "    }\n",
              "\n",
              "    .dataframe thead th {\n",
              "        text-align: right;\n",
              "    }\n",
              "</style>\n",
              "<table border=\"1\" class=\"dataframe\">\n",
              "  <thead>\n",
              "    <tr style=\"text-align: right;\">\n",
              "      <th></th>\n",
              "      <th>0</th>\n",
              "      <th>1</th>\n",
              "      <th>2</th>\n",
              "      <th>3</th>\n",
              "    </tr>\n",
              "  </thead>\n",
              "  <tbody>\n",
              "    <tr>\n",
              "      <th>0</th>\n",
              "      <td>-1.0</td>\n",
              "      <td>1.0</td>\n",
              "      <td>-1.0</td>\n",
              "      <td>1.0</td>\n",
              "    </tr>\n",
              "    <tr>\n",
              "      <th>1</th>\n",
              "      <td>1.0</td>\n",
              "      <td>1.0</td>\n",
              "      <td>-1.0</td>\n",
              "      <td>-1.0</td>\n",
              "    </tr>\n",
              "    <tr>\n",
              "      <th>2</th>\n",
              "      <td>1.0</td>\n",
              "      <td>-1.0</td>\n",
              "      <td>-1.0</td>\n",
              "      <td>-1.0</td>\n",
              "    </tr>\n",
              "    <tr>\n",
              "      <th>3</th>\n",
              "      <td>1.0</td>\n",
              "      <td>-1.0</td>\n",
              "      <td>1.0</td>\n",
              "      <td>1.0</td>\n",
              "    </tr>\n",
              "    <tr>\n",
              "      <th>4</th>\n",
              "      <td>1.0</td>\n",
              "      <td>1.0</td>\n",
              "      <td>1.0</td>\n",
              "      <td>-1.0</td>\n",
              "    </tr>\n",
              "  </tbody>\n",
              "</table>\n",
              "</div>"
            ],
            "text/plain": [
              "     0    1    2    3\n",
              "0 -1.0  1.0 -1.0  1.0\n",
              "1  1.0  1.0 -1.0 -1.0\n",
              "2  1.0 -1.0 -1.0 -1.0\n",
              "3  1.0 -1.0  1.0  1.0\n",
              "4  1.0  1.0  1.0 -1.0"
            ]
          },
          "metadata": {},
          "execution_count": 82
        }
      ]
    },
    {
      "cell_type": "code",
      "metadata": {
        "colab": {
          "base_uri": "https://localhost:8080/",
          "height": 204
        },
        "id": "mjJ2SY-bOjSR",
        "outputId": "67969db3-78cd-4180-cb00-af3e5f97b7ce"
      },
      "source": [
        "df = pd.DataFrame(np.arange(5 * 4).reshape((5, 4)))\n",
        "df"
      ],
      "execution_count": null,
      "outputs": [
        {
          "output_type": "execute_result",
          "data": {
            "text/html": [
              "<div>\n",
              "<style scoped>\n",
              "    .dataframe tbody tr th:only-of-type {\n",
              "        vertical-align: middle;\n",
              "    }\n",
              "\n",
              "    .dataframe tbody tr th {\n",
              "        vertical-align: top;\n",
              "    }\n",
              "\n",
              "    .dataframe thead th {\n",
              "        text-align: right;\n",
              "    }\n",
              "</style>\n",
              "<table border=\"1\" class=\"dataframe\">\n",
              "  <thead>\n",
              "    <tr style=\"text-align: right;\">\n",
              "      <th></th>\n",
              "      <th>0</th>\n",
              "      <th>1</th>\n",
              "      <th>2</th>\n",
              "      <th>3</th>\n",
              "    </tr>\n",
              "  </thead>\n",
              "  <tbody>\n",
              "    <tr>\n",
              "      <th>0</th>\n",
              "      <td>0</td>\n",
              "      <td>1</td>\n",
              "      <td>2</td>\n",
              "      <td>3</td>\n",
              "    </tr>\n",
              "    <tr>\n",
              "      <th>1</th>\n",
              "      <td>4</td>\n",
              "      <td>5</td>\n",
              "      <td>6</td>\n",
              "      <td>7</td>\n",
              "    </tr>\n",
              "    <tr>\n",
              "      <th>2</th>\n",
              "      <td>8</td>\n",
              "      <td>9</td>\n",
              "      <td>10</td>\n",
              "      <td>11</td>\n",
              "    </tr>\n",
              "    <tr>\n",
              "      <th>3</th>\n",
              "      <td>12</td>\n",
              "      <td>13</td>\n",
              "      <td>14</td>\n",
              "      <td>15</td>\n",
              "    </tr>\n",
              "    <tr>\n",
              "      <th>4</th>\n",
              "      <td>16</td>\n",
              "      <td>17</td>\n",
              "      <td>18</td>\n",
              "      <td>19</td>\n",
              "    </tr>\n",
              "  </tbody>\n",
              "</table>\n",
              "</div>"
            ],
            "text/plain": [
              "    0   1   2   3\n",
              "0   0   1   2   3\n",
              "1   4   5   6   7\n",
              "2   8   9  10  11\n",
              "3  12  13  14  15\n",
              "4  16  17  18  19"
            ]
          },
          "metadata": {},
          "execution_count": 83
        }
      ]
    },
    {
      "cell_type": "code",
      "metadata": {
        "colab": {
          "base_uri": "https://localhost:8080/"
        },
        "id": "NgH3VJz_Ota3",
        "outputId": "bd18ad06-0b75-495c-ddc1-1d2611cf6505"
      },
      "source": [
        "sampler = np.random.permutation(5)\n",
        "sampler"
      ],
      "execution_count": null,
      "outputs": [
        {
          "output_type": "execute_result",
          "data": {
            "text/plain": [
              "array([4, 0, 2, 3, 1])"
            ]
          },
          "metadata": {},
          "execution_count": 84
        }
      ]
    },
    {
      "cell_type": "code",
      "metadata": {
        "colab": {
          "base_uri": "https://localhost:8080/",
          "height": 204
        },
        "id": "xlrgNbY6O1e_",
        "outputId": "08f9a20a-d6cc-45ba-ed27-6aa9700048d7"
      },
      "source": [
        "df.take(sampler)"
      ],
      "execution_count": null,
      "outputs": [
        {
          "output_type": "execute_result",
          "data": {
            "text/html": [
              "<div>\n",
              "<style scoped>\n",
              "    .dataframe tbody tr th:only-of-type {\n",
              "        vertical-align: middle;\n",
              "    }\n",
              "\n",
              "    .dataframe tbody tr th {\n",
              "        vertical-align: top;\n",
              "    }\n",
              "\n",
              "    .dataframe thead th {\n",
              "        text-align: right;\n",
              "    }\n",
              "</style>\n",
              "<table border=\"1\" class=\"dataframe\">\n",
              "  <thead>\n",
              "    <tr style=\"text-align: right;\">\n",
              "      <th></th>\n",
              "      <th>0</th>\n",
              "      <th>1</th>\n",
              "      <th>2</th>\n",
              "      <th>3</th>\n",
              "    </tr>\n",
              "  </thead>\n",
              "  <tbody>\n",
              "    <tr>\n",
              "      <th>4</th>\n",
              "      <td>16</td>\n",
              "      <td>17</td>\n",
              "      <td>18</td>\n",
              "      <td>19</td>\n",
              "    </tr>\n",
              "    <tr>\n",
              "      <th>0</th>\n",
              "      <td>0</td>\n",
              "      <td>1</td>\n",
              "      <td>2</td>\n",
              "      <td>3</td>\n",
              "    </tr>\n",
              "    <tr>\n",
              "      <th>2</th>\n",
              "      <td>8</td>\n",
              "      <td>9</td>\n",
              "      <td>10</td>\n",
              "      <td>11</td>\n",
              "    </tr>\n",
              "    <tr>\n",
              "      <th>3</th>\n",
              "      <td>12</td>\n",
              "      <td>13</td>\n",
              "      <td>14</td>\n",
              "      <td>15</td>\n",
              "    </tr>\n",
              "    <tr>\n",
              "      <th>1</th>\n",
              "      <td>4</td>\n",
              "      <td>5</td>\n",
              "      <td>6</td>\n",
              "      <td>7</td>\n",
              "    </tr>\n",
              "  </tbody>\n",
              "</table>\n",
              "</div>"
            ],
            "text/plain": [
              "    0   1   2   3\n",
              "4  16  17  18  19\n",
              "0   0   1   2   3\n",
              "2   8   9  10  11\n",
              "3  12  13  14  15\n",
              "1   4   5   6   7"
            ]
          },
          "metadata": {},
          "execution_count": 86
        }
      ]
    },
    {
      "cell_type": "code",
      "metadata": {
        "colab": {
          "base_uri": "https://localhost:8080/",
          "height": 142
        },
        "id": "_NvbbGEVPLFl",
        "outputId": "0cab515e-717a-41b4-f56d-1211053aebce"
      },
      "source": [
        "df.sample(n=3)"
      ],
      "execution_count": null,
      "outputs": [
        {
          "output_type": "execute_result",
          "data": {
            "text/html": [
              "<div>\n",
              "<style scoped>\n",
              "    .dataframe tbody tr th:only-of-type {\n",
              "        vertical-align: middle;\n",
              "    }\n",
              "\n",
              "    .dataframe tbody tr th {\n",
              "        vertical-align: top;\n",
              "    }\n",
              "\n",
              "    .dataframe thead th {\n",
              "        text-align: right;\n",
              "    }\n",
              "</style>\n",
              "<table border=\"1\" class=\"dataframe\">\n",
              "  <thead>\n",
              "    <tr style=\"text-align: right;\">\n",
              "      <th></th>\n",
              "      <th>0</th>\n",
              "      <th>1</th>\n",
              "      <th>2</th>\n",
              "      <th>3</th>\n",
              "    </tr>\n",
              "  </thead>\n",
              "  <tbody>\n",
              "    <tr>\n",
              "      <th>0</th>\n",
              "      <td>0</td>\n",
              "      <td>1</td>\n",
              "      <td>2</td>\n",
              "      <td>3</td>\n",
              "    </tr>\n",
              "    <tr>\n",
              "      <th>1</th>\n",
              "      <td>4</td>\n",
              "      <td>5</td>\n",
              "      <td>6</td>\n",
              "      <td>7</td>\n",
              "    </tr>\n",
              "    <tr>\n",
              "      <th>4</th>\n",
              "      <td>16</td>\n",
              "      <td>17</td>\n",
              "      <td>18</td>\n",
              "      <td>19</td>\n",
              "    </tr>\n",
              "  </tbody>\n",
              "</table>\n",
              "</div>"
            ],
            "text/plain": [
              "    0   1   2   3\n",
              "0   0   1   2   3\n",
              "1   4   5   6   7\n",
              "4  16  17  18  19"
            ]
          },
          "metadata": {},
          "execution_count": 87
        }
      ]
    },
    {
      "cell_type": "code",
      "metadata": {
        "colab": {
          "base_uri": "https://localhost:8080/"
        },
        "id": "t7moGPExPQVt",
        "outputId": "15fc7fa7-21ba-4c48-8c44-bcd02ab443a9"
      },
      "source": [
        "choices = pd.Series([5, 7, -1, 6, 4])\n",
        "choices"
      ],
      "execution_count": null,
      "outputs": [
        {
          "output_type": "execute_result",
          "data": {
            "text/plain": [
              "0    5\n",
              "1    7\n",
              "2   -1\n",
              "3    6\n",
              "4    4\n",
              "dtype: int64"
            ]
          },
          "metadata": {},
          "execution_count": 89
        }
      ]
    },
    {
      "cell_type": "code",
      "metadata": {
        "colab": {
          "base_uri": "https://localhost:8080/"
        },
        "id": "Odh6wu5jPZ60",
        "outputId": "5c6769a4-c27b-472e-9a5c-c039678995c2"
      },
      "source": [
        "draws = choices.sample(n=10, replace=True)\n",
        "draws"
      ],
      "execution_count": null,
      "outputs": [
        {
          "output_type": "execute_result",
          "data": {
            "text/plain": [
              "1    7\n",
              "3    6\n",
              "2   -1\n",
              "1    7\n",
              "3    6\n",
              "0    5\n",
              "1    7\n",
              "2   -1\n",
              "4    4\n",
              "2   -1\n",
              "dtype: int64"
            ]
          },
          "metadata": {},
          "execution_count": 90
        }
      ]
    },
    {
      "cell_type": "markdown",
      "metadata": {
        "id": "M38JlIMcPf5w"
      },
      "source": [
        "Computing Indicator/Dummy Variables"
      ]
    },
    {
      "cell_type": "code",
      "metadata": {
        "colab": {
          "base_uri": "https://localhost:8080/",
          "height": 235
        },
        "id": "fKJ2AjjLPk0u",
        "outputId": "12f1f4b9-a24b-419e-ffc2-5a87011d8b3e"
      },
      "source": [
        "df = pd.DataFrame({'key': ['b', 'b', 'a', 'c', 'a', 'b'], 'data1': range(6)})\n",
        "df"
      ],
      "execution_count": null,
      "outputs": [
        {
          "output_type": "execute_result",
          "data": {
            "text/html": [
              "<div>\n",
              "<style scoped>\n",
              "    .dataframe tbody tr th:only-of-type {\n",
              "        vertical-align: middle;\n",
              "    }\n",
              "\n",
              "    .dataframe tbody tr th {\n",
              "        vertical-align: top;\n",
              "    }\n",
              "\n",
              "    .dataframe thead th {\n",
              "        text-align: right;\n",
              "    }\n",
              "</style>\n",
              "<table border=\"1\" class=\"dataframe\">\n",
              "  <thead>\n",
              "    <tr style=\"text-align: right;\">\n",
              "      <th></th>\n",
              "      <th>key</th>\n",
              "      <th>data1</th>\n",
              "    </tr>\n",
              "  </thead>\n",
              "  <tbody>\n",
              "    <tr>\n",
              "      <th>0</th>\n",
              "      <td>b</td>\n",
              "      <td>0</td>\n",
              "    </tr>\n",
              "    <tr>\n",
              "      <th>1</th>\n",
              "      <td>b</td>\n",
              "      <td>1</td>\n",
              "    </tr>\n",
              "    <tr>\n",
              "      <th>2</th>\n",
              "      <td>a</td>\n",
              "      <td>2</td>\n",
              "    </tr>\n",
              "    <tr>\n",
              "      <th>3</th>\n",
              "      <td>c</td>\n",
              "      <td>3</td>\n",
              "    </tr>\n",
              "    <tr>\n",
              "      <th>4</th>\n",
              "      <td>a</td>\n",
              "      <td>4</td>\n",
              "    </tr>\n",
              "    <tr>\n",
              "      <th>5</th>\n",
              "      <td>b</td>\n",
              "      <td>5</td>\n",
              "    </tr>\n",
              "  </tbody>\n",
              "</table>\n",
              "</div>"
            ],
            "text/plain": [
              "  key  data1\n",
              "0   b      0\n",
              "1   b      1\n",
              "2   a      2\n",
              "3   c      3\n",
              "4   a      4\n",
              "5   b      5"
            ]
          },
          "metadata": {},
          "execution_count": 91
        }
      ]
    },
    {
      "cell_type": "code",
      "metadata": {
        "colab": {
          "base_uri": "https://localhost:8080/",
          "height": 235
        },
        "id": "DvvLZLh7Ps4R",
        "outputId": "770e7d7e-7894-4aa2-c862-e6d02dbd122d"
      },
      "source": [
        "pd.get_dummies(df['key'])"
      ],
      "execution_count": null,
      "outputs": [
        {
          "output_type": "execute_result",
          "data": {
            "text/html": [
              "<div>\n",
              "<style scoped>\n",
              "    .dataframe tbody tr th:only-of-type {\n",
              "        vertical-align: middle;\n",
              "    }\n",
              "\n",
              "    .dataframe tbody tr th {\n",
              "        vertical-align: top;\n",
              "    }\n",
              "\n",
              "    .dataframe thead th {\n",
              "        text-align: right;\n",
              "    }\n",
              "</style>\n",
              "<table border=\"1\" class=\"dataframe\">\n",
              "  <thead>\n",
              "    <tr style=\"text-align: right;\">\n",
              "      <th></th>\n",
              "      <th>a</th>\n",
              "      <th>b</th>\n",
              "      <th>c</th>\n",
              "    </tr>\n",
              "  </thead>\n",
              "  <tbody>\n",
              "    <tr>\n",
              "      <th>0</th>\n",
              "      <td>0</td>\n",
              "      <td>1</td>\n",
              "      <td>0</td>\n",
              "    </tr>\n",
              "    <tr>\n",
              "      <th>1</th>\n",
              "      <td>0</td>\n",
              "      <td>1</td>\n",
              "      <td>0</td>\n",
              "    </tr>\n",
              "    <tr>\n",
              "      <th>2</th>\n",
              "      <td>1</td>\n",
              "      <td>0</td>\n",
              "      <td>0</td>\n",
              "    </tr>\n",
              "    <tr>\n",
              "      <th>3</th>\n",
              "      <td>0</td>\n",
              "      <td>0</td>\n",
              "      <td>1</td>\n",
              "    </tr>\n",
              "    <tr>\n",
              "      <th>4</th>\n",
              "      <td>1</td>\n",
              "      <td>0</td>\n",
              "      <td>0</td>\n",
              "    </tr>\n",
              "    <tr>\n",
              "      <th>5</th>\n",
              "      <td>0</td>\n",
              "      <td>1</td>\n",
              "      <td>0</td>\n",
              "    </tr>\n",
              "  </tbody>\n",
              "</table>\n",
              "</div>"
            ],
            "text/plain": [
              "   a  b  c\n",
              "0  0  1  0\n",
              "1  0  1  0\n",
              "2  1  0  0\n",
              "3  0  0  1\n",
              "4  1  0  0\n",
              "5  0  1  0"
            ]
          },
          "metadata": {},
          "execution_count": 92
        }
      ]
    },
    {
      "cell_type": "code",
      "metadata": {
        "colab": {
          "base_uri": "https://localhost:8080/",
          "height": 235
        },
        "id": "h1I-29JCPxaz",
        "outputId": "25265ce6-06e8-40af-e630-8e48a4aa937b"
      },
      "source": [
        "dummies = pd.get_dummies(df['key'], prefix='key')\n",
        "dummies"
      ],
      "execution_count": null,
      "outputs": [
        {
          "output_type": "execute_result",
          "data": {
            "text/html": [
              "<div>\n",
              "<style scoped>\n",
              "    .dataframe tbody tr th:only-of-type {\n",
              "        vertical-align: middle;\n",
              "    }\n",
              "\n",
              "    .dataframe tbody tr th {\n",
              "        vertical-align: top;\n",
              "    }\n",
              "\n",
              "    .dataframe thead th {\n",
              "        text-align: right;\n",
              "    }\n",
              "</style>\n",
              "<table border=\"1\" class=\"dataframe\">\n",
              "  <thead>\n",
              "    <tr style=\"text-align: right;\">\n",
              "      <th></th>\n",
              "      <th>key_a</th>\n",
              "      <th>key_b</th>\n",
              "      <th>key_c</th>\n",
              "    </tr>\n",
              "  </thead>\n",
              "  <tbody>\n",
              "    <tr>\n",
              "      <th>0</th>\n",
              "      <td>0</td>\n",
              "      <td>1</td>\n",
              "      <td>0</td>\n",
              "    </tr>\n",
              "    <tr>\n",
              "      <th>1</th>\n",
              "      <td>0</td>\n",
              "      <td>1</td>\n",
              "      <td>0</td>\n",
              "    </tr>\n",
              "    <tr>\n",
              "      <th>2</th>\n",
              "      <td>1</td>\n",
              "      <td>0</td>\n",
              "      <td>0</td>\n",
              "    </tr>\n",
              "    <tr>\n",
              "      <th>3</th>\n",
              "      <td>0</td>\n",
              "      <td>0</td>\n",
              "      <td>1</td>\n",
              "    </tr>\n",
              "    <tr>\n",
              "      <th>4</th>\n",
              "      <td>1</td>\n",
              "      <td>0</td>\n",
              "      <td>0</td>\n",
              "    </tr>\n",
              "    <tr>\n",
              "      <th>5</th>\n",
              "      <td>0</td>\n",
              "      <td>1</td>\n",
              "      <td>0</td>\n",
              "    </tr>\n",
              "  </tbody>\n",
              "</table>\n",
              "</div>"
            ],
            "text/plain": [
              "   key_a  key_b  key_c\n",
              "0      0      1      0\n",
              "1      0      1      0\n",
              "2      1      0      0\n",
              "3      0      0      1\n",
              "4      1      0      0\n",
              "5      0      1      0"
            ]
          },
          "metadata": {},
          "execution_count": 93
        }
      ]
    },
    {
      "cell_type": "code",
      "metadata": {
        "colab": {
          "base_uri": "https://localhost:8080/",
          "height": 235
        },
        "id": "gSvMZLorP4eD",
        "outputId": "c8ee2eb7-ca3c-4bf7-ccc4-50ac7f4a6337"
      },
      "source": [
        "df_with_dummy = df[['data1']].join(dummies)\n",
        "df_with_dummy"
      ],
      "execution_count": null,
      "outputs": [
        {
          "output_type": "execute_result",
          "data": {
            "text/html": [
              "<div>\n",
              "<style scoped>\n",
              "    .dataframe tbody tr th:only-of-type {\n",
              "        vertical-align: middle;\n",
              "    }\n",
              "\n",
              "    .dataframe tbody tr th {\n",
              "        vertical-align: top;\n",
              "    }\n",
              "\n",
              "    .dataframe thead th {\n",
              "        text-align: right;\n",
              "    }\n",
              "</style>\n",
              "<table border=\"1\" class=\"dataframe\">\n",
              "  <thead>\n",
              "    <tr style=\"text-align: right;\">\n",
              "      <th></th>\n",
              "      <th>data1</th>\n",
              "      <th>key_a</th>\n",
              "      <th>key_b</th>\n",
              "      <th>key_c</th>\n",
              "    </tr>\n",
              "  </thead>\n",
              "  <tbody>\n",
              "    <tr>\n",
              "      <th>0</th>\n",
              "      <td>0</td>\n",
              "      <td>0</td>\n",
              "      <td>1</td>\n",
              "      <td>0</td>\n",
              "    </tr>\n",
              "    <tr>\n",
              "      <th>1</th>\n",
              "      <td>1</td>\n",
              "      <td>0</td>\n",
              "      <td>1</td>\n",
              "      <td>0</td>\n",
              "    </tr>\n",
              "    <tr>\n",
              "      <th>2</th>\n",
              "      <td>2</td>\n",
              "      <td>1</td>\n",
              "      <td>0</td>\n",
              "      <td>0</td>\n",
              "    </tr>\n",
              "    <tr>\n",
              "      <th>3</th>\n",
              "      <td>3</td>\n",
              "      <td>0</td>\n",
              "      <td>0</td>\n",
              "      <td>1</td>\n",
              "    </tr>\n",
              "    <tr>\n",
              "      <th>4</th>\n",
              "      <td>4</td>\n",
              "      <td>1</td>\n",
              "      <td>0</td>\n",
              "      <td>0</td>\n",
              "    </tr>\n",
              "    <tr>\n",
              "      <th>5</th>\n",
              "      <td>5</td>\n",
              "      <td>0</td>\n",
              "      <td>1</td>\n",
              "      <td>0</td>\n",
              "    </tr>\n",
              "  </tbody>\n",
              "</table>\n",
              "</div>"
            ],
            "text/plain": [
              "   data1  key_a  key_b  key_c\n",
              "0      0      0      1      0\n",
              "1      1      0      1      0\n",
              "2      2      1      0      0\n",
              "3      3      0      0      1\n",
              "4      4      1      0      0\n",
              "5      5      0      1      0"
            ]
          },
          "metadata": {},
          "execution_count": 94
        }
      ]
    },
    {
      "cell_type": "code",
      "metadata": {
        "colab": {
          "base_uri": "https://localhost:8080/"
        },
        "id": "eVelrlbFQAGr",
        "outputId": "05c13470-c530-4062-d15c-0efded819bce"
      },
      "source": [
        "mnames = ['movie_id', 'title', 'genres']\n",
        "mnames"
      ],
      "execution_count": null,
      "outputs": [
        {
          "output_type": "execute_result",
          "data": {
            "text/plain": [
              "['movie_id', 'title', 'genres']"
            ]
          },
          "metadata": {},
          "execution_count": 95
        }
      ]
    },
    {
      "cell_type": "code",
      "metadata": {
        "colab": {
          "base_uri": "https://localhost:8080/",
          "height": 321
        },
        "id": "iwKrPRbAQHux",
        "outputId": "bc338254-9e3e-444d-dd28-794ff98517b7"
      },
      "source": [
        "mnames = ['movie_id', 'title', 'genres']\n",
        "movies = pd.read_tables('/content/movie.dat', sep='::', header=None, names=mnames)\n",
        "movies[:10]\n"
      ],
      "execution_count": null,
      "outputs": [
        {
          "output_type": "error",
          "ename": "AttributeError",
          "evalue": "ignored",
          "traceback": [
            "\u001b[0;31m---------------------------------------------------------------------------\u001b[0m",
            "\u001b[0;31mAttributeError\u001b[0m                            Traceback (most recent call last)",
            "\u001b[0;32m<ipython-input-15-41d48da29d29>\u001b[0m in \u001b[0;36m<module>\u001b[0;34m()\u001b[0m\n\u001b[1;32m      1\u001b[0m \u001b[0mmnames\u001b[0m \u001b[0;34m=\u001b[0m \u001b[0;34m[\u001b[0m\u001b[0;34m'movie_id'\u001b[0m\u001b[0;34m,\u001b[0m \u001b[0;34m'title'\u001b[0m\u001b[0;34m,\u001b[0m \u001b[0;34m'genres'\u001b[0m\u001b[0;34m]\u001b[0m\u001b[0;34m\u001b[0m\u001b[0;34m\u001b[0m\u001b[0m\n\u001b[0;32m----> 2\u001b[0;31m \u001b[0mmovies\u001b[0m \u001b[0;34m=\u001b[0m \u001b[0mpd\u001b[0m\u001b[0;34m.\u001b[0m\u001b[0mread_tables\u001b[0m\u001b[0;34m(\u001b[0m\u001b[0;34m'/content/movie.dat'\u001b[0m\u001b[0;34m,\u001b[0m \u001b[0msep\u001b[0m\u001b[0;34m=\u001b[0m\u001b[0;34m'::'\u001b[0m\u001b[0;34m,\u001b[0m \u001b[0mheader\u001b[0m\u001b[0;34m=\u001b[0m\u001b[0;32mNone\u001b[0m\u001b[0;34m,\u001b[0m \u001b[0mnames\u001b[0m\u001b[0;34m=\u001b[0m\u001b[0mmnames\u001b[0m\u001b[0;34m)\u001b[0m\u001b[0;34m\u001b[0m\u001b[0;34m\u001b[0m\u001b[0m\n\u001b[0m\u001b[1;32m      3\u001b[0m \u001b[0mmovies\u001b[0m\u001b[0;34m[\u001b[0m\u001b[0;34m:\u001b[0m\u001b[0;36m10\u001b[0m\u001b[0;34m]\u001b[0m\u001b[0;34m\u001b[0m\u001b[0;34m\u001b[0m\u001b[0m\n",
            "\u001b[0;32m/usr/local/lib/python3.7/dist-packages/pandas/__init__.py\u001b[0m in \u001b[0;36m__getattr__\u001b[0;34m(name)\u001b[0m\n\u001b[1;32m    256\u001b[0m             \u001b[0;32mreturn\u001b[0m \u001b[0m_SparseArray\u001b[0m\u001b[0;34m\u001b[0m\u001b[0;34m\u001b[0m\u001b[0m\n\u001b[1;32m    257\u001b[0m \u001b[0;34m\u001b[0m\u001b[0m\n\u001b[0;32m--> 258\u001b[0;31m         \u001b[0;32mraise\u001b[0m \u001b[0mAttributeError\u001b[0m\u001b[0;34m(\u001b[0m\u001b[0;34mf\"module 'pandas' has no attribute '{name}'\"\u001b[0m\u001b[0;34m)\u001b[0m\u001b[0;34m\u001b[0m\u001b[0;34m\u001b[0m\u001b[0m\n\u001b[0m\u001b[1;32m    259\u001b[0m \u001b[0;34m\u001b[0m\u001b[0m\n\u001b[1;32m    260\u001b[0m \u001b[0;34m\u001b[0m\u001b[0m\n",
            "\u001b[0;31mAttributeError\u001b[0m: module 'pandas' has no attribute 'read_tables'"
          ]
        }
      ]
    }
  ]
}