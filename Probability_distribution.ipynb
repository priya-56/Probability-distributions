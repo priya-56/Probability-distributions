{
  "nbformat": 4,
  "nbformat_minor": 0,
  "metadata": {
    "colab": {
      "name": "Probability distribution.ipynb",
      "provenance": []
    },
    "kernelspec": {
      "name": "python3",
      "display_name": "Python 3"
    },
    "language_info": {
      "name": "python"
    }
  },
  "cells": [
    {
      "cell_type": "markdown",
      "source": [
        "Probability distribution"
      ],
      "metadata": {
        "id": "VRK1osaTCGLQ"
      }
    },
    {
      "cell_type": "code",
      "source": [
        "%matplotlib inline\n",
        "\n",
        "import numpy as np\n",
        "import pandas as pd\n",
        "import matplotlib.pyplot as plt\n",
        "import scipy.stats as stats"
      ],
      "metadata": {
        "id": "t_A2oTBCCMdZ"
      },
      "execution_count": 2,
      "outputs": []
    },
    {
      "cell_type": "code",
      "source": [
        "uniform_data = stats.uniform.rvs(size=100000,  # Generate 100000 numbers\n",
        "                                 loc = 0,      # From 0 \n",
        "                                 scale=10)     # To 10"
      ],
      "metadata": {
        "id": "PDRetdEcCsi9"
      },
      "execution_count": 3,
      "outputs": []
    },
    {
      "cell_type": "code",
      "source": [
        "pd.DataFrame(uniform_data).plot(kind=\"density\",  # Plot the distribution\n",
        "                               figsize=(9,9),\n",
        "                               xlim=(-1,11));"
      ],
      "metadata": {
        "colab": {
          "base_uri": "https://localhost:8080/",
          "height": 537
        },
        "id": "PMK5Z49yC3be",
        "outputId": "ccc6c1d0-d4cc-42f2-eaf9-7d40ee6c80cb"
      },
      "execution_count": 4,
      "outputs": [
        {
          "output_type": "display_data",
          "data": {
            "image/png": "[encoded data removed]",
            "text/plain": [
              "<Figure size 648x648 with 1 Axes>"
            ]
          },
          "metadata": {
            "needs_background": "light"
          }
        }
      ]
    },
    {
      "cell_type": "markdown",
      "source": [
        "stats.distribution.cdf() is used to determine the probability that an observation drawn from a distribution falls below a specified value (known as the cumulative distribution function). In essence, cdf() gives you the area under the distribution's density curve to the left of a certain value on the x axis. For example, in the uniform distribution above, there is a 25% chance that an observation will be in the range 0 to 2.5 and a 75% chance it will fall in the range 2.5 to 10. We can confirm this with cdf():"
      ],
      "metadata": {
        "id": "1Ka7E8Q3Ed6U"
      }
    },
    {
      "cell_type": "code",
      "source": [
        "stats.uniform.cdf(x=2.5,         # Cutoff value (quantile) to check\n",
        "                  loc=0,         # Distribution start\n",
        "                  scale=10)  "
      ],
      "metadata": {
        "colab": {
          "base_uri": "https://localhost:8080/"
        },
        "id": "xPWcEOyeDc8l",
        "outputId": "e55dbac0-bd37-41f7-9cc3-74dd289321af"
      },
      "execution_count": 5,
      "outputs": [
        {
          "output_type": "execute_result",
          "data": {
            "text/plain": [
              "0.25"
            ]
          },
          "metadata": {},
          "execution_count": 5
        }
      ]
    },
    {
      "cell_type": "markdown",
      "source": [
        "-stats.distribution.ppf() is the inverse of cdf(): it returns the x axis cutoff value (quantile) associated with a given probability. For instance, if we want to know the cutoff value for which we have a 40% chance of drawing an observation below that value, we can use ppf():"
      ],
      "metadata": {
        "id": "F1b-LdPYEkw9"
      }
    },
    {
      "cell_type": "code",
      "source": [
        "stats.uniform.ppf(q=0.4,         # Probability cutoff\n",
        "                  loc=0,         # Distribution start\n",
        "                  scale=10) "
      ],
      "metadata": {
        "colab": {
          "base_uri": "https://localhost:8080/"
        },
        "id": "mZXVs7UeENcP",
        "outputId": "ae7afca3-6119-4c3b-a536-9b45a665dd4b"
      },
      "execution_count": 6,
      "outputs": [
        {
          "output_type": "execute_result",
          "data": {
            "text/plain": [
              "4.0"
            ]
          },
          "metadata": {},
          "execution_count": 6
        }
      ]
    },
    {
      "cell_type": "markdown",
      "source": [
        "-stats.distribution.pdf() gives you the probability density (height of the distribution) at a given x value. Since the uniform distribution is flat, all x values within its range will have the same probability density and x values outside the range have a probability density of 0:"
      ],
      "metadata": {
        "id": "uIYkcJShEtrN"
      }
    },
    {
      "cell_type": "code",
      "source": [
        "for x in range(-1,12,3):\n",
        "    print(\"Density at x value \" + str(x))\n",
        "    print( stats.uniform.pdf(x, loc=0, scale=10) )   "
      ],
      "metadata": {
        "colab": {
          "base_uri": "https://localhost:8080/"
        },
        "id": "XYB_ofMcEzal",
        "outputId": "495c9e2e-8186-4ab6-f94f-3e2616c11e18"
      },
      "execution_count": 7,
      "outputs": [
        {
          "output_type": "stream",
          "name": "stdout",
          "text": [
            "Density at x value -1\n",
            "0.0\n",
            "Density at x value 2\n",
            "0.1\n",
            "Density at x value 5\n",
            "0.1\n",
            "Density at x value 8\n",
            "0.1\n",
            "Density at x value 11\n",
            "0.0\n"
          ]
        }
      ]
    },
    {
      "cell_type": "markdown",
      "source": [
        "Probability distribution functions in scipy also support median(), mean(), var() and std()."
      ],
      "metadata": {
        "id": "eEqgxhZrHrC6"
      }
    },
    {
      "cell_type": "markdown",
      "source": [
        "Generating Random Numbers and Setting The Seed"
      ],
      "metadata": {
        "id": "r7d6FQwlH7ts"
      }
    },
    {
      "cell_type": "code",
      "source": [
        "import random\n",
        "\n",
        "random.randint(0,10)   "
      ],
      "metadata": {
        "colab": {
          "base_uri": "https://localhost:8080/"
        },
        "id": "jlZ_4EX2Hmxl",
        "outputId": "7b214108-507e-49c9-aa07-8a0e39a97da1"
      },
      "execution_count": 8,
      "outputs": [
        {
          "output_type": "execute_result",
          "data": {
            "text/plain": [
              "10"
            ]
          },
          "metadata": {},
          "execution_count": 8
        }
      ]
    },
    {
      "cell_type": "code",
      "source": [
        "random.choice([2,4,6,9]) "
      ],
      "metadata": {
        "colab": {
          "base_uri": "https://localhost:8080/"
        },
        "id": "BY_4e5VBJE3n",
        "outputId": "aa3e3f0f-704f-4ead-c130-bd6898b6562c"
      },
      "execution_count": 9,
      "outputs": [
        {
          "output_type": "execute_result",
          "data": {
            "text/plain": [
              "2"
            ]
          },
          "metadata": {},
          "execution_count": 9
        }
      ]
    },
    {
      "cell_type": "code",
      "source": [
        "random.random()   "
      ],
      "metadata": {
        "colab": {
          "base_uri": "https://localhost:8080/"
        },
        "id": "D5VIw4pEJdDU",
        "outputId": "1a59e50b-56b3-4494-847b-cbc35bbddbb6"
      },
      "execution_count": 10,
      "outputs": [
        {
          "output_type": "execute_result",
          "data": {
            "text/plain": [
              "0.05097600185232609"
            ]
          },
          "metadata": {},
          "execution_count": 10
        }
      ]
    },
    {
      "cell_type": "code",
      "source": [
        "random.uniform(0,10) "
      ],
      "metadata": {
        "colab": {
          "base_uri": "https://localhost:8080/"
        },
        "id": "7wi36SrSKJHs",
        "outputId": "5211f90f-ee0c-482a-babb-ccd790c7fdf0"
      },
      "execution_count": 11,
      "outputs": [
        {
          "output_type": "execute_result",
          "data": {
            "text/plain": [
              "2.379552829279631"
            ]
          },
          "metadata": {},
          "execution_count": 11
        }
      ]
    },
    {
      "cell_type": "code",
      "source": [
        "random.seed(12)  # Set the seed to an arbitrary value\n",
        "\n",
        "print([random.uniform(0,10) for x in range(4)])\n",
        "\n",
        "random.seed(12)  # Set the seed to the same value\n",
        "\n",
        "print([random.uniform(0,10) for x in range(4)])"
      ],
      "metadata": {
        "colab": {
          "base_uri": "https://localhost:8080/"
        },
        "id": "gdQkkhViKP2O",
        "outputId": "3936185f-62a6-40db-e879-7c32af18c7ef"
      },
      "execution_count": 12,
      "outputs": [
        {
          "output_type": "stream",
          "name": "stdout",
          "text": [
            "[4.7457067868854805, 6.574725026572553, 6.664104711248381, 1.4260035292536777]\n",
            "[4.7457067868854805, 6.574725026572553, 6.664104711248381, 1.4260035292536777]\n"
          ]
        }
      ]
    },
    {
      "cell_type": "markdown",
      "source": [
        "The Normal Distribution"
      ],
      "metadata": {
        "id": "MjyP2z32Lm_M"
      }
    },
    {
      "cell_type": "markdown",
      "source": [
        "The normal or Gaussian distribution is a continuous probability distribution characterized by a symmetric bell-shaped curve."
      ],
      "metadata": {
        "id": "jADYFy6SLv0V"
      }
    },
    {
      "cell_type": "code",
      "source": [
        "prob_under_minus1 = stats.norm.cdf(x= -1,  \n",
        "                                loc = 0,               \n",
        "                                scale= 1)     \n",
        "\n",
        "prob_over_1 = 1 - stats.norm.cdf(x= 1,  \n",
        "                                loc = 0,               \n",
        "                                scale= 1) \n",
        "\n",
        "between_prob = 1-(prob_under_minus1+prob_over_1)\n",
        "\n",
        "print(prob_under_minus1, prob_over_1, between_prob)"
      ],
      "metadata": {
        "colab": {
          "base_uri": "https://localhost:8080/"
        },
        "id": "7yGcV79cLoRc",
        "outputId": "d09993fb-dc25-4430-9fda-374a00c56373"
      },
      "execution_count": 13,
      "outputs": [
        {
          "output_type": "stream",
          "name": "stdout",
          "text": [
            "0.15865525393145707 0.15865525393145707 0.6826894921370859\n"
          ]
        }
      ]
    },
    {
      "cell_type": "code",
      "source": [
        "# Plot normal distribution areas*\n",
        "\n",
        "plt.rcParams[\"figure.figsize\"] = (9,9)\n",
        "                                  \n",
        "plt.fill_between(x=np.arange(-4,-1,0.01), \n",
        "                 y1= stats.norm.pdf(np.arange(-4,-1,0.01)) ,\n",
        "                 facecolor='red',\n",
        "                 alpha=0.35)\n",
        "\n",
        "plt.fill_between(x=np.arange(1,4,0.01), \n",
        "                 y1= stats.norm.pdf(np.arange(1,4,0.01)) ,\n",
        "                 facecolor='red',\n",
        "                 alpha=0.35)\n",
        "\n",
        "plt.fill_between(x=np.arange(-1,1,0.01), \n",
        "                 y1= stats.norm.pdf(np.arange(-1,1,0.01)) ,\n",
        "                 facecolor='blue',\n",
        "                 alpha=0.35)\n",
        "\n",
        "plt.text(x=-1.8, y=0.03, s= round(prob_under_minus1,3))\n",
        "plt.text(x=-0.2, y=0.1, s= round(between_prob,3))\n",
        "plt.text(x=1.4, y=0.03, s= round(prob_over_1,3));"
      ],
      "metadata": {
        "colab": {
          "base_uri": "https://localhost:8080/",
          "height": 537
        },
        "id": "cqyoY7rbMYBk",
        "outputId": "5c5fdc6a-f004-4b8f-bc99-d1718b1209da"
      },
      "execution_count": 14,
      "outputs": [
        {
          "output_type": "display_data",
          "data": {
            "image/png": "[encoded data removed]",
            "text/plain": [
              "<Figure size 648x648 with 1 Axes>"
            ]
          },
          "metadata": {
            "needs_background": "light"
          }
        }
      ]
    },
    {
      "cell_type": "markdown",
      "source": [
        "Finding quantiles of the normal distribution is a common task when performing statistical tests. You can check normal distribution quantiles with stats.norm.ppf():"
      ],
      "metadata": {
        "id": "X_ZR9JVkNrWa"
      }
    },
    {
      "cell_type": "code",
      "source": [
        "print( stats.norm.ppf(q=0.025) ) # Find the quantile for the 2.5% cutoff\n",
        "\n",
        "print( stats.norm.ppf(q=0.975) ) # Find the quantile for the 97.5% cutoff"
      ],
      "metadata": {
        "colab": {
          "base_uri": "https://localhost:8080/"
        },
        "id": "Cd7YFhF0Nm9L",
        "outputId": "61b27b23-9cb8-42c7-8a4e-f0e4067a7506"
      },
      "execution_count": 15,
      "outputs": [
        {
          "output_type": "stream",
          "name": "stdout",
          "text": [
            "-1.9599639845400545\n",
            "1.959963984540054\n"
          ]
        }
      ]
    },
    {
      "cell_type": "code",
      "source": [
        "fair_coin_flips = stats.binom.rvs(n=10,        # Number of flips per trial\n",
        "                                  p=0.5,       # Success probability\n",
        "                                  size=10000)  # Number of trials\n",
        "\n",
        "print( pd.crosstab(index=\"counts\", columns= fair_coin_flips))\n",
        "\n",
        "pd.DataFrame(fair_coin_flips).hist(range=(-0.5,10.5), bins=11);"
      ],
      "metadata": {
        "colab": {
          "base_uri": "https://localhost:8080/",
          "height": 605
        },
        "id": "89u873GxN0nk",
        "outputId": "ac326cb0-1d65-49af-e279-3d685989d3d1"
      },
      "execution_count": 16,
      "outputs": [
        {
          "output_type": "stream",
          "name": "stdout",
          "text": [
            "col_0   0   1    2     3     4     5     6     7    8    9   10\n",
            "row_0                                                          \n",
            "counts  10  95  481  1188  2035  2452  2028  1167  438  102   4\n"
          ]
        },
        {
          "output_type": "display_data",
          "data": {
            "image/png": "[encoded data removed]",
            "text/plain": [
              "<Figure size 648x648 with 1 Axes>"
            ]
          },
          "metadata": {
            "needs_background": "light"
          }
        }
      ]
    },
    {
      "cell_type": "code",
      "source": [
        "biased_coin_flips = stats.binom.rvs(n=10,      # Number of flips per trial\n",
        "                                  p=0.8,       # Success probability\n",
        "                                  size=10000)  # Number of trials\n",
        "\n",
        "# Print table of counts\n",
        "print( pd.crosstab(index=\"counts\", columns= biased_coin_flips))\n",
        "\n",
        "# Plot histogram\n",
        "pd.DataFrame(biased_coin_flips).hist(range=(-0.5,10.5), bins=11);"
      ],
      "metadata": {
        "colab": {
          "base_uri": "https://localhost:8080/",
          "height": 605
        },
        "id": "t4A-hfmKOu5W",
        "outputId": "64eca30a-c867-4f5c-f0bc-69be70b89136"
      },
      "execution_count": 17,
      "outputs": [
        {
          "output_type": "stream",
          "name": "stdout",
          "text": [
            "col_0   3   4    5    6     7     8     9     10\n",
            "row_0                                           \n",
            "counts  11  51  274  896  2013  2966  2729  1060\n"
          ]
        },
        {
          "output_type": "display_data",
          "data": {
            "image/png": "[encoded data removed]",
            "text/plain": [
              "<Figure size 648x648 with 1 Axes>"
            ]
          },
          "metadata": {
            "needs_background": "light"
          }
        }
      ]
    },
    {
      "cell_type": "markdown",
      "source": [
        "The cdf() function lets us check the probability of achieving a number of successes within a certain range:"
      ],
      "metadata": {
        "id": "9ZjrnAa8PEfb"
      }
    },
    {
      "cell_type": "code",
      "source": [
        "stats.binom.cdf(k=5,        # Probability of k = 5 successes or less\n",
        "                n=10,       # With 10 flips\n",
        "                p=0.8)      # And success probability 0.8"
      ],
      "metadata": {
        "colab": {
          "base_uri": "https://localhost:8080/"
        },
        "id": "zXaQfRrKO745",
        "outputId": "6c4b5b05-619d-45cb-e23b-836197ca9bc7"
      },
      "execution_count": 18,
      "outputs": [
        {
          "output_type": "execute_result",
          "data": {
            "text/plain": [
              "0.032793497599999964"
            ]
          },
          "metadata": {},
          "execution_count": 18
        }
      ]
    },
    {
      "cell_type": "code",
      "source": [
        "1 - stats.binom.cdf(k=8,        # Probability of k = 9 successes or more\n",
        "                    n=10,       # With 10 flips\n",
        "                    p=0.8)      # And success probability 0.8"
      ],
      "metadata": {
        "colab": {
          "base_uri": "https://localhost:8080/"
        },
        "id": "kYqWOrEMPTIT",
        "outputId": "64d8e323-98b2-46a5-8342-41036e16e25b"
      },
      "execution_count": 19,
      "outputs": [
        {
          "output_type": "execute_result",
          "data": {
            "text/plain": [
              "0.37580963840000003"
            ]
          },
          "metadata": {},
          "execution_count": 19
        }
      ]
    },
    {
      "cell_type": "markdown",
      "source": [
        "For continuous probability density functions, you use pdf() to check the probability density at a given x value. For discrete distributions like the binomial, use stats.distribution.pmf() (probability mass function) to check the mass (proportion of observations) at given number of successes k:"
      ],
      "metadata": {
        "id": "MEUz7E0ePoJT"
      }
    },
    {
      "cell_type": "code",
      "source": [
        "stats.binom.pmf(k=5,        # Probability of k = 5 successes\n",
        "                n=10,       # With 10 flips\n",
        "                p=0.5)      # And success probability 0.5"
      ],
      "metadata": {
        "colab": {
          "base_uri": "https://localhost:8080/"
        },
        "id": "l_cLNl42PctF",
        "outputId": "8b90bc3c-b3d1-4605-e77d-870afc45c842"
      },
      "execution_count": 20,
      "outputs": [
        {
          "output_type": "execute_result",
          "data": {
            "text/plain": [
              "0.24609375000000025"
            ]
          },
          "metadata": {},
          "execution_count": 20
        }
      ]
    },
    {
      "cell_type": "code",
      "source": [
        "stats.binom.pmf(k=8,        # Probability of k = 8 successes\n",
        "                n=10,       # With 10 flips\n",
        "                p=0.8)      # And success probability 0.8"
      ],
      "metadata": {
        "colab": {
          "base_uri": "https://localhost:8080/"
        },
        "id": "_rW6FhaAPz73",
        "outputId": "93435dca-e0be-49f4-da3e-92e67999191a"
      },
      "execution_count": 21,
      "outputs": [
        {
          "output_type": "execute_result",
          "data": {
            "text/plain": [
              "0.301989888"
            ]
          },
          "metadata": {},
          "execution_count": 21
        }
      ]
    },
    {
      "cell_type": "markdown",
      "source": [
        "The Geometric and Exponential Distributions"
      ],
      "metadata": {
        "id": "-RlJjDGFP-w-"
      }
    },
    {
      "cell_type": "code",
      "source": [
        "random.seed(12)\n",
        "\n",
        "flips_till_heads = stats.geom.rvs(size=10000,  # Generate geometric data\n",
        "                                  p=0.5)       # With success prob 0.5\n",
        "\n",
        "# Print table of counts\n",
        "print( pd.crosstab(index=\"counts\", columns= flips_till_heads))\n",
        "\n",
        "# Plot histogram\n",
        "pd.DataFrame(flips_till_heads).hist(range=(-0.5,max(flips_till_heads)+0.5)\n",
        "                                    , bins=max(flips_till_heads)+1);"
      ],
      "metadata": {
        "colab": {
          "base_uri": "https://localhost:8080/",
          "height": 605
        },
        "id": "FS7RGBl8P6_p",
        "outputId": "3839caf8-789d-41b7-ae63-68e330f61d42"
      },
      "execution_count": 22,
      "outputs": [
        {
          "output_type": "stream",
          "name": "stdout",
          "text": [
            "col_0     1     2     3    4    5    6   7   8   9   10  11  12  14  15\n",
            "row_0                                                                  \n",
            "counts  4983  2510  1261  603  342  142  71  45  19  14   5   3   1   1\n"
          ]
        },
        {
          "output_type": "display_data",
          "data": {
            "image/png": "[encoded data removed]",
            "text/plain": [
              "<Figure size 648x648 with 1 Axes>"
            ]
          },
          "metadata": {
            "needs_background": "light"
          }
        }
      ]
    },
    {
      "cell_type": "code",
      "source": [
        "random.seed(12)\n",
        "\n",
        "flips_till_heads = stats.geom.rvs(size=10000,  # Generate geometric data\n",
        "                                  p=0.5)       # With success prob 0.5\n",
        "\n",
        "# Print table of counts\n",
        "print( pd.crosstab(index=\"counts\", columns= flips_till_heads))\n",
        "\n",
        "# Plot histogram\n",
        "pd.DataFrame(flips_till_heads).hist(range=(-0.5,max(flips_till_heads)+0.5)\n",
        "                                    , bins=max(flips_till_heads)+1);"
      ],
      "metadata": {
        "colab": {
          "base_uri": "https://localhost:8080/",
          "height": 605
        },
        "id": "v8CtehhuQUxP",
        "outputId": "f4d264f3-a77c-4c79-f5c6-8ac9aaa15552"
      },
      "execution_count": 23,
      "outputs": [
        {
          "output_type": "stream",
          "name": "stdout",
          "text": [
            "col_0     1     2     3    4    5    6   7   8   9   10  11  12  13\n",
            "row_0                                                              \n",
            "counts  4995  2509  1245  635  304  159  77  38  15  13   8   1   1\n"
          ]
        },
        {
          "output_type": "display_data",
          "data": {
            "image/png": "[encoded data removed]",
            "text/plain": [
              "<Figure size 648x648 with 1 Axes>"
            ]
          },
          "metadata": {
            "needs_background": "light"
          }
        }
      ]
    },
    {
      "cell_type": "code",
      "source": [
        "first_five = stats.geom.cdf(k=5,   # Prob of success in first 5 flips\n",
        "                           p=0.5)\n",
        "\n",
        "1 - first_five"
      ],
      "metadata": {
        "colab": {
          "base_uri": "https://localhost:8080/"
        },
        "id": "6r9LcBkdZUnd",
        "outputId": "50f57ee6-89ea-4aba-a887-eb43d4ea5028"
      },
      "execution_count": 25,
      "outputs": [
        {
          "output_type": "execute_result",
          "data": {
            "text/plain": [
              "0.03125"
            ]
          },
          "metadata": {},
          "execution_count": 25
        }
      ]
    },
    {
      "cell_type": "markdown",
      "source": [
        "Use pmf() to check the probability of seeing a specific number of flips before a successes:"
      ],
      "metadata": {
        "id": "PNy9jD7_Zofx"
      }
    },
    {
      "cell_type": "code",
      "source": [
        "stats.geom.pmf(k=2,   # Prob of needing exactly 2 flips to get first success\n",
        "              p=0.5)"
      ],
      "metadata": {
        "colab": {
          "base_uri": "https://localhost:8080/"
        },
        "id": "POiBIPanZg_t",
        "outputId": "daec0a51-2696-47ce-d8bb-eddfa61b94cf"
      },
      "execution_count": 26,
      "outputs": [
        {
          "output_type": "execute_result",
          "data": {
            "text/plain": [
              "0.25"
            ]
          },
          "metadata": {},
          "execution_count": 26
        }
      ]
    },
    {
      "cell_type": "markdown",
      "source": [
        "The scipy name for the exponential distribution is \"expon\". Let's investigate the exponential distribution:"
      ],
      "metadata": {
        "id": "AUFtJVW0Z1Qi"
      }
    },
    {
      "cell_type": "code",
      "source": [
        "# Get the probability of waiting more than 1 time unit before a success\n",
        "\n",
        "prob_1 = stats.expon.cdf(x=1,        \n",
        "                         scale=1)  # Arrival rate\n",
        "\n",
        "1 - prob_1"
      ],
      "metadata": {
        "colab": {
          "base_uri": "https://localhost:8080/"
        },
        "id": "8GaSXH5-ZxCd",
        "outputId": "9c1069a0-eb9d-4edd-8834-82bf908eee80"
      },
      "execution_count": 27,
      "outputs": [
        {
          "output_type": "execute_result",
          "data": {
            "text/plain": [
              "0.36787944117144233"
            ]
          },
          "metadata": {},
          "execution_count": 27
        }
      ]
    },
    {
      "cell_type": "markdown",
      "source": [
        "Let's plot this exponential distribution to get an idea of its shape:"
      ],
      "metadata": {
        "id": "osDMYrZ1aDO-"
      }
    },
    {
      "cell_type": "code",
      "source": [
        "plt.fill_between(x=np.arange(0,1,0.01), \n",
        "                 y1= stats.expon.pdf(np.arange(0,1,0.01)) ,\n",
        "                 facecolor='blue',\n",
        "                 alpha=0.35)\n",
        "\n",
        "plt.fill_between(x=np.arange(1,7,0.01), \n",
        "                 y1= stats.expon.pdf(np.arange(1,7,0.01)) ,\n",
        "                 facecolor='red',\n",
        "                 alpha=0.35)\n",
        "\n",
        "\n",
        "plt.text(x=0.3, y=0.2, s= round(prob_1,3))\n",
        "plt.text(x=1.5, y=0.08, s= round(1 - prob_1,3));"
      ],
      "metadata": {
        "colab": {
          "base_uri": "https://localhost:8080/",
          "height": 537
        },
        "id": "CpRb1iMDZ82S",
        "outputId": "1818b8bd-9c2e-4fc9-8114-29f30c3ea684"
      },
      "execution_count": 28,
      "outputs": [
        {
          "output_type": "display_data",
          "data": {
            "image/png": "[encoded data removed]",
            "text/plain": [
              "<Figure size 648x648 with 1 Axes>"
            ]
          },
          "metadata": {
            "needs_background": "light"
          }
        }
      ]
    },
    {
      "cell_type": "markdown",
      "source": [
        "The Poisson Distribution"
      ],
      "metadata": {
        "id": "eUIjytkTabnf"
      }
    },
    {
      "cell_type": "code",
      "source": [
        "random.seed(12)\n",
        "\n",
        "arrival_rate_1 = stats.poisson.rvs(size=10000,  # Generate Poisson data\n",
        "                                   mu=1 )       # Average arrival time 1\n",
        "\n",
        "# Print table of counts\n",
        "print( pd.crosstab(index=\"counts\", columns= arrival_rate_1))\n",
        "\n",
        "# Plot histogram\n",
        "pd.DataFrame(arrival_rate_1).hist(range=(-0.5,max(arrival_rate_1)+0.5)\n",
        "                                    , bins=max(arrival_rate_1)+1);"
      ],
      "metadata": {
        "colab": {
          "base_uri": "https://localhost:8080/",
          "height": 605
        },
        "id": "Azy6bEL1aL7_",
        "outputId": "28990847-3a68-4cd7-8904-aac693c3597c"
      },
      "execution_count": 29,
      "outputs": [
        {
          "output_type": "stream",
          "name": "stdout",
          "text": [
            "col_0      0     1     2    3    4   5  6  7\n",
            "row_0                                       \n",
            "counts  3754  3593  1850  610  150  39  3  1\n"
          ]
        },
        {
          "output_type": "display_data",
          "data": {
            "image/png": "[encoded data removed]",
            "text/plain": [
              "<Figure size 648x648 with 1 Axes>"
            ]
          },
          "metadata": {
            "needs_background": "light"
          }
        }
      ]
    },
    {
      "cell_type": "code",
      "source": [
        "random.seed(12)\n",
        "\n",
        "arrival_rate_10 = stats.poisson.rvs(size=10000,  # Generate Poisson data\n",
        "                                   mu=10 )       # Average arrival time 10\n",
        "\n",
        "# Print table of counts\n",
        "print( pd.crosstab(index=\"counts\", columns= arrival_rate_10))\n",
        "\n",
        "# Plot histogram\n",
        "pd.DataFrame(arrival_rate_10).hist(range=(-0.5,max(arrival_rate_10)+0.5)\n",
        "                                    , bins=max(arrival_rate_10)+1);"
      ],
      "metadata": {
        "colab": {
          "base_uri": "https://localhost:8080/",
          "height": 640
        },
        "id": "D4giEc4Cak1g",
        "outputId": "786da964-11b8-4ad8-fc39-82b4daaf6fec"
      },
      "execution_count": 30,
      "outputs": [
        {
          "output_type": "stream",
          "name": "stdout",
          "text": [
            "col_0   0   1   2   3    4    5    6    7   ...   16   17  18  19  20  21  22  23\n",
            "row_0                                       ...                                  \n",
            "counts   2   5  24  86  223  361  643  874  ...  220  131  82  25  21   6   3   2\n",
            "\n",
            "[1 rows x 24 columns]\n"
          ]
        },
        {
          "output_type": "display_data",
          "data": {
            "image/png": "[encoded data removed]",
            "text/plain": [
              "<Figure size 648x648 with 1 Axes>"
            ]
          },
          "metadata": {
            "needs_background": "light"
          }
        }
      ]
    },
    {
      "cell_type": "markdown",
      "source": [
        "As with other discrete probability distributions, we can use cdf() to check the probability of achieving more or less than a certain number of successes and pmf() to check the probability of obtaining a specific number of successes:"
      ],
      "metadata": {
        "id": "3i_qCF0MazrE"
      }
    },
    {
      "cell_type": "code",
      "source": [
        "stats.poisson.cdf(k=5,     # Check the probability of 5 arrivals or less\n",
        "                  mu=10)   # With arrival rate 10"
      ],
      "metadata": {
        "colab": {
          "base_uri": "https://localhost:8080/"
        },
        "id": "2IGl7Jpwa0_F",
        "outputId": "0adbce2d-8153-4844-e632-9ba1818ee4bf"
      },
      "execution_count": 31,
      "outputs": [
        {
          "output_type": "execute_result",
          "data": {
            "text/plain": [
              "0.06708596287903189"
            ]
          },
          "metadata": {},
          "execution_count": 31
        }
      ]
    },
    {
      "cell_type": "code",
      "source": [
        "stats.poisson.cdf(k=5,     # Check the probability of 5 arrivals or less\n",
        "                  mu=10)   # With arrival rate 10"
      ],
      "metadata": {
        "colab": {
          "base_uri": "https://localhost:8080/"
        },
        "id": "m4jx-BwLa5x7",
        "outputId": "6db89fa6-6b67-4ad0-9e03-4eba4174bc46"
      },
      "execution_count": 32,
      "outputs": [
        {
          "output_type": "execute_result",
          "data": {
            "text/plain": [
              "0.06708596287903189"
            ]
          },
          "metadata": {},
          "execution_count": 32
        }
      ]
    }
  ]
}