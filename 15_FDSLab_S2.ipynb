{
  "nbformat": 4,
  "nbformat_minor": 0,
  "metadata": {
    "colab": {
      "name": "15_FDSLab S2.ipynb",
      "provenance": []
    },
    "kernelspec": {
      "name": "python3",
      "display_name": "Python 3"
    },
    "language_info": {
      "name": "python"
    }
  },
  "cells": [
    {
      "cell_type": "code",
      "metadata": {
        "colab": {
          "base_uri": "https://localhost:8080/"
        },
        "id": "_bpq9h7laFL7",
        "outputId": "22da1b4b-3bc7-4032-dc41-ccb233fd4892"
      },
      "source": [
        "import numpy as np\n",
        "np.version"
      ],
      "execution_count": null,
      "outputs": [
        {
          "output_type": "execute_result",
          "data": {
            "text/plain": [
              "<module 'numpy.version' from '/usr/local/lib/python3.7/dist-packages/numpy/version.py'>"
            ]
          },
          "metadata": {},
          "execution_count": 20
        }
      ]
    },
    {
      "cell_type": "code",
      "metadata": {
        "colab": {
          "base_uri": "https://localhost:8080/"
        },
        "id": "7zc9wfczb5F2",
        "outputId": "43922574-b8e1-4248-855d-c965e435786c"
      },
      "source": [
        "list1=[]\n",
        "list1\n"
      ],
      "execution_count": null,
      "outputs": [
        {
          "output_type": "execute_result",
          "data": {
            "text/plain": [
              "[]"
            ]
          },
          "metadata": {},
          "execution_count": 11
        }
      ]
    },
    {
      "cell_type": "code",
      "metadata": {
        "colab": {
          "base_uri": "https://localhost:8080/"
        },
        "id": "TQfRK21GcP6s",
        "outputId": "2ef971d2-ad70-46d7-e679-5b1b0e5e37c5"
      },
      "source": [
        "type(list1)"
      ],
      "execution_count": null,
      "outputs": [
        {
          "output_type": "execute_result",
          "data": {
            "text/plain": [
              "list"
            ]
          },
          "metadata": {},
          "execution_count": 12
        }
      ]
    },
    {
      "cell_type": "code",
      "metadata": {
        "colab": {
          "base_uri": "https://localhost:8080/"
        },
        "id": "8zo1YsXgcWmj",
        "outputId": "6be44d21-5d5f-4030-9b93-881af0447c1f"
      },
      "source": [
        "list2=list(range(5))\n",
        "list2"
      ],
      "execution_count": null,
      "outputs": [
        {
          "output_type": "execute_result",
          "data": {
            "text/plain": [
              "[0, 1, 2, 3, 4]"
            ]
          },
          "metadata": {},
          "execution_count": 13
        }
      ]
    },
    {
      "cell_type": "code",
      "metadata": {
        "colab": {
          "base_uri": "https://localhost:8080/"
        },
        "id": "JkYIJsTFcb2C",
        "outputId": "adc91c2a-b359-4c19-b5f1-545880aeda64"
      },
      "source": [
        "list3=list(str(c)for c in list2 )\n",
        "list3\n"
      ],
      "execution_count": null,
      "outputs": [
        {
          "output_type": "execute_result",
          "data": {
            "text/plain": [
              "['0', '1', '2', '3', '4']"
            ]
          },
          "metadata": {},
          "execution_count": 14
        }
      ]
    },
    {
      "cell_type": "code",
      "metadata": {
        "colab": {
          "base_uri": "https://localhost:8080/"
        },
        "id": "-QYOMohWd3RW",
        "outputId": "66421a3b-e338-40cb-995c-91c2718d24e1"
      },
      "source": [
        "list4=[1,10,2,'Amit','c',True]\n",
        "list4"
      ],
      "execution_count": null,
      "outputs": [
        {
          "output_type": "execute_result",
          "data": {
            "text/plain": [
              "[1, 10, 2, 'Amit', 'c', True]"
            ]
          },
          "metadata": {},
          "execution_count": 15
        }
      ]
    },
    {
      "cell_type": "code",
      "metadata": {
        "colab": {
          "base_uri": "https://localhost:8080/"
        },
        "id": "1fcOIUXdeLwj",
        "outputId": "1064db5c-185e-4a79-8d8f-3e077392f215"
      },
      "source": [
        "type(list4)\n",
        "list4"
      ],
      "execution_count": null,
      "outputs": [
        {
          "output_type": "execute_result",
          "data": {
            "text/plain": [
              "[1, 10, 2, 'Amit', 'c', True]"
            ]
          },
          "metadata": {},
          "execution_count": 16
        }
      ]
    },
    {
      "cell_type": "code",
      "metadata": {
        "colab": {
          "base_uri": "https://localhost:8080/"
        },
        "id": "iWIsCSh3fCNL",
        "outputId": "62b32022-693d-4957-f786-4a5a8ad72a03"
      },
      "source": [
        "type(list4)"
      ],
      "execution_count": null,
      "outputs": [
        {
          "output_type": "execute_result",
          "data": {
            "text/plain": [
              "list"
            ]
          },
          "metadata": {},
          "execution_count": 17
        }
      ]
    },
    {
      "cell_type": "code",
      "metadata": {
        "colab": {
          "base_uri": "https://localhost:8080/"
        },
        "id": "3GCjvR5AfLTr",
        "outputId": "f9a815c8-8d55-4446-f371-ad738fbb6b56"
      },
      "source": [
        "[type(item)for item in list4]"
      ],
      "execution_count": null,
      "outputs": [
        {
          "output_type": "execute_result",
          "data": {
            "text/plain": [
              "[int, int, int, str, str, bool]"
            ]
          },
          "metadata": {},
          "execution_count": 18
        }
      ]
    },
    {
      "cell_type": "code",
      "metadata": {
        "colab": {
          "base_uri": "https://localhost:8080/"
        },
        "id": "mvzqMgsefhW0",
        "outputId": "34c24e3b-8521-406b-e956-f5ab0c5ffd53"
      },
      "source": [
        "import array\n",
        "L=list(range(10))\n",
        "A=array.array('i',L)\n",
        "A"
      ],
      "execution_count": null,
      "outputs": [
        {
          "output_type": "execute_result",
          "data": {
            "text/plain": [
              "array('i', [0, 1, 2, 3, 4, 5, 6, 7, 8, 9])"
            ]
          },
          "metadata": {},
          "execution_count": 21
        }
      ]
    },
    {
      "cell_type": "code",
      "metadata": {
        "colab": {
          "base_uri": "https://localhost:8080/"
        },
        "id": "fRPcVTXYiwMY",
        "outputId": "4cf2fd03-63e3-4a8d-dc53-8bbb29b76d1e"
      },
      "source": [
        "import numpy as np\n",
        "np.array([1,4,2,5,3])"
      ],
      "execution_count": null,
      "outputs": [
        {
          "output_type": "execute_result",
          "data": {
            "text/plain": [
              "array([1, 4, 2, 5, 3])"
            ]
          },
          "metadata": {},
          "execution_count": 22
        }
      ]
    },
    {
      "cell_type": "code",
      "metadata": {
        "colab": {
          "base_uri": "https://localhost:8080/"
        },
        "id": "Fg2nLt_0kCCn",
        "outputId": "1237ed3e-3bb6-4a82-be3c-478cb7fae2e4"
      },
      "source": [
        "#Automatic Conversion of values\n",
        "np.array([10.1,2,3,4])"
      ],
      "execution_count": null,
      "outputs": [
        {
          "output_type": "execute_result",
          "data": {
            "text/plain": [
              "array([10.1,  2. ,  3. ,  4. ])"
            ]
          },
          "metadata": {},
          "execution_count": 23
        }
      ]
    },
    {
      "cell_type": "code",
      "metadata": {
        "colab": {
          "base_uri": "https://localhost:8080/"
        },
        "id": "7guOWhfpkU6g",
        "outputId": "774905d3-4b08-44f4-fd1f-e1f63f56b88a"
      },
      "source": [
        "np.array([1,2,3,4],dtype='float32')"
      ],
      "execution_count": null,
      "outputs": [
        {
          "output_type": "execute_result",
          "data": {
            "text/plain": [
              "array([1., 2., 3., 4.], dtype=float32)"
            ]
          },
          "metadata": {},
          "execution_count": 24
        }
      ]
    },
    {
      "cell_type": "code",
      "metadata": {
        "colab": {
          "base_uri": "https://localhost:8080/"
        },
        "id": "BSn-HjvakpQo",
        "outputId": "01587e03-62b4-4bde-9b88-21a4f5f1cf8e"
      },
      "source": [
        "np.array([range(i,i+3)for i in [2,4,6]])"
      ],
      "execution_count": null,
      "outputs": [
        {
          "output_type": "execute_result",
          "data": {
            "text/plain": [
              "array([[2, 3, 4],\n",
              "       [4, 5, 6],\n",
              "       [6, 7, 8]])"
            ]
          },
          "metadata": {},
          "execution_count": 25
        }
      ]
    },
    {
      "cell_type": "code",
      "metadata": {
        "colab": {
          "base_uri": "https://localhost:8080/"
        },
        "id": "O461uHLglbd-",
        "outputId": "d3f9e74c-4db6-4fc2-8b4f-0bf0b41baac3"
      },
      "source": [
        "np.zeros(10,dtype=int)"
      ],
      "execution_count": null,
      "outputs": [
        {
          "output_type": "execute_result",
          "data": {
            "text/plain": [
              "array([0, 0, 0, 0, 0, 0, 0, 0, 0, 0])"
            ]
          },
          "metadata": {},
          "execution_count": 26
        }
      ]
    },
    {
      "cell_type": "code",
      "metadata": {
        "colab": {
          "base_uri": "https://localhost:8080/"
        },
        "id": "8ak0otSvmCmv",
        "outputId": "ec5d4fdf-7ff1-4153-ed8d-00e2d30b8338"
      },
      "source": [
        "np.zeros((2,5),dtype=float)"
      ],
      "execution_count": null,
      "outputs": [
        {
          "output_type": "execute_result",
          "data": {
            "text/plain": [
              "array([[0., 0., 0., 0., 0.],\n",
              "       [0., 0., 0., 0., 0.]])"
            ]
          },
          "metadata": {},
          "execution_count": 27
        }
      ]
    },
    {
      "cell_type": "code",
      "metadata": {
        "colab": {
          "base_uri": "https://localhost:8080/"
        },
        "id": "E0MQUYvbmr0n",
        "outputId": "8b1a22b8-45f6-4fa2-b841-e6e0a2b78f55"
      },
      "source": [
        "np.ones((2,5),dtype=float)"
      ],
      "execution_count": null,
      "outputs": [
        {
          "output_type": "execute_result",
          "data": {
            "text/plain": [
              "array([[1., 1., 1., 1., 1.],\n",
              "       [1., 1., 1., 1., 1.]])"
            ]
          },
          "metadata": {},
          "execution_count": 28
        }
      ]
    },
    {
      "cell_type": "code",
      "metadata": {
        "colab": {
          "base_uri": "https://localhost:8080/"
        },
        "id": "j8Iqn7Xhm7_v",
        "outputId": "512f4487-c0b3-4446-c4b1-8efb916e2778"
      },
      "source": [
        "np.full((3,5),3.0)"
      ],
      "execution_count": null,
      "outputs": [
        {
          "output_type": "execute_result",
          "data": {
            "text/plain": [
              "array([[3., 3., 3., 3., 3.],\n",
              "       [3., 3., 3., 3., 3.],\n",
              "       [3., 3., 3., 3., 3.]])"
            ]
          },
          "metadata": {},
          "execution_count": 29
        }
      ]
    },
    {
      "cell_type": "code",
      "metadata": {
        "colab": {
          "base_uri": "https://localhost:8080/"
        },
        "id": "eABiTmVMnJ-Z",
        "outputId": "265f5762-73d5-4e02-aaf2-bb74da481435"
      },
      "source": [
        "np.arange(0,20,2)"
      ],
      "execution_count": null,
      "outputs": [
        {
          "output_type": "execute_result",
          "data": {
            "text/plain": [
              "array([ 0,  2,  4,  6,  8, 10, 12, 14, 16, 18])"
            ]
          },
          "metadata": {},
          "execution_count": 31
        }
      ]
    },
    {
      "cell_type": "code",
      "metadata": {
        "colab": {
          "base_uri": "https://localhost:8080/"
        },
        "id": "XdHcRCntnlJg",
        "outputId": "7f53ba3a-3112-4e88-a91b-ecfa2ab24844"
      },
      "source": [
        "np.arange(0,20,3)"
      ],
      "execution_count": null,
      "outputs": [
        {
          "output_type": "execute_result",
          "data": {
            "text/plain": [
              "array([ 0,  3,  6,  9, 12, 15, 18])"
            ]
          },
          "metadata": {},
          "execution_count": 32
        }
      ]
    },
    {
      "cell_type": "code",
      "metadata": {
        "colab": {
          "base_uri": "https://localhost:8080/"
        },
        "id": "2kJE4gwdn01C",
        "outputId": "c831a9e6-9270-4e36-ec24-400263341929"
      },
      "source": [
        "#0 to 2 create 4 elements 0.0,0.5,1.0,1.5\n",
        "#creation of an array of evenly spaced values for the given range\n",
        "np.linspace(0,1,5)"
      ],
      "execution_count": null,
      "outputs": [
        {
          "output_type": "execute_result",
          "data": {
            "text/plain": [
              "array([0.  , 0.25, 0.5 , 0.75, 1.  ])"
            ]
          },
          "metadata": {},
          "execution_count": 33
        }
      ]
    },
    {
      "cell_type": "code",
      "metadata": {
        "colab": {
          "base_uri": "https://localhost:8080/"
        },
        "id": "59jXEiKpozWH",
        "outputId": "fdb7a717-ff80-4b82-9027-1833faf54162"
      },
      "source": [
        "np.random.random((3,4))"
      ],
      "execution_count": null,
      "outputs": [
        {
          "output_type": "execute_result",
          "data": {
            "text/plain": [
              "array([[0.54619712, 0.44179984, 0.94773772, 0.48073488],\n",
              "       [0.27604243, 0.0982058 , 0.4201837 , 0.79327545],\n",
              "       [0.50253166, 0.6239651 , 0.48954873, 0.14217717]])"
            ]
          },
          "metadata": {},
          "execution_count": 35
        }
      ]
    },
    {
      "cell_type": "code",
      "metadata": {
        "colab": {
          "base_uri": "https://localhost:8080/"
        },
        "id": "IzqfPx7opUwo",
        "outputId": "b8b3fe0a-72e4-4bd8-e409-cdb3cca1e1f1"
      },
      "source": [
        "np.random.normal(0,1,(3,3))"
      ],
      "execution_count": null,
      "outputs": [
        {
          "output_type": "execute_result",
          "data": {
            "text/plain": [
              "array([[ 0.4390449 ,  1.4050367 , -1.52428013],\n",
              "       [-1.90908082,  0.86840782, -1.90106816],\n",
              "       [-0.42326234,  0.46213544,  1.96451359]])"
            ]
          },
          "metadata": {},
          "execution_count": 36
        }
      ]
    },
    {
      "cell_type": "code",
      "metadata": {
        "colab": {
          "base_uri": "https://localhost:8080/"
        },
        "id": "DqQLN97Qpx3A",
        "outputId": "d4c876e0-eb32-4bb1-fe26-434057acb5b1"
      },
      "source": [
        "np.random.randint(0,10,(3,3))"
      ],
      "execution_count": null,
      "outputs": [
        {
          "output_type": "execute_result",
          "data": {
            "text/plain": [
              "array([[0, 8, 9],\n",
              "       [5, 6, 0],\n",
              "       [7, 3, 3]])"
            ]
          },
          "metadata": {},
          "execution_count": 37
        }
      ]
    },
    {
      "cell_type": "code",
      "metadata": {
        "colab": {
          "base_uri": "https://localhost:8080/"
        },
        "id": "w6qCCGqpqHLn",
        "outputId": "641e9251-af3a-4875-a66a-580076e5add4"
      },
      "source": [
        "np.eye(3)"
      ],
      "execution_count": null,
      "outputs": [
        {
          "output_type": "execute_result",
          "data": {
            "text/plain": [
              "array([[1., 0., 0.],\n",
              "       [0., 1., 0.],\n",
              "       [0., 0., 1.]])"
            ]
          },
          "metadata": {},
          "execution_count": 38
        }
      ]
    },
    {
      "cell_type": "code",
      "metadata": {
        "colab": {
          "base_uri": "https://localhost:8080/"
        },
        "id": "Z6igsi00qSE4",
        "outputId": "346f0d02-c6b9-4a6b-be14-f43dbb8c5c68"
      },
      "source": [
        "np.empty(3)"
      ],
      "execution_count": null,
      "outputs": [
        {
          "output_type": "execute_result",
          "data": {
            "text/plain": [
              "array([1., 1., 1.])"
            ]
          },
          "metadata": {},
          "execution_count": 39
        }
      ]
    },
    {
      "cell_type": "code",
      "metadata": {
        "colab": {
          "base_uri": "https://localhost:8080/"
        },
        "id": "Ej8m2_0iqh_K",
        "outputId": "d56b8888-3df1-4f0b-f446-3a9f9f04f55e"
      },
      "source": [
        "import numpy as np\n",
        "np.random.seed(40)\n",
        "x1=np.random.randint(10,size=6)\n",
        "x1"
      ],
      "execution_count": null,
      "outputs": [
        {
          "output_type": "execute_result",
          "data": {
            "text/plain": [
              "array([6, 7, 5, 8, 8, 2])"
            ]
          },
          "metadata": {},
          "execution_count": 41
        }
      ]
    },
    {
      "cell_type": "code",
      "metadata": {
        "colab": {
          "base_uri": "https://localhost:8080/"
        },
        "id": "irvPQsBFsHUZ",
        "outputId": "32fd1758-138e-4742-c3b4-bd64420d8817"
      },
      "source": [
        "import numpy as np\n",
        "np.random.seed(100)\n",
        "x2=np.random.randint(200,size=(2,4,2,2,3))\n",
        "x2"
      ],
      "execution_count": null,
      "outputs": [
        {
          "output_type": "execute_result",
          "data": {
            "text/plain": [
              "array([[[[[  8,  24,  67],\n",
              "          [103,  87,  79]],\n",
              "\n",
              "         [[176, 138,  94],\n",
              "          [180,  98,  53]]],\n",
              "\n",
              "\n",
              "        [[[ 66,  14,  34],\n",
              "          [ 24, 143, 107]],\n",
              "\n",
              "         [[ 60,  58, 144],\n",
              "          [137,  93,  86]]],\n",
              "\n",
              "\n",
              "        [[[130, 155, 108],\n",
              "          [132, 159, 129]],\n",
              "\n",
              "         [[141, 100,   4],\n",
              "          [ 91, 187,  67]]],\n",
              "\n",
              "\n",
              "        [[[135,  49, 175],\n",
              "          [193,  61,  14]],\n",
              "\n",
              "         [[183, 199,  80],\n",
              "          [  2, 121, 105]]]],\n",
              "\n",
              "\n",
              "\n",
              "       [[[[147,  63, 181],\n",
              "          [ 27,  56, 113]],\n",
              "\n",
              "         [[158, 176,  47],\n",
              "          [167, 109,  38]]],\n",
              "\n",
              "\n",
              "        [[[172,  18, 192],\n",
              "          [184, 162, 181]],\n",
              "\n",
              "         [[ 17,  72,  13],\n",
              "          [106,  30,  17]]],\n",
              "\n",
              "\n",
              "        [[[ 53,  68, 178],\n",
              "          [ 91, 181,  78]],\n",
              "\n",
              "         [[  0,  13, 185],\n",
              "          [106, 131,  70]]],\n",
              "\n",
              "\n",
              "        [[[131, 138, 188],\n",
              "          [131, 105, 176]],\n",
              "\n",
              "         [[180,  43,  36],\n",
              "          [  5,  71,  38]]]]])"
            ]
          },
          "metadata": {},
          "execution_count": 45
        }
      ]
    },
    {
      "cell_type": "code",
      "metadata": {
        "colab": {
          "base_uri": "https://localhost:8080/"
        },
        "id": "rnjSOVa7r84v",
        "outputId": "4830bc3c-bdc6-4095-a60a-a0993d767a07"
      },
      "source": [
        "x2.shape"
      ],
      "execution_count": null,
      "outputs": [
        {
          "output_type": "execute_result",
          "data": {
            "text/plain": [
              "(2, 4, 2, 2, 3)"
            ]
          },
          "metadata": {},
          "execution_count": 46
        }
      ]
    },
    {
      "cell_type": "code",
      "metadata": {
        "colab": {
          "base_uri": "https://localhost:8080/"
        },
        "id": "Vq7sBUHuwBCY",
        "outputId": "1f17bb1b-d630-4763-b4bc-f70d83ae6775"
      },
      "source": [
        "x2.ndim"
      ],
      "execution_count": null,
      "outputs": [
        {
          "output_type": "execute_result",
          "data": {
            "text/plain": [
              "5"
            ]
          },
          "metadata": {},
          "execution_count": 47
        }
      ]
    },
    {
      "cell_type": "code",
      "metadata": {
        "colab": {
          "base_uri": "https://localhost:8080/"
        },
        "id": "Zr6xwXH_wTF9",
        "outputId": "3e803611-a75f-449d-b5ae-8ccacc3cf6d2"
      },
      "source": [
        "x2.size"
      ],
      "execution_count": null,
      "outputs": [
        {
          "output_type": "execute_result",
          "data": {
            "text/plain": [
              "96"
            ]
          },
          "metadata": {},
          "execution_count": 48
        }
      ]
    },
    {
      "cell_type": "code",
      "metadata": {
        "colab": {
          "base_uri": "https://localhost:8080/"
        },
        "id": "OIJy8KwOwdhg",
        "outputId": "22af04dc-bbb8-43de-f7db-423a2d9ec3e8"
      },
      "source": [
        "x2.nbytes"
      ],
      "execution_count": null,
      "outputs": [
        {
          "output_type": "execute_result",
          "data": {
            "text/plain": [
              "768"
            ]
          },
          "metadata": {},
          "execution_count": 49
        }
      ]
    },
    {
      "cell_type": "code",
      "metadata": {
        "colab": {
          "base_uri": "https://localhost:8080/"
        },
        "id": "ha5GK0hIwizV",
        "outputId": "c6827554-6b60-4058-91ae-7302a31b1803"
      },
      "source": [
        "x2.itemsize"
      ],
      "execution_count": null,
      "outputs": [
        {
          "output_type": "execute_result",
          "data": {
            "text/plain": [
              "8"
            ]
          },
          "metadata": {},
          "execution_count": 50
        }
      ]
    },
    {
      "cell_type": "code",
      "metadata": {
        "id": "QFeORR0JwpQ7"
      },
      "source": [
        ""
      ],
      "execution_count": null,
      "outputs": []
    }
  ]
}